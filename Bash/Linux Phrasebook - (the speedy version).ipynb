{
 "cells": [
  {
   "cell_type": "markdown",
   "metadata": {},
   "source": [
    "# Linux Phrasebook - (the speedy version)"
   ]
  },
  {
   "cell_type": "markdown",
   "metadata": {},
   "source": [
    "- [Navigating, Creating and building blocks](#Navigating,-Creating-and-building-blocks)\n",
    " - [ls](#ls)\n",
    " - [pwd](#pwd)\n",
    " - [touch](#touch)\n",
    " - [cd](#cd)\n",
    " - [mv](#mv)\n",
    " - [mkdir](#mkdir)\n",
    " - [cp](#cp)\n",
    " - [wild cards](#wild-cards)\n",
    " - [ln](#ln)\n",
    " - [rm](#rm)\n",
    " - [man](#man)\n",
    " - [info](#info)\n",
    " - [whereis](#whereis)\n",
    " - [which](#which)\n",
    " - [type](#type)\n",
    " - [operators](#operators)\n",
    " - [cat](#cat)\n",
    " - [file](#file)\n",
    " - [less](#less)\n",
    " - [head](#head)\n",
    " - [tail](#tail) \n",
    "- [Examples for Navigating, Creating and building blocks](#Examples-for-Navigating,-Creating-and-building-blocks)\n",
    "- [Manipulating Text files](#Manipulating-text-files)\n",
    " - [wc](#wc)\n",
    " - [nl](#nl)\n",
    " - [cut](#cut)\n",
    " - [sort](#sort)\n",
    " - [uniq](#uniq)\n",
    " - [tr](#tr)\n",
    " - [sed](#sed)\n",
    " - [awk](#awk)\n",
    "- [Examples for Manipulating text files](#Examples-for-Manipulating-text-files)"
   ]
  },
  {
   "cell_type": "markdown",
   "metadata": {},
   "source": [
    "### Key Notes"
   ]
  },
  {
   "cell_type": "markdown",
   "metadata": {},
   "source": [
    " 1. If you are note sure try `man <cmd>`"
   ]
  },
  {
   "cell_type": "markdown",
   "metadata": {},
   "source": [
    "## Navigating, Creating and building blocks"
   ]
  },
  {
   "cell_type": "markdown",
   "metadata": {
    "slideshow": {
     "slide_type": "fragment"
    }
   },
   "source": [
    "For the first few commands i will define them and then give examples all together to see how they can be used in conjunction"
   ]
  },
  {
   "cell_type": "markdown",
   "metadata": {},
   "source": [
    "### ls\n",
    "\n",
    "List files\n",
    " - `-a` all files including \".xxx\"\n",
    " - `-l` lond description\n",
    " - `-G` show colors (only on mac)\n",
    " - `-F` shows file types\n",
    " - `-S` sort by file size\n",
    " - `-h` human readable size (when using l)\n",
    " - `-r` reverse the order\n",
    " - `-1` just 1 column\n",
    " - `-t` sort by time\n",
    " \n",
    "For more see `man ls` as usual"
   ]
  },
  {
   "cell_type": "markdown",
   "metadata": {},
   "source": [
    "### pwd\n",
    "\n",
    " - `-P` if inside a soft link it shows the physical location\n",
    "Print current working directory"
   ]
  },
  {
   "cell_type": "markdown",
   "metadata": {},
   "source": [
    "### touch\n",
    "\n",
    "Updates file modify time (creates empty file if not there)"
   ]
  },
  {
   "cell_type": "markdown",
   "metadata": {},
   "source": [
    "### cd\n",
    "\n",
    "Change Directory\n",
    "\n",
    " - `cd -` goes to previous location"
   ]
  },
  {
   "cell_type": "markdown",
   "metadata": {},
   "source": [
    "### mv\n",
    "\n",
    "Move file (often used to rename) `mv src destination`\n",
    " - `-i` ask before overwrite"
   ]
  },
  {
   "cell_type": "markdown",
   "metadata": {},
   "source": [
    "### mkdir\n",
    "\n",
    "Makes a directory or directories\n",
    " - `-p` makes parents as well"
   ]
  },
  {
   "cell_type": "markdown",
   "metadata": {},
   "source": [
    "### cp\n",
    "\n",
    "Copies a file \n",
    " - `-i` ask before ovewriting\n",
    " - `-a` archives same as `-pPR` where p copies attributes e.g. time, R is recursive, P stops following soft links"
   ]
  },
  {
   "cell_type": "markdown",
   "metadata": {},
   "source": [
    "### wild cards\n",
    "\n",
    " - `*` matches all\n",
    " - `[x,ta-c]` matches any of x, comma, t, a, b and c\n",
    " - `{zebra, time}` matches any of \"zebra\" or \"time\"\n",
    " - `{1..10}` matches any of 1, 2, 3, ..., 10\n",
    " \n",
    "Use with any of `cp`, `rm`, `mv`, `ls`, ..."
   ]
  },
  {
   "cell_type": "markdown",
   "metadata": {},
   "source": [
    "### ln\n",
    "\n",
    "Create a link\n",
    " - `-s` make link symbolic so it is a seprate i node but points to the other (if the other file is moved this will break). A normal hard link points to the same inode (same memeory) "
   ]
  },
  {
   "cell_type": "markdown",
   "metadata": {},
   "source": [
    "### rm\n",
    "\n",
    "Remove files (remember folders are files)\n",
    " - `-i` ask before deleting\n",
    " - `-r` recursive for folders\n",
    " - `-f` force"
   ]
  },
  {
   "cell_type": "markdown",
   "metadata": {},
   "source": [
    "### man\n",
    "\n",
    "Manual for command\n",
    " - when in man hit \"/\" to open search prompt then \"enter\" to search. Use \"n\" and \"shift+n\" to move through results\n",
    " - \"q\" to quit"
   ]
  },
  {
   "cell_type": "markdown",
   "metadata": {},
   "source": [
    "### info\n",
    "\n",
    "Similar to man but with more detail"
   ]
  },
  {
   "cell_type": "markdown",
   "metadata": {},
   "source": [
    "### whereis\n",
    "\n",
    "Shows where src, binaries and man are on disk\n",
    " - `-s` for source\n",
    " - `-b` for binaries\n",
    " - `-m` for man"
   ]
  },
  {
   "cell_type": "markdown",
   "metadata": {},
   "source": [
    "### which\n",
    "\n",
    "Shows which executable is executed in path"
   ]
  },
  {
   "cell_type": "markdown",
   "metadata": {},
   "source": [
    "### type\n",
    "\n",
    "Shows the alias definition"
   ]
  },
  {
   "cell_type": "markdown",
   "metadata": {},
   "source": [
    "### operators\n",
    "\n",
    " - `;` use to run commands sequentially\n",
    " - `&&` use to run commands sequentially if exit code == 0\n",
    " - `||` use to run commands sequentially if exit code != 0\n",
    " - `$(<command>)` use to run command in sub shell\n",
    "   - `0` stdin\n",
    "   - `1` stdout\n",
    "   - `2` stderr\n",
    " - `|` pipe output of one command into another\n",
    " - `>` redirect stdout into file\n",
    " - `2`> redirect stderror\n",
    " - `<` redirect stdin\n"
   ]
  },
  {
   "cell_type": "markdown",
   "metadata": {},
   "source": [
    "### cat\n",
    "\n",
    "Concatenate files into stdout. Often used to read just one file\n",
    " - `-n` add line numbers"
   ]
  },
  {
   "cell_type": "markdown",
   "metadata": {},
   "source": [
    "### file\n",
    "\n",
    "Describe file type"
   ]
  },
  {
   "cell_type": "markdown",
   "metadata": {},
   "source": [
    "### less\n",
    "\n",
    "Page through a file\n",
    " - up and down or "
   ]
  },
  {
   "cell_type": "markdown",
   "metadata": {},
   "source": [
    "### head\n",
    "\n",
    "Show first 10 lines of file\n",
    " - `-n` specify number of lines"
   ]
  },
  {
   "cell_type": "markdown",
   "metadata": {},
   "source": [
    "### tail\n",
    "\n",
    "Show last 10 lines of file\n",
    " - `-n` specify number of lines"
   ]
  },
  {
   "cell_type": "markdown",
   "metadata": {},
   "source": [
    "## Examples for Navigating, Creating and building blocks"
   ]
  },
  {
   "cell_type": "code",
   "execution_count": 1,
   "metadata": {},
   "outputs": [
    {
     "name": "stdout",
     "output_type": "stream",
     "text": [
      "/Users/simon.ward-jones/Documents/General_Repos/ForgetCode/Bash\n"
     ]
    }
   ],
   "source": [
    "pwd"
   ]
  },
  {
   "cell_type": "code",
   "execution_count": 2,
   "metadata": {},
   "outputs": [],
   "source": [
    "mkdir learn-linux"
   ]
  },
  {
   "cell_type": "code",
   "execution_count": 3,
   "metadata": {},
   "outputs": [],
   "source": [
    "cd learn-linux"
   ]
  },
  {
   "cell_type": "code",
   "execution_count": 4,
   "metadata": {},
   "outputs": [
    {
     "name": "stdout",
     "output_type": "stream",
     "text": [
      "/Users/simon.ward-jones/Documents/General_Repos/ForgetCode/Bash/learn-linux\n"
     ]
    }
   ],
   "source": [
    "pwd"
   ]
  },
  {
   "cell_type": "code",
   "execution_count": 5,
   "metadata": {},
   "outputs": [],
   "source": [
    "mkdir example-folder-{1..10}"
   ]
  },
  {
   "cell_type": "code",
   "execution_count": 6,
   "metadata": {},
   "outputs": [
    {
     "name": "stdout",
     "output_type": "stream",
     "text": [
      "total 0\n",
      "drwxr-xr-x   7 simon.ward-jones  staff  224 10 Aug 08:45 \u001b[34m..\u001b[39;49m\u001b[0m/\n",
      "drwxr-xr-x   2 simon.ward-jones  staff   64 10 Aug 08:45 \u001b[34mexample-folder-1\u001b[39;49m\u001b[0m/\n",
      "drwxr-xr-x   2 simon.ward-jones  staff   64 10 Aug 08:45 \u001b[34mexample-folder-2\u001b[39;49m\u001b[0m/\n",
      "drwxr-xr-x   2 simon.ward-jones  staff   64 10 Aug 08:45 \u001b[34mexample-folder-3\u001b[39;49m\u001b[0m/\n",
      "drwxr-xr-x   2 simon.ward-jones  staff   64 10 Aug 08:45 \u001b[34mexample-folder-4\u001b[39;49m\u001b[0m/\n",
      "drwxr-xr-x   2 simon.ward-jones  staff   64 10 Aug 08:45 \u001b[34mexample-folder-5\u001b[39;49m\u001b[0m/\n",
      "drwxr-xr-x   2 simon.ward-jones  staff   64 10 Aug 08:45 \u001b[34mexample-folder-6\u001b[39;49m\u001b[0m/\n",
      "drwxr-xr-x   2 simon.ward-jones  staff   64 10 Aug 08:45 \u001b[34mexample-folder-7\u001b[39;49m\u001b[0m/\n",
      "drwxr-xr-x   2 simon.ward-jones  staff   64 10 Aug 08:45 \u001b[34mexample-folder-8\u001b[39;49m\u001b[0m/\n",
      "drwxr-xr-x   2 simon.ward-jones  staff   64 10 Aug 08:45 \u001b[34mexample-folder-9\u001b[39;49m\u001b[0m/\n",
      "drwxr-xr-x   2 simon.ward-jones  staff   64 10 Aug 08:45 \u001b[34mexample-folder-10\u001b[39;49m\u001b[0m/\n",
      "drwxr-xr-x  12 simon.ward-jones  staff  384 10 Aug 08:45 \u001b[34m.\u001b[39;49m\u001b[0m/\n"
     ]
    }
   ],
   "source": [
    "ls -laFGtr"
   ]
  },
  {
   "cell_type": "code",
   "execution_count": 7,
   "metadata": {},
   "outputs": [],
   "source": [
    "rm -r e*{2..10}"
   ]
  },
  {
   "cell_type": "code",
   "execution_count": 8,
   "metadata": {},
   "outputs": [
    {
     "name": "stdout",
     "output_type": "stream",
     "text": [
      "example-folder-1\n"
     ]
    }
   ],
   "source": [
    "ls"
   ]
  },
  {
   "cell_type": "code",
   "execution_count": 9,
   "metadata": {},
   "outputs": [],
   "source": [
    "mkdir -p \"deep/folders/are_possible\""
   ]
  },
  {
   "cell_type": "code",
   "execution_count": 10,
   "metadata": {},
   "outputs": [
    {
     "name": "stdout",
     "output_type": "stream",
     "text": [
      ".\n",
      "├── deep\n",
      "│   └── folders\n",
      "│       └── are_possible\n",
      "└── example-folder-1\n",
      "\n",
      "4 directories, 0 files\n"
     ]
    }
   ],
   "source": [
    "tree ."
   ]
  },
  {
   "cell_type": "code",
   "execution_count": 11,
   "metadata": {},
   "outputs": [],
   "source": [
    "ln -s example-folder-1 deep/folders/are_possible/soft-link"
   ]
  },
  {
   "cell_type": "code",
   "execution_count": 12,
   "metadata": {},
   "outputs": [],
   "source": [
    "touch zebra.txt"
   ]
  },
  {
   "cell_type": "code",
   "execution_count": 13,
   "metadata": {},
   "outputs": [],
   "source": [
    "echo \"The quick brown\n",
    "fox jumped over\n",
    "the lazy dog\" > all_the_letters.txt"
   ]
  },
  {
   "cell_type": "code",
   "execution_count": 14,
   "metadata": {},
   "outputs": [],
   "source": [
    "cat < all_the_letters.txt > all_the_letters_with_lines.txt -n"
   ]
  },
  {
   "cell_type": "code",
   "execution_count": 15,
   "metadata": {},
   "outputs": [
    {
     "name": "stdout",
     "output_type": "stream",
     "text": [
      "     1\tThe quick brown\n",
      "     2\tfox jumped over\n",
      "     3\tthe lazy dog\n"
     ]
    }
   ],
   "source": [
    "cat all_the_letters_with_lines.txt"
   ]
  },
  {
   "cell_type": "code",
   "execution_count": 16,
   "metadata": {},
   "outputs": [],
   "source": [
    "cp zebra.txt ./deep"
   ]
  },
  {
   "cell_type": "code",
   "execution_count": 17,
   "metadata": {},
   "outputs": [
    {
     "name": "stdout",
     "output_type": "stream",
     "text": [
      ".\n",
      "├── all_the_letters.txt\n",
      "├── all_the_letters_with_lines.txt\n",
      "├── deep/\n",
      "│   ├── folders/\n",
      "│   │   └── are_possible/\n",
      "│   │       └── soft-link -> example-folder-1\n",
      "│   └── zebra.txt\n",
      "├── example-folder-1/\n",
      "└── zebra.txt\n",
      "\n",
      "4 directories, 5 files\n"
     ]
    }
   ],
   "source": [
    "tree -F"
   ]
  },
  {
   "cell_type": "code",
   "execution_count": 18,
   "metadata": {},
   "outputs": [],
   "source": [
    "cat << EOF > example_csv.csv \n",
    ",date_time,animal,category,name,weight,favourite_integer,bad_column,employed\n",
    "0,2018-03-02,zebra,stripy,Walter,98.98282714754193,71,,False\n",
    "1,2017-10-14,zebra,stripy,Edmund,106.2989001062902,0,3,False\n",
    "2,2018-05-18,zebra,stripy,Gyles,106.65641884499352,84,,False\n",
    "3,2017-10-04,zebra,stripy,John,85.70401411701471,79,1,True\n",
    "4,2018-05-01,lion,dangerous,Bartholomew,80.43441772360272,18,,True\n",
    "5,2017-12-30,lion,dangerous,Frederyk,94.99017968253457,56,2,False\n",
    "6,2018-04-03,lion,dangerous,Raulf,90.96192557913325,47,23,False\n",
    "7,2018-02-03,lion,dangerous,Symond,112.41392208940334,20,2,False\n",
    "8,2018-06-04,rhino,dangerous,Carlos,107.62370612154739,43,3,False\n",
    "9,2018-08-08,rhino,dangerous,Arthur,104.05828154910932,26,3,False\n",
    "EOF"
   ]
  },
  {
   "cell_type": "code",
   "execution_count": 19,
   "metadata": {},
   "outputs": [
    {
     "name": "stdout",
     "output_type": "stream",
     "text": [
      "==> example_csv.csv <==\n",
      ",date_time,animal,category,name,weight,favourite_integer,bad_column,employed\n",
      "0,2018-03-02,zebra,stripy,Walter,98.98282714754193,71,,False\n",
      "\n",
      "==> all_the_letters.txt <==\n",
      "The quick brown\n",
      "fox jumped over\n"
     ]
    }
   ],
   "source": [
    "head -n 2 example_csv.csv all_the_letters.txt"
   ]
  },
  {
   "cell_type": "code",
   "execution_count": 20,
   "metadata": {},
   "outputs": [],
   "source": [
    "mv example_csv.csv animal_data.csv"
   ]
  },
  {
   "cell_type": "code",
   "execution_count": 21,
   "metadata": {},
   "outputs": [
    {
     "name": "stdout",
     "output_type": "stream",
     "text": [
      ".\n",
      "├── all_the_letters.txt\n",
      "├── all_the_letters_with_lines.txt\n",
      "├── animal_data.csv\n",
      "├── deep/\n",
      "│   ├── folders/\n",
      "│   │   └── are_possible/\n",
      "│   │       └── soft-link -> example-folder-1\n",
      "│   └── zebra.txt\n",
      "├── example-folder-1/\n",
      "└── zebra.txt\n",
      "\n",
      "4 directories, 6 files\n"
     ]
    }
   ],
   "source": [
    "tree -F"
   ]
  },
  {
   "cell_type": "code",
   "execution_count": 22,
   "metadata": {},
   "outputs": [
    {
     "name": "stdout",
     "output_type": "stream",
     "text": [
      "Files starting with a or z:\n",
      "\n",
      "all_the_letters.txt\n",
      "all_the_letters_with_lines.txt\n",
      "animal_data.csv\n",
      "zebra.txt\n"
     ]
    }
   ],
   "source": [
    "echo Files starting with a or z:\n",
    "echo\n",
    "ls -1 [az]*"
   ]
  },
  {
   "cell_type": "code",
   "execution_count": 23,
   "metadata": {},
   "outputs": [
    {
     "name": "stdout",
     "output_type": "stream",
     "text": [
      "/usr/local/bin/python3\n"
     ]
    }
   ],
   "source": [
    "which python3"
   ]
  },
  {
   "cell_type": "code",
   "execution_count": 24,
   "metadata": {},
   "outputs": [
    {
     "name": "stdout",
     "output_type": "stream",
     "text": [
      "/bin/bash\n"
     ]
    }
   ],
   "source": [
    "whereis bash"
   ]
  },
  {
   "cell_type": "code",
   "execution_count": 25,
   "metadata": {},
   "outputs": [
    {
     "name": "stdout",
     "output_type": "stream",
     "text": [
      "ll is aliased to `ls -laGFh'\n"
     ]
    }
   ],
   "source": [
    "type ll"
   ]
  },
  {
   "cell_type": "code",
   "execution_count": 26,
   "metadata": {},
   "outputs": [
    {
     "name": "stdout",
     "output_type": "stream",
     "text": [
      "all_the_letters.txt:            ASCII text\n",
      "all_the_letters_with_lines.txt: ASCII text\n",
      "animal_data.csv:                ASCII text\n",
      "deep:                           directory\n",
      "example-folder-1:               directory\n",
      "zebra.txt:                      empty\n"
     ]
    }
   ],
   "source": [
    "file *"
   ]
  },
  {
   "cell_type": "code",
   "execution_count": 27,
   "metadata": {},
   "outputs": [
    {
     "name": "stdout",
     "output_type": "stream",
     "text": [
      "/Users/simon.ward-jones/Documents/General_Repos/ForgetCode/Bash/learn-linux\n"
     ]
    }
   ],
   "source": [
    "pwd"
   ]
  },
  {
   "cell_type": "code",
   "execution_count": 28,
   "metadata": {},
   "outputs": [],
   "source": [
    "cd .."
   ]
  },
  {
   "cell_type": "code",
   "execution_count": 29,
   "metadata": {},
   "outputs": [
    {
     "name": "stdout",
     "output_type": "stream",
     "text": [
      "examine files in directory learn-linux? \r\n"
     ]
    }
   ],
   "source": [
    "rm -ir learn-linux"
   ]
  },
  {
   "cell_type": "code",
   "execution_count": 31,
   "metadata": {},
   "outputs": [],
   "source": [
    "cd learn-linux"
   ]
  },
  {
   "cell_type": "markdown",
   "metadata": {},
   "source": [
    "## Manipulating text files"
   ]
  },
  {
   "cell_type": "markdown",
   "metadata": {},
   "source": [
    "### wc\n",
    "\n",
    "Count characheters, words, lines or bytes in file\n",
    " - `m` count characters only\n",
    " - `w` count words only\n",
    " - `l` count lines only\n",
    " - `c` count bytes only"
   ]
  },
  {
   "cell_type": "markdown",
   "metadata": {},
   "source": [
    "### nl\n",
    "\n",
    "Number the lines\n",
    " - `-b` \n",
    "  - a all\n",
    "  - t non-empy (default)"
   ]
  },
  {
   "cell_type": "markdown",
   "metadata": {},
   "source": [
    "### cut\n",
    "\n",
    "Cut out selected portions of each line of a file\n",
    " - `-f` which columns to cut out\n",
    " - `-d` column delimiter (of input)"
   ]
  },
  {
   "cell_type": "markdown",
   "metadata": {},
   "source": [
    "### sort\n",
    "\n",
    "Sort or merge records (lines) of text\n",
    " - `-r` reverse\n",
    " - `-t` specify delimiter for `-k` sorting column\n",
    " - `-n` sort numerically\n",
    " - `-h` sort human readable size"
   ]
  },
  {
   "cell_type": "markdown",
   "metadata": {},
   "source": [
    "### uniq\n",
    "\n",
    "Report or filter out repeated lines in a file\n",
    " - `-c` count occurences"
   ]
  },
  {
   "cell_type": "markdown",
   "metadata": {},
   "source": [
    "### tr\n",
    "\n",
    "Translate characters\n",
    " - `-d` delete character matches\n",
    " - `-s` squeeze duplicates into one\n",
    " can use character classes e.g. \n",
    " ```\n",
    "    alnum        <alphanumeric characters>\n",
    "    alpha        <alphabetic characters>\n",
    "    blank        <whitespace characters>\n",
    "    cntrl        <control characters>\n",
    "    digit        <numeric characters>\n",
    "    graph        <graphic characters>\n",
    "    ideogram     <ideographic characters>\n",
    "    lower        <lower-case alphabetic characters>\n",
    "    phonogram    <phonographic characters>\n",
    "    print        <printable characters>\n",
    "    punct        <punctuation characters>\n",
    "    rune         <valid characters>\n",
    "    space        <space characters>\n",
    "    special      <special characters>\n",
    "    upper        <upper-case characters>\n",
    "    xdigit       <hexadecimal characters>```\n",
    "                "
   ]
  },
  {
   "cell_type": "markdown",
   "metadata": {},
   "source": [
    "### sed\n",
    "\n",
    "Stream editior"
   ]
  },
  {
   "cell_type": "markdown",
   "metadata": {},
   "source": [
    "### awk\n",
    "\n",
    "Pattern-directed scanning and processing language"
   ]
  },
  {
   "cell_type": "markdown",
   "metadata": {},
   "source": [
    "## Examples for Manipulating text files"
   ]
  },
  {
   "cell_type": "code",
   "execution_count": 190,
   "metadata": {},
   "outputs": [
    {
     "name": "stdout",
     "output_type": "stream",
     "text": [
      "3 lines 9 words and 45 Characters in all_the_letters.txt\n"
     ]
    }
   ],
   "source": [
    "wc all_the_letters.txt | awk '{print $1\" lines \"$2\" words and \"$3\" Characters in \"$4}'"
   ]
  },
  {
   "cell_type": "code",
   "execution_count": 191,
   "metadata": {},
   "outputs": [
    {
     "name": "stdout",
     "output_type": "stream",
     "text": [
      "     713 animal_data.csv\n"
     ]
    }
   ],
   "source": [
    "wc -c animal_data.csv"
   ]
  },
  {
   "cell_type": "code",
   "execution_count": 192,
   "metadata": {},
   "outputs": [],
   "source": [
    "cat << EOF > list_from_dictionary.py\n",
    "words = ['zebra', 'bear', 'dog']\n",
    "counts = [12, 43, 54]\n",
    "count_look_up_dict = dict(zip(words, counts))\n",
    "\n",
    "count_look_up_dict['zebra']\n",
    "# {'bear': 43, 'dog': 54, 'zebra': 12}\n",
    "EOF"
   ]
  },
  {
   "cell_type": "code",
   "execution_count": 193,
   "metadata": {},
   "outputs": [
    {
     "name": "stdout",
     "output_type": "stream",
     "text": [
      "     1\twords = ['zebra', 'bear', 'dog']\n",
      "     2\tcounts = [12, 43, 54]\n",
      "     3\tcount_look_up_dict = dict(zip(words, counts))\n",
      "      \t\n",
      "     4\tcount_look_up_dict['zebra']\n",
      "     5\t# {'bear': 43, 'dog': 54, 'zebra': 12}\n"
     ]
    }
   ],
   "source": [
    "nl list_from_dictionary.py"
   ]
  },
  {
   "cell_type": "code",
   "execution_count": 194,
   "metadata": {},
   "outputs": [
    {
     "name": "stdout",
     "output_type": "stream",
     "text": [
      "     1\twords = ['zebra', 'bear', 'dog']\n",
      "     2\tcounts = [12, 43, 54]\n",
      "     3\tcount_look_up_dict = dict(zip(words, counts))\n",
      "     4\t\n",
      "     5\tcount_look_up_dict['zebra']\n",
      "     6\t# {'bear': 43, 'dog': 54, 'zebra': 12}\n"
     ]
    }
   ],
   "source": [
    "nl -b a list_from_dictionary.py"
   ]
  },
  {
   "cell_type": "code",
   "execution_count": 195,
   "metadata": {},
   "outputs": [
    {
     "name": "stdout",
     "output_type": "stream",
     "text": [
      "same as: cat -n list_from_dictionary.py\n"
     ]
    }
   ],
   "source": [
    "echo same as: cat -n list_from_dictionary.py"
   ]
  },
  {
   "cell_type": "code",
   "execution_count": 196,
   "metadata": {},
   "outputs": [
    {
     "name": "stdout",
     "output_type": "stream",
     "text": [
      "Top 3 animals by weight Animals sorted by wieght\n",
      "\n",
      "animal,name,weight\n",
      "lion,Bartholomew,80.43441772360272\n",
      "zebra,John,85.70401411701471\n",
      "lion,Raulf,90.96192557913325\n"
     ]
    }
   ],
   "source": [
    "echo Top 3 animals by weight Animals sorted by wieght\n",
    "echo\n",
    "cut -d ',' -f 3,5,6 animal_data.csv |  sort -t, -k3 -n | head -n 4"
   ]
  },
  {
   "cell_type": "code",
   "execution_count": 197,
   "metadata": {},
   "outputs": [
    {
     "name": "stdout",
     "output_type": "stream",
     "text": [
      ",date_time,animal\n",
      "0,2018-03-02,zebra\n",
      "1,2017-10-14,zebra\n",
      "2,2018-05-18,zebra\n",
      "3,2017-10-04,zebra\n"
     ]
    }
   ],
   "source": [
    "cut -d ',' -f 1,2,3 animal_data.csv | head -n 5"
   ]
  },
  {
   "cell_type": "code",
   "execution_count": 198,
   "metadata": {},
   "outputs": [
    {
     "name": "stdout",
     "output_type": "stream",
     "text": [
      "simon\n"
     ]
    }
   ],
   "source": [
    "echo \"simon\n",
    "simon\" | uniq"
   ]
  },
  {
   "cell_type": "code",
   "execution_count": 199,
   "metadata": {},
   "outputs": [
    {
     "name": "stdout",
     "output_type": "stream",
     "text": [
      "Animal counts sorted small to large\n",
      "   2 rhino\n",
      "   4 lion\n",
      "   4 zebra\n"
     ]
    }
   ],
   "source": [
    "echo Animal counts sorted small to large\n",
    "cut -d ',' -f 3 animal_data.csv | awk 'NR>1' | uniq -c | sort -n"
   ]
  },
  {
   "cell_type": "code",
   "execution_count": 200,
   "metadata": {},
   "outputs": [
    {
     "name": "stdout",
     "output_type": "stream",
     "text": [
      "animal-data.csv\n"
     ]
    }
   ],
   "source": [
    "echo \"animal__data.csv\" | tr -s '_' '-'"
   ]
  },
  {
   "cell_type": "code",
   "execution_count": 201,
   "metadata": {},
   "outputs": [
    {
     "name": "stdout",
     "output_type": "stream",
     "text": [
      "animaldata.csv\n"
     ]
    }
   ],
   "source": [
    "echo \"animal__data.csv\" | tr -d '_'"
   ]
  },
  {
   "cell_type": "code",
   "execution_count": 202,
   "metadata": {},
   "outputs": [
    {
     "name": "stdout",
     "output_type": "stream",
     "text": [
      "words = ['zebra', 'bear', 'dog']\n",
      "counts = [12, 43, 54]\n",
      "count_look_up_dict = dict(zip(words, counts))\n",
      "count_look_up_dict['zebra']\n"
     ]
    }
   ],
   "source": [
    "cat list_from_dictionary.py | tr -s '\\n' | sed /^#/d"
   ]
  },
  {
   "cell_type": "code",
   "execution_count": 203,
   "metadata": {},
   "outputs": [
    {
     "name": "stdout",
     "output_type": "stream",
     "text": [
      ",date_time,animal,category,name,weight,favourite_integer,bad_column,employed \n",
      "False  71 98.98282714754193 Walter stripy zebra 2018-03-02 0 \n",
      "False 3 0 106.2989001062902 Edmund stripy zebra 2017-10-14 1 \n",
      "False  84 106.65641884499352 Gyles stripy zebra 2018-05-18 2 \n",
      "True 1 79 85.70401411701471 John stripy zebra 2017-10-04 3 \n"
     ]
    }
   ],
   "source": [
    "awk 'FS=\",\" {for (i=NF;i>0;i--){printf $i\" \"};printf \"\\n\"}' animal_data.csv | head -n 5"
   ]
  },
  {
   "cell_type": "code",
   "execution_count": null,
   "metadata": {},
   "outputs": [],
   "source": []
  }
 ],
 "metadata": {
  "kernelspec": {
   "display_name": "Bash",
   "language": "bash",
   "name": "bash"
  },
  "language_info": {
   "codemirror_mode": "shell",
   "file_extension": ".sh",
   "mimetype": "text/x-sh",
   "name": "bash"
  }
 },
 "nbformat": 4,
 "nbformat_minor": 2
}
