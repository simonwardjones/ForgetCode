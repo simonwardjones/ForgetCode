{
 "cells": [
  {
   "cell_type": "markdown",
   "metadata": {},
   "source": [
    "# Package of the Week 🐍 📦"
   ]
  },
  {
   "cell_type": "markdown",
   "metadata": {},
   "source": [
    "## package: tqdm"
   ]
  },
  {
   "cell_type": "markdown",
   "metadata": {},
   "source": [
    "## date: 13/03/2019 \n",
    "\n",
    "This package allows interactive controls in Jupyter Notebooks"
   ]
  },
  {
   "cell_type": "code",
   "execution_count": 8,
   "metadata": {},
   "outputs": [
    {
     "name": "stdout",
     "output_type": "stream",
     "text": [
      "pip3 install tqdm\r\n"
     ]
    }
   ],
   "source": [
    "! echo pip3 install tqdm"
   ]
  },
  {
   "cell_type": "code",
   "execution_count": 20,
   "metadata": {},
   "outputs": [],
   "source": [
    "from tqdm import tqdm\n",
    "from tqdm import tqdm_notebook # notebook widget"
   ]
  },
  {
   "cell_type": "markdown",
   "metadata": {},
   "source": [
    "tqdm wraps iterator objects"
   ]
  },
  {
   "cell_type": "code",
   "execution_count": 56,
   "metadata": {},
   "outputs": [
    {
     "name": "stderr",
     "output_type": "stream",
     "text": [
      "Progress bar example: 100%|██████████| 10000000/10000000 [00:02<00:00, 3463781.70it/s]\n"
     ]
    }
   ],
   "source": [
    "for i in tqdm(range(10000000),\n",
    "              desc='Progress bar example'):\n",
    "    pass"
   ]
  },
  {
   "cell_type": "code",
   "execution_count": 86,
   "metadata": {},
   "outputs": [
    {
     "data": {
      "application/vnd.jupyter.widget-view+json": {
       "model_id": "12b5c6f6d67c42619c1c6ab506d707c6",
       "version_major": 2,
       "version_minor": 0
      },
      "text/plain": [
       "HBox(children=(IntProgress(value=0, description='Notebook example', max=10000000, style=ProgressStyle(descript…"
      ]
     },
     "metadata": {},
     "output_type": "display_data"
    }
   ],
   "source": [
    "# use an optimised notbook widget\n",
    "pbar = tqdm_notebook(range(10000000),\n",
    "                       desc='Notebook example',\n",
    "                       unit_scale=True)"
   ]
  },
  {
   "cell_type": "code",
   "execution_count": 87,
   "metadata": {},
   "outputs": [],
   "source": [
    "for i in pbar:\n",
    "    pass"
   ]
  },
  {
   "cell_type": "code",
   "execution_count": 114,
   "metadata": {},
   "outputs": [
    {
     "data": {
      "application/vnd.jupyter.widget-view+json": {
       "model_id": "0f7add2a30854c2b95e98bd6cbb0ca22",
       "version_major": 2,
       "version_minor": 0
      },
      "text/plain": [
       "HBox(children=(IntProgress(value=0, description='Pandas progress in notebook', max=18, style=ProgressStyle(des…"
      ]
     },
     "metadata": {},
     "output_type": "display_data"
    }
   ],
   "source": [
    "import pandas as pd\n",
    "import numpy as np\n",
    "\n",
    "# for pandas and notebook we actually need to import like this:\n",
    "from tqdm._tqdm_notebook import tqdm_notebook\n",
    "\n",
    "df = pd.DataFrame(np.random.randint(0, 100, (10, 18)))\n",
    "\n",
    "import time\n",
    "\n",
    "# register tqdm with progress apply\n",
    "tqdm_notebook.pandas(desc='Pandas progress in notebook')\n",
    "\n",
    "def slow_square(s):\n",
    "    time.sleep(0.1)\n",
    "    return s**2\n",
    "\n",
    "s = df.progress_apply(slow_square)"
   ]
  }
 ],
 "metadata": {
  "kernelspec": {
   "display_name": "Python 3",
   "language": "python",
   "name": "python3"
  },
  "language_info": {
   "codemirror_mode": {
    "name": "ipython",
    "version": 3
   },
   "file_extension": ".py",
   "mimetype": "text/x-python",
   "name": "python",
   "nbconvert_exporter": "python",
   "pygments_lexer": "ipython3",
   "version": "3.7.2"
  }
 },
 "nbformat": 4,
 "nbformat_minor": 2
}
