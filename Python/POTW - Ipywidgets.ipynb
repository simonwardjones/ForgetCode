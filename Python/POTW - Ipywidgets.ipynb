{
 "cells": [
  {
   "cell_type": "markdown",
   "metadata": {},
   "source": [
    "# Package of the Week 🐍 📦"
   ]
  },
  {
   "cell_type": "markdown",
   "metadata": {},
   "source": [
    "## package: ipywidgets"
   ]
  },
  {
   "cell_type": "markdown",
   "metadata": {},
   "source": [
    "## date: 13/03/2019 "
   ]
  },
  {
   "cell_type": "markdown",
   "metadata": {},
   "source": [
    "This package allows interactive controls in Jupyter Notebooks"
   ]
  },
  {
   "cell_type": "code",
   "execution_count": 4,
   "metadata": {},
   "outputs": [
    {
     "name": "stdout",
     "output_type": "stream",
     "text": [
      "pip install ipywidgets\r\n"
     ]
    }
   ],
   "source": [
    "! echo pip install ipywidgets"
   ]
  },
  {
   "cell_type": "markdown",
   "metadata": {},
   "source": [
    "#### For Notebook:   \n",
    "`jupyter nbextension enable --py widgetsnbextension`  \n",
    "\n",
    "#### For lab:  \n",
    "`jupyter labextension install @jupyter-widgets/jupyterlab-manager`  "
   ]
  },
  {
   "cell_type": "code",
   "execution_count": 5,
   "metadata": {},
   "outputs": [
    {
     "name": "stdout",
     "output_type": "stream",
     "text": [
      "Enabling notebook extension jupyter-js-widgets/extension...\r\n",
      "      - Validating: \u001b[32mOK\u001b[0m\r\n"
     ]
    }
   ],
   "source": [
    "!jupyter nbextension enable --py widgetsnbextension"
   ]
  },
  {
   "cell_type": "markdown",
   "metadata": {},
   "source": [
    "Ok now it is enabled we import!"
   ]
  },
  {
   "cell_type": "code",
   "execution_count": 6,
   "metadata": {},
   "outputs": [],
   "source": [
    "import ipywidgets as widgets\n",
    "from ipywidgets import interact, interact_manual"
   ]
  },
  {
   "cell_type": "code",
   "execution_count": 38,
   "metadata": {},
   "outputs": [
    {
     "data": {
      "application/vnd.jupyter.widget-view+json": {
       "model_id": "16d2214022844ec188192fac603d58a6",
       "version_major": 2,
       "version_minor": 0
      },
      "text/plain": [
       "aW50ZXJhY3RpdmUoY2hpbGRyZW49KFRleHQodmFsdWU9dSdJUHl0aG9uIFdpZGdldHMnLCBkZXNjcmlwdGlvbj11J3RleHQnKSwgT3V0cHV0KCkpLCBfZG9tX2NsYXNzZXM9KHUnd2lkZ2V0LWnigKY=\n"
      ]
     },
     "metadata": {},
     "output_type": "display_data"
    },
    {
     "data": {
      "text/plain": [
       "<function __main__.greeting>"
      ]
     },
     "execution_count": 38,
     "metadata": {},
     "output_type": "execute_result"
    }
   ],
   "source": [
    "def greeting(text=\"World\"):\n",
    "        print(\"Hello {}\".format(text))\n",
    "interact(greeting, text=\"IPython Widgets\")"
   ]
  },
  {
   "cell_type": "code",
   "execution_count": 8,
   "metadata": {},
   "outputs": [],
   "source": [
    "import pandas as pd\n",
    "import numpy as np\n",
    "import random\n",
    "from datetime import datetime\n",
    "from dateutil.relativedelta import relativedelta\n",
    "\n",
    "# First we create example dataframe\n",
    "r = random.Random(12)\n",
    "\n",
    "\n",
    "def generate_random_date_in_last_year():\n",
    "    return (datetime.now() - relativedelta(days=365 * random.random())).date()\n",
    "\n",
    "\n",
    "dataframe = pd.DataFrame({\n",
    "    \"date_time\": [generate_random_date_in_last_year() for _ in range(10)],\n",
    "    \"animal\": ['zebra', 'zebra', 'zebra', 'zebra', 'lion', 'lion', 'lion',\n",
    "               'lion', 'rhino', 'rhino', ],\n",
    "    \"category\": ['stripy'] * 4 + ['dangerous'] * 6,\n",
    "    \"name\": ['Walter', 'Edmund', 'Gyles', 'John', 'Bartholomew', 'Frederyk',\n",
    "             'Raulf', 'Symond', 'Carlos', 'Arthur'],\n",
    "    \"weight\": [80 + 40 * r.random() for _ in range(10)],\n",
    "    \"favourite_integer\": [r.randint(0, 100) for _ in range(10)],\n",
    "    \"bad_column\": ['', 3, '', 1, None, 2, 23, 2, 3, 3],\n",
    "    'employed': [bool(r.randint(0, 1)) for i in range(10)]\n",
    "})\n",
    "dataframe.replace(to_replace='', value=np.nan, inplace=True)"
   ]
  },
  {
   "cell_type": "code",
   "execution_count": 9,
   "metadata": {},
   "outputs": [
    {
     "data": {
      "text/html": [
       "<div>\n",
       "<style scoped>\n",
       "    .dataframe tbody tr th:only-of-type {\n",
       "        vertical-align: middle;\n",
       "    }\n",
       "\n",
       "    .dataframe tbody tr th {\n",
       "        vertical-align: top;\n",
       "    }\n",
       "\n",
       "    .dataframe thead th {\n",
       "        text-align: right;\n",
       "    }\n",
       "</style>\n",
       "<table border=\"1\" class=\"dataframe\">\n",
       "  <thead>\n",
       "    <tr style=\"text-align: right;\">\n",
       "      <th></th>\n",
       "      <th>animal</th>\n",
       "      <th>bad_column</th>\n",
       "      <th>category</th>\n",
       "      <th>date_time</th>\n",
       "      <th>employed</th>\n",
       "      <th>favourite_integer</th>\n",
       "      <th>name</th>\n",
       "      <th>weight</th>\n",
       "    </tr>\n",
       "  </thead>\n",
       "  <tbody>\n",
       "    <tr>\n",
       "      <th>0</th>\n",
       "      <td>zebra</td>\n",
       "      <td>NaN</td>\n",
       "      <td>stripy</td>\n",
       "      <td>2018-04-06</td>\n",
       "      <td>False</td>\n",
       "      <td>56</td>\n",
       "      <td>Walter</td>\n",
       "      <td>98.982827</td>\n",
       "    </tr>\n",
       "    <tr>\n",
       "      <th>1</th>\n",
       "      <td>zebra</td>\n",
       "      <td>3.0</td>\n",
       "      <td>stripy</td>\n",
       "      <td>2018-11-21</td>\n",
       "      <td>False</td>\n",
       "      <td>66</td>\n",
       "      <td>Edmund</td>\n",
       "      <td>106.298900</td>\n",
       "    </tr>\n",
       "    <tr>\n",
       "      <th>2</th>\n",
       "      <td>zebra</td>\n",
       "      <td>NaN</td>\n",
       "      <td>stripy</td>\n",
       "      <td>2018-04-01</td>\n",
       "      <td>True</td>\n",
       "      <td>14</td>\n",
       "      <td>Gyles</td>\n",
       "      <td>106.656419</td>\n",
       "    </tr>\n",
       "    <tr>\n",
       "      <th>3</th>\n",
       "      <td>zebra</td>\n",
       "      <td>1.0</td>\n",
       "      <td>stripy</td>\n",
       "      <td>2018-08-27</td>\n",
       "      <td>False</td>\n",
       "      <td>44</td>\n",
       "      <td>John</td>\n",
       "      <td>85.704014</td>\n",
       "    </tr>\n",
       "    <tr>\n",
       "      <th>4</th>\n",
       "      <td>lion</td>\n",
       "      <td>NaN</td>\n",
       "      <td>dangerous</td>\n",
       "      <td>2018-07-07</td>\n",
       "      <td>False</td>\n",
       "      <td>16</td>\n",
       "      <td>Bartholomew</td>\n",
       "      <td>80.434418</td>\n",
       "    </tr>\n",
       "    <tr>\n",
       "      <th>5</th>\n",
       "      <td>lion</td>\n",
       "      <td>2.0</td>\n",
       "      <td>dangerous</td>\n",
       "      <td>2019-02-09</td>\n",
       "      <td>True</td>\n",
       "      <td>91</td>\n",
       "      <td>Frederyk</td>\n",
       "      <td>94.990180</td>\n",
       "    </tr>\n",
       "    <tr>\n",
       "      <th>6</th>\n",
       "      <td>lion</td>\n",
       "      <td>23.0</td>\n",
       "      <td>dangerous</td>\n",
       "      <td>2018-04-29</td>\n",
       "      <td>True</td>\n",
       "      <td>5</td>\n",
       "      <td>Raulf</td>\n",
       "      <td>90.961926</td>\n",
       "    </tr>\n",
       "    <tr>\n",
       "      <th>7</th>\n",
       "      <td>lion</td>\n",
       "      <td>2.0</td>\n",
       "      <td>dangerous</td>\n",
       "      <td>2018-03-29</td>\n",
       "      <td>False</td>\n",
       "      <td>82</td>\n",
       "      <td>Symond</td>\n",
       "      <td>112.413922</td>\n",
       "    </tr>\n",
       "    <tr>\n",
       "      <th>8</th>\n",
       "      <td>rhino</td>\n",
       "      <td>3.0</td>\n",
       "      <td>dangerous</td>\n",
       "      <td>2019-01-30</td>\n",
       "      <td>True</td>\n",
       "      <td>7</td>\n",
       "      <td>Carlos</td>\n",
       "      <td>107.623706</td>\n",
       "    </tr>\n",
       "    <tr>\n",
       "      <th>9</th>\n",
       "      <td>rhino</td>\n",
       "      <td>3.0</td>\n",
       "      <td>dangerous</td>\n",
       "      <td>2018-08-13</td>\n",
       "      <td>True</td>\n",
       "      <td>69</td>\n",
       "      <td>Arthur</td>\n",
       "      <td>104.058282</td>\n",
       "    </tr>\n",
       "  </tbody>\n",
       "</table>\n",
       "</div>"
      ],
      "text/plain": [
       "  animal  bad_column   category   date_time  employed  favourite_integer  \\\n",
       "0  zebra         NaN     stripy  2018-04-06     False                 56   \n",
       "1  zebra         3.0     stripy  2018-11-21     False                 66   \n",
       "2  zebra         NaN     stripy  2018-04-01      True                 14   \n",
       "3  zebra         1.0     stripy  2018-08-27     False                 44   \n",
       "4   lion         NaN  dangerous  2018-07-07     False                 16   \n",
       "5   lion         2.0  dangerous  2019-02-09      True                 91   \n",
       "6   lion        23.0  dangerous  2018-04-29      True                  5   \n",
       "7   lion         2.0  dangerous  2018-03-29     False                 82   \n",
       "8  rhino         3.0  dangerous  2019-01-30      True                  7   \n",
       "9  rhino         3.0  dangerous  2018-08-13      True                 69   \n",
       "\n",
       "          name      weight  \n",
       "0       Walter   98.982827  \n",
       "1       Edmund  106.298900  \n",
       "2        Gyles  106.656419  \n",
       "3         John   85.704014  \n",
       "4  Bartholomew   80.434418  \n",
       "5     Frederyk   94.990180  \n",
       "6        Raulf   90.961926  \n",
       "7       Symond  112.413922  \n",
       "8       Carlos  107.623706  \n",
       "9       Arthur  104.058282  "
      ]
     },
     "execution_count": 9,
     "metadata": {},
     "output_type": "execute_result"
    }
   ],
   "source": [
    "dataframe"
   ]
  },
  {
   "cell_type": "code",
   "execution_count": 10,
   "metadata": {},
   "outputs": [
    {
     "data": {
      "application/vnd.jupyter.widget-view+json": {
       "model_id": "e9f35f4719f2463d9ad6be27cc7d6521",
       "version_major": 2,
       "version_minor": 0
      },
      "text/plain": [
       "aW50ZXJhY3RpdmUoY2hpbGRyZW49KFRleHQodmFsdWU9dSd3ZWlnaHQnLCBkZXNjcmlwdGlvbj11J2NvbHVtbicpLCBJbnRTbGlkZXIodmFsdWU9NTAsIGRlc2NyaXB0aW9uPXUneCcsIG1pbj3igKY=\n"
      ]
     },
     "metadata": {},
     "output_type": "display_data"
    }
   ],
   "source": [
    "start, stop , step = 1,100,1\n",
    "@interact\n",
    "def show_articles_more_than(column='weight', x=(start,stop,step)):\n",
    "    return dataframe.loc[dataframe[column] > x]\n"
   ]
  },
  {
   "cell_type": "code",
   "execution_count": 14,
   "metadata": {},
   "outputs": [
    {
     "data": {
      "text/plain": [
       "0         Walter\n",
       "1         Edmund\n",
       "2          Gyles\n",
       "3           John\n",
       "4    Bartholomew\n",
       "5       Frederyk\n",
       "6          Raulf\n",
       "7         Symond\n",
       "8         Carlos\n",
       "9         Arthur\n",
       "Name: name, dtype: object"
      ]
     },
     "execution_count": 14,
     "metadata": {},
     "output_type": "execute_result"
    }
   ],
   "source": [
    "dataframe.name\n"
   ]
  },
  {
   "cell_type": "code",
   "execution_count": 21,
   "metadata": {},
   "outputs": [
    {
     "data": {
      "text/plain": [
       "Index([u'bad_column', u'favourite_integer', u'weight'], dtype='object')"
      ]
     },
     "execution_count": 21,
     "metadata": {},
     "output_type": "execute_result"
    }
   ],
   "source": [
    "dataframe.select_dtypes('number').columns"
   ]
  },
  {
   "cell_type": "code",
   "execution_count": 30,
   "metadata": {},
   "outputs": [
    {
     "data": {
      "text/plain": [
       "<matplotlib.axes._subplots.AxesSubplot at 0x122f995d0>"
      ]
     },
     "execution_count": 30,
     "metadata": {},
     "output_type": "execute_result"
    },
    {
     "data": {
      "image/png": "[encoded data removed]",
      "text/plain": [
       "<Figure size 432x288 with 1 Axes>"
      ]
     },
     "metadata": {
      "needs_background": "light"
     },
     "output_type": "display_data"
    }
   ],
   "source": [
    "dataframe.plot(kind='scatter', x='weight', y='weight')\n",
    "                "
   ]
  },
  {
   "cell_type": "code",
   "execution_count": 43,
   "metadata": {},
   "outputs": [
    {
     "data": {
      "application/vnd.jupyter.widget-view+json": {
       "model_id": "45395560068d4ed2a4595d205ddd9559",
       "version_major": 2,
       "version_minor": 0
      },
      "text/plain": [
       "aW50ZXJhY3RpdmUoY2hpbGRyZW49KERyb3Bkb3duKGRlc2NyaXB0aW9uPXUneCcsIG9wdGlvbnM9KCdiYWRfY29sdW1uJywgJ2Zhdm91cml0ZV9pbnRlZ2VyJywgJ3dlaWdodCcpLCB2YWx1ZT3igKY=\n"
      ]
     },
     "metadata": {},
     "output_type": "display_data"
    }
   ],
   "source": [
    "import cufflinks as cf\n",
    "\n",
    "@interact\n",
    "def scatter_plot(x=list(dataframe.select_dtypes('number').columns), \n",
    "                 y=list(dataframe.select_dtypes('number').columns)[1:]):\n",
    "    \n",
    "    dataframe.plot(kind='scatter', x=x, y=y)"
   ]
  },
  {
   "cell_type": "code",
   "execution_count": 47,
   "metadata": {},
   "outputs": [],
   "source": [
    "from dsutils.misc.tree import Node\n"
   ]
  },
  {
   "cell_type": "code",
   "execution_count": 78,
   "metadata": {},
   "outputs": [],
   "source": [
    "c = Node('demo')"
   ]
  },
  {
   "cell_type": "code",
   "execution_count": 79,
   "metadata": {},
   "outputs": [],
   "source": [
    "text=\"one > two\""
   ]
  },
  {
   "cell_type": "code",
   "execution_count": 80,
   "metadata": {},
   "outputs": [
    {
     "data": {
      "text/plain": [
       "['one', 'two']"
      ]
     },
     "execution_count": 80,
     "metadata": {},
     "output_type": "execute_result"
    }
   ],
   "source": [
    "[a.strip() for a in text.split(' > ')]"
   ]
  },
  {
   "cell_type": "code",
   "execution_count": 108,
   "metadata": {},
   "outputs": [
    {
     "data": {
      "application/vnd.jupyter.widget-view+json": {
       "model_id": "ac3d8574a9e24560b9744e73eeb9dce5",
       "version_major": 2,
       "version_minor": 0
      },
      "text/plain": [
       "aW50ZXJhY3RpdmUoY2hpbGRyZW49KFRleHRhcmVhKHZhbHVlPXUnSGVsbG8gV29ybGQnLCBkZXNjcmlwdGlvbj11J1N0cmluZzonLCBwbGFjZWhvbGRlcj11J1R5cGUgc29tZXRoaW5nJyksIE/igKY=\n"
      ]
     },
     "metadata": {},
     "output_type": "display_data"
    }
   ],
   "source": [
    "@interact\n",
    "def splitter(text=widgets.Textarea(\n",
    "    value='Hello World',\n",
    "    placeholder='Type something',\n",
    "    description='String:',\n",
    "    disabled=False\n",
    ")):\n",
    "    return [a.strip() for a in text.split()]"
   ]
  },
  {
   "cell_type": "code",
   "execution_count": 142,
   "metadata": {},
   "outputs": [
    {
     "data": {
      "application/vnd.jupyter.widget-view+json": {
       "model_id": "efd494bd94d94e87a71f7f3d25c7a59b",
       "version_major": 2,
       "version_minor": 0
      },
      "text/plain": [
       "aW50ZXJhY3RpdmUoY2hpbGRyZW49KFRleHRhcmVhKHZhbHVlPXUnSGVsbG8gV29ybGQgMDc1NDU2Mjk3NCcsIGRlc2NyaXB0aW9uPXUndGV4dCcpLCBUZXh0YXJlYSh2YWx1ZT11J1xcZCsnLCDigKY=\n"
      ]
     },
     "metadata": {},
     "output_type": "display_data"
    }
   ],
   "source": [
    "import re\n",
    "@interact\n",
    "def splitter(\n",
    "    text=widgets.Textarea(\n",
    "        value='Hello World 0754562974'),\n",
    "    pattern=widgets.Textarea(\n",
    "        value='\\d+')):\n",
    "    print(re.findall(pattern, text))\n",
    "    print(re.sub(pattern,'REPLACEMENT_TEXT',text))\n"
   ]
  },
  {
   "cell_type": "code",
   "execution_count": 127,
   "metadata": {},
   "outputs": [
    {
     "data": {
      "application/vnd.jupyter.widget-view+json": {
       "model_id": "73dca87c23854cb1badc457683bb045e",
       "version_major": 2,
       "version_minor": 0
      },
      "text/plain": [
       "aW50ZXJhY3RpdmUoY2hpbGRyZW49KERhdGVQaWNrZXIodmFsdWU9ZGF0ZXRpbWUuZGF0ZXRpbWUoMjAxOSwgMywgMTIsIDE3LCA1OCwgMjYsIDk1ODc1NSksIGRlc2NyaXB0aW9uPXUnUGljayDigKY=\n"
      ]
     },
     "metadata": {},
     "output_type": "display_data"
    }
   ],
   "source": [
    "import datetime\n",
    "@interact\n",
    "def dat_str(\n",
    "    date=widgets.DatePicker(\n",
    "        value=datetime.datetime.now(),\n",
    "        description='Pick a Date'),\n",
    "    fmt='%Y-%m-%d %H:%M:%S.%f'):\n",
    "    print(date.__class__)\n",
    "    return date.strftime(fmt)"
   ]
  },
  {
   "cell_type": "code",
   "execution_count": null,
   "metadata": {},
   "outputs": [],
   "source": []
  }
 ],
 "metadata": {
  "kernelspec": {
   "display_name": "Python 3",
   "language": "python",
   "name": "python3"
  },
  "language_info": {
   "codemirror_mode": {
    "name": "ipython",
    "version": 2
   },
   "file_extension": ".py",
   "mimetype": "text/x-python",
   "name": "python",
   "nbconvert_exporter": "python",
   "pygments_lexer": "ipython2",
   "version": "2.7.15"
  }
 },
 "nbformat": 4,
 "nbformat_minor": 2
}
