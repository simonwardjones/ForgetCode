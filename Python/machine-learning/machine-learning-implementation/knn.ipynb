{
 "cells": [
  {
   "cell_type": "markdown",
   "metadata": {},
   "source": [
    "# Machine Learning Implementation"
   ]
  },
  {
   "cell_type": "markdown",
   "metadata": {
    "heading_collapsed": true
   },
   "source": [
    "## imports"
   ]
  },
  {
   "cell_type": "code",
   "execution_count": 1,
   "metadata": {
    "hidden": true
   },
   "outputs": [],
   "source": [
    "import json\n",
    "\n",
    "import numpy as np\n",
    "import pandas as pd\n",
    "import plotly.offline as py\n",
    "from plotly import graph_objects as go"
   ]
  },
  {
   "cell_type": "markdown",
   "metadata": {},
   "source": [
    "## knn"
   ]
  },
  {
   "cell_type": "markdown",
   "metadata": {
    "heading_collapsed": true
   },
   "source": [
    "### the maths"
   ]
  },
  {
   "cell_type": "markdown",
   "metadata": {
    "hidden": true
   },
   "source": [
    "The k-nearest neighbours algorithm finds k clusters from the data. It does this by starting with k centroids (often randomly selected) and then assigning each point in the data to a cluster based on it's closest centroid. The centroids are then updated as the mean of all points in the cluster. This process is repeated untill the centroids stop changing"
   ]
  },
  {
   "cell_type": "markdown",
   "metadata": {
    "hidden": true
   },
   "source": [
    "1. Choose k\n",
    "2. randomly select centroids $c_1,\\dots,c_k \\in \\mathbb{R}^n$\n",
    "3. until convergence repeat\n",
    "    * for each $x_i$ assign to cluster $C_j \\in \\{C_1\\dots C_k\\}$ where\n",
    "    $$\n",
    "    j = \\arg\\min_{j}\\sqrt{(x_i - c_j)^2}\n",
    "    $$ \n",
    "    * update each $c_j$ as\n",
    "    $$\n",
    "    c_j = \\frac{1}{|C_j|}\\sum_{x_j\\in C_j}x_j\n",
    "    $$\n",
    "    "
   ]
  },
  {
   "cell_type": "markdown",
   "metadata": {},
   "source": [
    "### make fake data"
   ]
  },
  {
   "cell_type": "code",
   "execution_count": 2,
   "metadata": {},
   "outputs": [],
   "source": [
    "def get_2d_blob(n,x,y,r=1):\n",
    "    x1 = np.random.normal(x, r, n)\n",
    "    y1 = np.random.normal(y, 1 /(1 + abs(x1 - x))**.5, n)\n",
    "    return x1, y1"
   ]
  },
  {
   "cell_type": "code",
   "execution_count": 3,
   "metadata": {},
   "outputs": [],
   "source": [
    "n=100\n",
    "xy = np.concatenate((\n",
    "    get_2d_blob(n,1,2,3),\n",
    "    get_2d_blob(n,14,5),\n",
    "    get_2d_blob(n,7,10)\n",
    "),axis=1).T\n",
    "\n",
    "x = xy[:,0]\n",
    "y = xy[:,1]"
   ]
  },
  {
   "cell_type": "code",
   "execution_count": 4,
   "metadata": {},
   "outputs": [],
   "source": [
    "knn_fig = go.FigureWidget()\n",
    "scatter  = go.Scatter(x=x,\n",
    "                      y=y,\n",
    "                      mode='markers',\n",
    "                      name='blob data + noise')\n",
    "knn_fig.add_trace(scatter)\n",
    "iteration = 0\n",
    "knn_fig.layout.title = f'knn Iteration {iteration}'\n",
    "\n",
    "color_mapping={}\n",
    "for i in [1,2,3]:\n",
    "    color_mapping[i] = knn_fig.layout.template.layout.colorway[i]"
   ]
  },
  {
   "cell_type": "code",
   "execution_count": 5,
   "metadata": {},
   "outputs": [
    {
     "data": {
      "application/vnd.jupyter.widget-view+json": {
       "model_id": "3757167743d24bef901e14e16533b6e5",
       "version_major": 2,
       "version_minor": 0
      },
      "text/plain": [
       "FigureWidget({\n",
       "    'data': [{'mode': 'markers',\n",
       "              'name': 'blob data + noise',\n",
       "              'type…"
      ]
     },
     "metadata": {},
     "output_type": "display_data"
    }
   ],
   "source": [
    "knn_fig"
   ]
  },
  {
   "cell_type": "markdown",
   "metadata": {
    "heading_collapsed": true
   },
   "source": [
    "### knn implementaion"
   ]
  },
  {
   "cell_type": "code",
   "execution_count": 436,
   "metadata": {
    "hidden": true
   },
   "outputs": [
    {
     "data": {
      "application/vnd.jupyter.widget-view+json": {
       "model_id": "4918a683ae4c47008dd5bee45d14a1ef",
       "version_major": 2,
       "version_minor": 0
      },
      "text/plain": [
       "FigureWidget({\n",
       "    'data': [{'mode': 'markers',\n",
       "              'name': 'blob data + noise',\n",
       "              'type…"
      ]
     },
     "metadata": {},
     "output_type": "display_data"
    }
   ],
   "source": [
    "# set k and define random centroids\n",
    "k=3\n",
    "c = np.column_stack((\n",
    "    np.random.uniform(x.min(),x.max(),k),\n",
    "    np.random.uniform(y.min(),y.max(),k)))\n",
    "cs = [c]\n",
    "\n",
    "# add the centroids to the fig\n",
    "for i in range(len(c)):\n",
    "    knn_fig.add_scatter(\n",
    "        x=[c[i,0]],\n",
    "        y=[c[i,1]],\n",
    "        mode='markers',\n",
    "        marker=dict(\n",
    "            size=12,\n",
    "            line=dict(width=2,color='DarkSlateGrey')),\n",
    "        text=[f'Centroid-{i}'],\n",
    "        name=f'Centroid-{i}')\n",
    "\n",
    "# Euclidean Distance Caculator\n",
    "def dist(a, b, ax=1):\n",
    "    return np.linalg.norm(a - b, axis=ax)\n",
    "\n",
    "def assign_clusters(xy, c):\n",
    "    distances = []\n",
    "    for centroid in c:\n",
    "#         print(centroid)\n",
    "        centorid_distances = dist(xy,centroid)\n",
    "#         print(min(centorid_distances))\n",
    "        distances.append(centorid_distances)\n",
    "    all_distaces = np.array(distances).T\n",
    "    cluster_labels = np.argmin(all_distaces,axis=1)\n",
    "    data_colors = list(map(lambda x: color_mapping[x+1], cluster_labels))\n",
    "    knn_fig.data[0].marker.color = data_colors\n",
    "    return cluster_labels\n",
    "\n",
    "def update_centroids(xy, cluster_labels, cs):\n",
    "    global iteration\n",
    "    c = []\n",
    "    for i in range(3):\n",
    "        centroid = xy[cluster_labels == i,:].mean(axis=0)\n",
    "        knn_fig.data[1+i].x = (centroid[0],)\n",
    "        knn_fig.data[1+i].y = (centroid[1],)\n",
    "        c.append(centroid)\n",
    "    c = np.array(c)\n",
    "    cs.append(c)\n",
    "    iteration +=1\n",
    "    title = f'knn Iteration {iteration}'\n",
    "    knn_fig.layout.title = title\n",
    "    print(f'Change in centroids {dist(cs[-1],cs[-2])}')\n",
    "    return c, cs\n",
    "\n",
    "def update_step():\n",
    "    global xy, c, cs\n",
    "    cluster_labels = assign_clusters(xy, c)\n",
    "    c, cs = update_centroids(xy, cluster_labels, cs)\n",
    "\n",
    "knn_fig"
   ]
  },
  {
   "cell_type": "code",
   "execution_count": 441,
   "metadata": {
    "hidden": true
   },
   "outputs": [
    {
     "name": "stdout",
     "output_type": "stream",
     "text": [
      "Change in centroids [0. 0. 0.]\n"
     ]
    }
   ],
   "source": [
    "update_step()"
   ]
  },
  {
   "cell_type": "markdown",
   "metadata": {
    "heading_collapsed": true
   },
   "source": [
    "## end"
   ]
  }
 ],
 "metadata": {
  "kernelspec": {
   "display_name": "Python 3",
   "language": "python",
   "name": "python3"
  },
  "language_info": {
   "codemirror_mode": {
    "name": "ipython",
    "version": 3
   },
   "file_extension": ".py",
   "mimetype": "text/x-python",
   "name": "python",
   "nbconvert_exporter": "python",
   "pygments_lexer": "ipython3",
   "version": "3.7.7"
  },
  "toc": {
   "base_numbering": 1,
   "nav_menu": {},
   "number_sections": true,
   "sideBar": true,
   "skip_h1_title": false,
   "title_cell": "Table of Contents",
   "title_sidebar": "Contents",
   "toc_cell": false,
   "toc_position": {},
   "toc_section_display": true,
   "toc_window_display": false
  }
 },
 "nbformat": 4,
 "nbformat_minor": 2
}
