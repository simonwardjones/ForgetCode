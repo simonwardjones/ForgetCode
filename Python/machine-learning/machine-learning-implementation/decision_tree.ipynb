{
 "cells": [
  {
   "cell_type": "markdown",
   "metadata": {},
   "source": [
    "# Machine Learning Implementation"
   ]
  },
  {
   "cell_type": "markdown",
   "metadata": {
    "heading_collapsed": true
   },
   "source": [
    "## imports"
   ]
  },
  {
   "cell_type": "code",
   "execution_count": 1,
   "metadata": {
    "hidden": true
   },
   "outputs": [],
   "source": [
    "import itertools\n",
    "import json\n",
    "import logging\n",
    "\n",
    "import graphviz\n",
    "import numpy as np\n",
    "import pandas as pd\n",
    "import plotly.offline as py\n",
    "from graphviz import Digraph\n",
    "from IPython.display import display\n",
    "from plotly import graph_objects as go\n",
    "from sklearn.datasets import load_iris\n",
    "from sklearn.tree import DecisionTreeClassifier, export_graphviz"
   ]
  },
  {
   "cell_type": "markdown",
   "metadata": {
    "heading_collapsed": true
   },
   "source": [
    "## Decision tree"
   ]
  },
  {
   "cell_type": "markdown",
   "metadata": {
    "heading_collapsed": true,
    "hidden": true
   },
   "source": [
    "### the maths"
   ]
  },
  {
   "cell_type": "markdown",
   "metadata": {
    "hidden": true
   },
   "source": [
    "The decision tree is made by continuously splitting the data based on a certain feature and feature value. The feature and feature value chosen to split the data are chosen to increase the purity the most (or equivalently decrease the impurity the most).\n",
    "\n",
    "The Gini impurity is one the most common methods of measuring the imputirty of the sample.\n",
    "\n",
    "If there are a set of classes $C$ often $C=\\{0,1\\}$ then for a given data set Q the impurity is defined as \n",
    "\n",
    "$$\n",
    "G(Q) = \\sum_{c\\in{C}} p_c(1-p_c)\n",
    "$$\n",
    "where $p_c$ is the propability of $c$ in $Q$\n",
    "$$\n",
    "p_c = \\frac{1}{N_Q}\\sum_{x\\in{Q}}\\mathbb{1}(x_{class} = c)\n",
    "$$\n",
    "Where $N_Q = |Q|$\n",
    "\n",
    "\n",
    "Let the data at node $m$ be represented by $Q$. For a split $\\theta = (j,t_m)$ consiting of feature $j$ and threshold value $t_m$\n",
    "\n",
    "The imputiry of the split is given by\n",
    "\n",
    "$$\n",
    "G(Q,\\theta) = \n",
    "    \\frac{n_{left}}{N_m}G(Q_{left}(\\theta)) + \n",
    "    \\frac{n_{right}}{N_m}G(Q_{right}(\\theta))\n",
    "$$"
   ]
  },
  {
   "cell_type": "markdown",
   "metadata": {
    "heading_collapsed": true,
    "hidden": true
   },
   "source": [
    "### get iris data set"
   ]
  },
  {
   "cell_type": "code",
   "execution_count": 2,
   "metadata": {
    "hidden": true
   },
   "outputs": [
    {
     "data": {
      "text/html": [
       "<div>\n",
       "<style scoped>\n",
       "    .dataframe tbody tr th:only-of-type {\n",
       "        vertical-align: middle;\n",
       "    }\n",
       "\n",
       "    .dataframe tbody tr th {\n",
       "        vertical-align: top;\n",
       "    }\n",
       "\n",
       "    .dataframe thead th {\n",
       "        text-align: right;\n",
       "    }\n",
       "</style>\n",
       "<table border=\"1\" class=\"dataframe\">\n",
       "  <thead>\n",
       "    <tr style=\"text-align: right;\">\n",
       "      <th></th>\n",
       "      <th>sepal length (cm)</th>\n",
       "      <th>sepal width (cm)</th>\n",
       "      <th>petal length (cm)</th>\n",
       "      <th>petal width (cm)</th>\n",
       "      <th>y</th>\n",
       "    </tr>\n",
       "  </thead>\n",
       "  <tbody>\n",
       "    <tr>\n",
       "      <th>0</th>\n",
       "      <td>6.1</td>\n",
       "      <td>2.8</td>\n",
       "      <td>4.7</td>\n",
       "      <td>1.2</td>\n",
       "      <td>1</td>\n",
       "    </tr>\n",
       "    <tr>\n",
       "      <th>1</th>\n",
       "      <td>5.7</td>\n",
       "      <td>3.8</td>\n",
       "      <td>1.7</td>\n",
       "      <td>0.3</td>\n",
       "      <td>0</td>\n",
       "    </tr>\n",
       "    <tr>\n",
       "      <th>2</th>\n",
       "      <td>7.7</td>\n",
       "      <td>2.6</td>\n",
       "      <td>6.9</td>\n",
       "      <td>2.3</td>\n",
       "      <td>2</td>\n",
       "    </tr>\n",
       "    <tr>\n",
       "      <th>3</th>\n",
       "      <td>6.0</td>\n",
       "      <td>2.9</td>\n",
       "      <td>4.5</td>\n",
       "      <td>1.5</td>\n",
       "      <td>1</td>\n",
       "    </tr>\n",
       "    <tr>\n",
       "      <th>4</th>\n",
       "      <td>6.8</td>\n",
       "      <td>2.8</td>\n",
       "      <td>4.8</td>\n",
       "      <td>1.4</td>\n",
       "      <td>1</td>\n",
       "    </tr>\n",
       "  </tbody>\n",
       "</table>\n",
       "</div>"
      ],
      "text/plain": [
       "   sepal length (cm)  sepal width (cm)  petal length (cm)  petal width (cm)  y\n",
       "0                6.1               2.8                4.7               1.2  1\n",
       "1                5.7               3.8                1.7               0.3  0\n",
       "2                7.7               2.6                6.9               2.3  2\n",
       "3                6.0               2.9                4.5               1.5  1\n",
       "4                6.8               2.8                4.8               1.4  1"
      ]
     },
     "execution_count": 2,
     "metadata": {},
     "output_type": "execute_result"
    }
   ],
   "source": [
    "iris_data = load_iris()\n",
    "iris_df = pd.DataFrame(iris_data['data'],columns=iris_data['feature_names'])\n",
    "iris_df['y'] = iris_data['target']\n",
    "iris_df = iris_df.sample(frac=1, random_state=42).reset_index(drop=True)\n",
    "iris_sample = iris_df.head(5)\n",
    "iris_sample"
   ]
  },
  {
   "cell_type": "markdown",
   "metadata": {
    "heading_collapsed": true,
    "hidden": true
   },
   "source": [
    "### define the decision tree"
   ]
  },
  {
   "cell_type": "code",
   "execution_count": 3,
   "metadata": {
    "hidden": true
   },
   "outputs": [
    {
     "name": "stderr",
     "output_type": "stream",
     "text": [
      "INFO:decision_tree:New logger with name decision_tree\n"
     ]
    }
   ],
   "source": [
    "logging.basicConfig()\n",
    "logger = logging.getLogger('decision_tree')\n",
    "logger.setLevel(logging.INFO)\n",
    "\n",
    "logger.info(f'New logger with name {logger.name}')\n",
    "\n",
    "class TreeNode():\n",
    "    count = itertools.count()\n",
    "\n",
    "    def __init__(self,\n",
    "                 data,\n",
    "                 max_depth,\n",
    "                 min_samples_split,\n",
    "                 min_samples_leaf,\n",
    "                 n_classes=2,\n",
    "                 max_features=None,\n",
    "                 depth=0):\n",
    "        self.data = data\n",
    "        self.max_depth = max_depth\n",
    "        self.min_samples_split = min_samples_split\n",
    "        self.min_samples_leaf = min_samples_leaf\n",
    "        self.n_classes = n_classes\n",
    "        self.max_features = max_features\n",
    "        self.depth = depth\n",
    "        \n",
    "        self.node_impurity = self.gini_impurity([data[:, -1]])\n",
    "        self.class_counts = np.bincount(\n",
    "            data[:, -1].astype(int),\n",
    "            minlength=self.n_classes)\n",
    "        self.data_shape = data.shape\n",
    "        self.split_attempted = False\n",
    "        self.best_split_impurity = None\n",
    "        self.best_feature_index = None\n",
    "        self.best_feature_split_val = None\n",
    "        self.is_leaf = False\n",
    "        self.id = str(next(self.count))\n",
    "\n",
    "    def __repr__(self):\n",
    "        return (\n",
    "            f'<TreeNode '\n",
    "            f'depth:{self.depth} '\n",
    "            f'impurity:{self.node_impurity:.2} '\n",
    "            f'samples:{self.data_shape[0]} '\n",
    "            f'{\"🌳\" if self.is_root else \"\"}'\n",
    "            f'{\"🍁\" if self.is_leaf else \"\"}'\n",
    "            f'>')\n",
    "\n",
    "    @property\n",
    "    def is_root(self):\n",
    "        return self.depth == 0\n",
    "\n",
    "    def info(self):\n",
    "        return dict(\n",
    "            data_shape=self.data_shape,\n",
    "            n_classes=self.n_classes,\n",
    "            depth=self.depth,\n",
    "            min_samples_split=self.min_samples_split,\n",
    "            min_samples_leaf=self.min_samples_leaf,\n",
    "            node_impurity=self.node_impurity,\n",
    "            split_attempted=self.split_attempted,\n",
    "            best_split_impurity=self.best_split_impurity,\n",
    "            best_feature_index=self.best_feature_index,\n",
    "            best_feature_split_val=self.best_feature_split_val,\n",
    "            is_root=self.is_root)\n",
    "\n",
    "    def split(self, feature_index, feature_split_val, only_classes=True):\n",
    "        assert feature_index in range(self.data.shape[1])\n",
    "        if only_classes:\n",
    "            select = -1\n",
    "        else:\n",
    "            select = slice(None)\n",
    "        left_mask = self.data[:, feature_index] <= feature_split_val\n",
    "        right_mask = ~ left_mask\n",
    "        left = self.data[left_mask, select]\n",
    "        right = self.data[right_mask, select]\n",
    "        logger.debug(\n",
    "            f'Splitting on feature_index {feature_index} with '\n",
    "            f'feature_split_val = {feature_split_val} creates left '\n",
    "            f'with shape {left.shape} and right with '\n",
    "            f'shape {right.shape}')\n",
    "        return left, right\n",
    "\n",
    "    def gini_impurity(self, groups):\n",
    "        gini = 0\n",
    "        total_samples = sum(group.shape[0] for group in groups)\n",
    "        for i, group in enumerate(groups):\n",
    "            group = group.astype(int)\n",
    "            class_counts = np.bincount(group, minlength=self.n_classes)\n",
    "            group_size = class_counts.sum()\n",
    "            class_probs = class_counts / group_size\n",
    "            unique_classes = np.count_nonzero(class_counts)\n",
    "            group_gini = (class_probs * (1 - class_probs)).sum()\n",
    "            gini += group_gini * (group_size / total_samples)\n",
    "            logger.debug(\n",
    "                f'Group {i} has size {group.shape[0]} with '\n",
    "                f'{unique_classes} unique classes '\n",
    "                f'with Gini index {group_gini:.3}')\n",
    "        return gini\n",
    "\n",
    "    def check_split(self, feature_index, feature_split_val):\n",
    "        groups = self.split(feature_index, feature_split_val)\n",
    "        if any(len(group) < self.min_samples_leaf for group in groups):\n",
    "            logger.debug(\n",
    "                f\"Can't split node on feature {feature_index} with split \"\n",
    "                f\"val {feature_split_val} due to min_samples_leaf condition\")\n",
    "            return None\n",
    "        split_impurity = self.gini_impurity(groups)\n",
    "        best_current_impurity = (\n",
    "            1 if self.best_split_impurity is None\n",
    "            else self.best_split_impurity)\n",
    "        if ((split_impurity < best_current_impurity) and\n",
    "                (split_impurity < self.node_impurity)):\n",
    "            logger.debug(\n",
    "                f'Found new best split with feature_split_val='\n",
    "                f'{feature_split_val} for feature_index = {feature_index} '\n",
    "                f'and split_impurity = {split_impurity:.2}')\n",
    "            self.best_feature_index = feature_index\n",
    "            self.best_feature_split_val = feature_split_val\n",
    "            self.best_split_impurity = split_impurity\n",
    "\n",
    "    def find_best_split(self):\n",
    "        best_feature_index = None\n",
    "        best_feature_split_val = None\n",
    "        if self.depth == self.max_depth:\n",
    "            return\n",
    "        if self.data.shape[0] < self.min_samples_split:\n",
    "            logger.info(f\"{self} can't split as samples < min_samples_split\")\n",
    "            return None\n",
    "        if self.node_impurity == 0:\n",
    "            logger.info(f\"Can't improve as node pure\")\n",
    "            return None\n",
    "        n_features = self.data.shape[1] - 1\n",
    "        all_feature_indices = np.arange(n_features)\n",
    "        if self.max_features == 'sqrt':\n",
    "            features_to_check = np.random.choice(\n",
    "                all_feature_indices,\n",
    "                size=np.sqrt(n_features).astype(int))\n",
    "        else:\n",
    "            features_to_check = all_feature_indices\n",
    "        logger.info(f'Checking features {features_to_check}')\n",
    "        for feature_index in features_to_check:\n",
    "            for feature_split_val in np.unique(self.data[:, feature_index]):\n",
    "                self.check_split(feature_index, feature_split_val)\n",
    "        self.split_attempted = True\n",
    "\n",
    "    def recursive_split(self):\n",
    "        self.find_best_split()\n",
    "        if self.best_feature_index is not None:\n",
    "            logger.info(f'Splitting tree on feature_index '\n",
    "                        f'{self.best_feature_index} and feature_split_val '\n",
    "                        f'{self.best_feature_split_val:.2}')\n",
    "            left, right = self.split(\n",
    "                feature_index=self.best_feature_index,\n",
    "                feature_split_val=self.best_feature_split_val,\n",
    "                only_classes=False)\n",
    "            del self.data\n",
    "            self.left = TreeNode(\n",
    "                data=left,\n",
    "                max_depth=self.max_depth,\n",
    "                min_samples_split=self.min_samples_split,\n",
    "                min_samples_leaf=self.min_samples_leaf,\n",
    "                n_classes=self.n_classes,\n",
    "                max_features=self.max_features,\n",
    "                depth=self.depth + 1)\n",
    "            self.right = TreeNode(\n",
    "                data=right,\n",
    "                max_depth=self.max_depth,\n",
    "                min_samples_split=self.min_samples_split,\n",
    "                min_samples_leaf=self.min_samples_leaf,\n",
    "                n_classes=self.n_classes,\n",
    "                max_features=self.max_features,\n",
    "                depth=self.depth + 1)\n",
    "            self.left.recursive_split()\n",
    "            self.right.recursive_split()\n",
    "        else:\n",
    "            logger.info('Reached max depth or no splits reduce impurity')\n",
    "            self.is_leaf = True\n",
    "\n",
    "    def walk_depth_first(self, only_leaves=True):\n",
    "        if self.is_leaf:\n",
    "            yield self\n",
    "        else:\n",
    "            if not only_leaves:\n",
    "                yield self\n",
    "            for node in (self.left, self.right):\n",
    "                yield from node.walk_depth_first(only_leaves)\n",
    "\n",
    "    def walk_bredth_first(self, layer=None):\n",
    "        if layer is None:\n",
    "            layer = [self]\n",
    "        for node in layer:\n",
    "            yield node\n",
    "        new_layer = [\n",
    "            child\n",
    "            for node_children in [[node.left, node.right]\n",
    "                                  for node in layer if not node.is_leaf]\n",
    "            for child in node_children]\n",
    "        if new_layer:\n",
    "            yield from self.walk_bredth_first(new_layer)\n",
    "\n",
    "    def print_tree(self):\n",
    "        for node in self.walk_depth_first(only_leaves=False):\n",
    "            print('--' * node.depth + str(node))\n",
    "\n",
    "    def predict_row_proba(self, row):\n",
    "        if self.is_leaf:\n",
    "            group_size = self.class_counts.sum()\n",
    "            class_probs = self.class_counts / group_size\n",
    "            return class_probs\n",
    "        elif row[self.best_feature_index] <= self.best_feature_split_val:\n",
    "            return self.left.predict_row_proba(row)\n",
    "        else:\n",
    "            return self.right.predict_row_proba(row)\n",
    "\n",
    "    def predict_proba(self, data):\n",
    "        if len(data.shape) == 2:\n",
    "            return np.stack([self.predict_row_proba(row) \n",
    "                             for row in data])\n",
    "        else:\n",
    "            return self.predict_row_proba(data)\n",
    "\n",
    "    def predict(self, data):\n",
    "        return np.argmax(self.predict_proba(data), axis=-1)\n",
    "\n",
    "    def dot(self,\n",
    "            feature_names,\n",
    "            samples=True,\n",
    "            gini=True,\n",
    "            classes=True):\n",
    "        dot = Digraph(\n",
    "            comment='Decsion Tree',\n",
    "            node_attr=dict(shape=\"rectangle\",\n",
    "                           style=\"rounded\",\n",
    "                           fillcolor=\"#028d35\"))\n",
    "        for i, node in enumerate(self.walk_bredth_first()):\n",
    "            label = \"\"\n",
    "            if not node.is_leaf:\n",
    "                label += (\n",
    "                    f'{feature_names[node.best_feature_index]} <= '\n",
    "                    f'{node.best_feature_split_val}\\n')\n",
    "                dot.edge(node.id, node.left.id)\n",
    "                dot.edge(node.id, node.right.id)\n",
    "            if samples:\n",
    "                label += f'Samples = {node.class_counts.sum()}\\n'\n",
    "            if gini:\n",
    "                label += f'Impurity = {node.node_impurity:.2}\\n'\n",
    "            if classes:\n",
    "                label += f'class counts = {str(node.class_counts)}\\n'\n",
    "            dot.node(name=node.id, label=label)\n",
    "        return dot\n",
    "\n",
    "\n",
    "class DecisionTree():\n",
    "\n",
    "    def __init__(self,\n",
    "                 max_depth=2,\n",
    "                 min_samples_split=2,\n",
    "                 min_samples_leaf=1,\n",
    "                 n_classes=2,\n",
    "                 max_features=None):\n",
    "        self.max_depth = max_depth\n",
    "        self.min_samples_split = min_samples_split\n",
    "        self.min_samples_leaf = min_samples_leaf\n",
    "        self.n_classes = n_classes\n",
    "        self.max_features = max_features\n",
    "        self.is_fitted = False\n",
    "        self.tree = None\n",
    "\n",
    "    def fit(self, X, y):\n",
    "        y_shape = (X.shape[0], 1)\n",
    "        data = np.concatenate((X, y.reshape(y_shape)), axis=1)\n",
    "        self.tree = TreeNode(\n",
    "            data=data,\n",
    "            max_depth=self.max_depth,\n",
    "            min_samples_split=self.min_samples_split,\n",
    "            min_samples_leaf=self.min_samples_leaf,\n",
    "            n_classes=self.n_classes,\n",
    "            max_features=self.max_features)\n",
    "        self.tree.recursive_split()\n",
    "        self.is_fitted = True\n",
    "\n",
    "    def predict(self, data):\n",
    "        if not self.is_fitted:\n",
    "            raise Exception('Decision tree not fitted')\n",
    "        return self.tree.predict(data)\n",
    "\n",
    "    def predict_proba(self, data):\n",
    "        if not self.is_fitted:\n",
    "            raise Exception('Decision tree not fitted')\n",
    "        return self.tree.predict_proba(data)\n",
    "\n",
    "    def render(self, feature_names):\n",
    "        if not self.is_fitted:\n",
    "            print('Decision tree not fitted')\n",
    "        else:\n",
    "            return self.tree.dot(feature_names=feature_names)"
   ]
  },
  {
   "cell_type": "markdown",
   "metadata": {
    "heading_collapsed": true,
    "hidden": true
   },
   "source": [
    "### fit tree and visualise"
   ]
  },
  {
   "cell_type": "code",
   "execution_count": 4,
   "metadata": {
    "hidden": true
   },
   "outputs": [
    {
     "name": "stderr",
     "output_type": "stream",
     "text": [
      "INFO:decision_tree:Checking features [0 1 2 3]\n",
      "INFO:decision_tree:Splitting tree on feature_index 2 and feature_split_val 1.9\n",
      "INFO:decision_tree:Can't improve as node pure\n",
      "INFO:decision_tree:Reached max depth or no splits reduce impurity\n",
      "INFO:decision_tree:Checking features [0 1 2 3]\n",
      "INFO:decision_tree:Splitting tree on feature_index 3 and feature_split_val 1.7\n",
      "INFO:decision_tree:Reached max depth or no splits reduce impurity\n",
      "INFO:decision_tree:Reached max depth or no splits reduce impurity\n"
     ]
    },
    {
     "data": {
      "image/svg+xml": [
       "<?xml version=\"1.0\" encoding=\"UTF-8\" standalone=\"no\"?>\n",
       "<!DOCTYPE svg PUBLIC \"-//W3C//DTD SVG 1.1//EN\"\n",
       " \"http://www.w3.org/Graphics/SVG/1.1/DTD/svg11.dtd\">\n",
       "<!-- Generated by graphviz version 2.42.3 (20191010.1750)\n",
       " -->\n",
       "<!-- Title: %3 Pages: 1 -->\n",
       "<svg width=\"409pt\" height=\"258pt\"\n",
       " viewBox=\"0.00 0.00 409.49 258.00\" xmlns=\"http://www.w3.org/2000/svg\" xmlns:xlink=\"http://www.w3.org/1999/xlink\">\n",
       "<g id=\"graph0\" class=\"graph\" transform=\"scale(1 1) rotate(0) translate(4 254)\">\n",
       "<title>%3</title>\n",
       "<polygon fill=\"white\" stroke=\"transparent\" points=\"-4,4 -4,-254 405.49,-254 405.49,4 -4,4\"/>\n",
       "<!-- 0 -->\n",
       "<g id=\"node1\" class=\"node\">\n",
       "<title>0</title>\n",
       "<path fill=\"none\" stroke=\"black\" d=\"M225.23,-250C225.23,-250 92.26,-250 92.26,-250 86.26,-250 80.26,-244 80.26,-238 80.26,-238 80.26,-198 80.26,-198 80.26,-192 86.26,-186 92.26,-186 92.26,-186 225.23,-186 225.23,-186 231.23,-186 237.23,-192 237.23,-198 237.23,-198 237.23,-238 237.23,-238 237.23,-244 231.23,-250 225.23,-250\"/>\n",
       "<text text-anchor=\"middle\" x=\"158.74\" y=\"-234.8\" font-family=\"Times,serif\" font-size=\"14.00\">petal length (cm) &lt;= 1.9</text>\n",
       "<text text-anchor=\"middle\" x=\"158.74\" y=\"-220.8\" font-family=\"Times,serif\" font-size=\"14.00\">Samples = 150</text>\n",
       "<text text-anchor=\"middle\" x=\"158.74\" y=\"-206.8\" font-family=\"Times,serif\" font-size=\"14.00\">Impurity = 0.67</text>\n",
       "<text text-anchor=\"middle\" x=\"158.74\" y=\"-192.8\" font-family=\"Times,serif\" font-size=\"14.00\">class counts = [50 50 50]</text>\n",
       "</g>\n",
       "<!-- 1 -->\n",
       "<g id=\"node2\" class=\"node\">\n",
       "<title>1</title>\n",
       "<path fill=\"none\" stroke=\"black\" d=\"M137.73,-143C137.73,-143 11.76,-143 11.76,-143 5.76,-143 -0.24,-137 -0.24,-131 -0.24,-131 -0.24,-105 -0.24,-105 -0.24,-99 5.76,-93 11.76,-93 11.76,-93 137.73,-93 137.73,-93 143.73,-93 149.73,-99 149.73,-105 149.73,-105 149.73,-131 149.73,-131 149.73,-137 143.73,-143 137.73,-143\"/>\n",
       "<text text-anchor=\"middle\" x=\"74.74\" y=\"-127.8\" font-family=\"Times,serif\" font-size=\"14.00\">Samples = 50</text>\n",
       "<text text-anchor=\"middle\" x=\"74.74\" y=\"-113.8\" font-family=\"Times,serif\" font-size=\"14.00\">Impurity = 0.0</text>\n",
       "<text text-anchor=\"middle\" x=\"74.74\" y=\"-99.8\" font-family=\"Times,serif\" font-size=\"14.00\">class counts = [50 &#160;0 &#160;0]</text>\n",
       "</g>\n",
       "<!-- 0&#45;&gt;1 -->\n",
       "<g id=\"edge1\" class=\"edge\">\n",
       "<title>0&#45;&gt;1</title>\n",
       "<path fill=\"none\" stroke=\"black\" d=\"M132.16,-185.99C122.65,-174.89 111.91,-162.36 102.31,-151.16\"/>\n",
       "<polygon fill=\"black\" stroke=\"black\" points=\"104.73,-148.6 95.56,-143.29 99.41,-153.16 104.73,-148.6\"/>\n",
       "</g>\n",
       "<!-- 2 -->\n",
       "<g id=\"node3\" class=\"node\">\n",
       "<title>2</title>\n",
       "<path fill=\"none\" stroke=\"black\" d=\"M308.23,-150C308.23,-150 179.26,-150 179.26,-150 173.26,-150 167.26,-144 167.26,-138 167.26,-138 167.26,-98 167.26,-98 167.26,-92 173.26,-86 179.26,-86 179.26,-86 308.23,-86 308.23,-86 314.23,-86 320.23,-92 320.23,-98 320.23,-98 320.23,-138 320.23,-138 320.23,-144 314.23,-150 308.23,-150\"/>\n",
       "<text text-anchor=\"middle\" x=\"243.74\" y=\"-134.8\" font-family=\"Times,serif\" font-size=\"14.00\">petal width (cm) &lt;= 1.7</text>\n",
       "<text text-anchor=\"middle\" x=\"243.74\" y=\"-120.8\" font-family=\"Times,serif\" font-size=\"14.00\">Samples = 100</text>\n",
       "<text text-anchor=\"middle\" x=\"243.74\" y=\"-106.8\" font-family=\"Times,serif\" font-size=\"14.00\">Impurity = 0.5</text>\n",
       "<text text-anchor=\"middle\" x=\"243.74\" y=\"-92.8\" font-family=\"Times,serif\" font-size=\"14.00\">class counts = [ 0 50 50]</text>\n",
       "</g>\n",
       "<!-- 0&#45;&gt;2 -->\n",
       "<g id=\"edge2\" class=\"edge\">\n",
       "<title>0&#45;&gt;2</title>\n",
       "<path fill=\"none\" stroke=\"black\" d=\"M185.64,-185.99C193.39,-177.06 201.94,-167.19 210.05,-157.84\"/>\n",
       "<polygon fill=\"black\" stroke=\"black\" points=\"212.82,-159.99 216.73,-150.14 207.54,-155.4 212.82,-159.99\"/>\n",
       "</g>\n",
       "<!-- 3 -->\n",
       "<g id=\"node4\" class=\"node\">\n",
       "<title>3</title>\n",
       "<path fill=\"none\" stroke=\"black\" d=\"M222.73,-50C222.73,-50 96.76,-50 96.76,-50 90.76,-50 84.76,-44 84.76,-38 84.76,-38 84.76,-12 84.76,-12 84.76,-6 90.76,0 96.76,0 96.76,0 222.73,0 222.73,0 228.73,0 234.73,-6 234.73,-12 234.73,-12 234.73,-38 234.73,-38 234.73,-44 228.73,-50 222.73,-50\"/>\n",
       "<text text-anchor=\"middle\" x=\"159.74\" y=\"-34.8\" font-family=\"Times,serif\" font-size=\"14.00\">Samples = 54</text>\n",
       "<text text-anchor=\"middle\" x=\"159.74\" y=\"-20.8\" font-family=\"Times,serif\" font-size=\"14.00\">Impurity = 0.17</text>\n",
       "<text text-anchor=\"middle\" x=\"159.74\" y=\"-6.8\" font-family=\"Times,serif\" font-size=\"14.00\">class counts = [ 0 49 &#160;5]</text>\n",
       "</g>\n",
       "<!-- 2&#45;&gt;3 -->\n",
       "<g id=\"edge3\" class=\"edge\">\n",
       "<title>2&#45;&gt;3</title>\n",
       "<path fill=\"none\" stroke=\"black\" d=\"M215.07,-85.94C206.6,-76.77 197.33,-66.72 188.84,-57.52\"/>\n",
       "<polygon fill=\"black\" stroke=\"black\" points=\"191.28,-55 181.92,-50.03 186.14,-59.75 191.28,-55\"/>\n",
       "</g>\n",
       "<!-- 4 -->\n",
       "<g id=\"node5\" class=\"node\">\n",
       "<title>4</title>\n",
       "<path fill=\"none\" stroke=\"black\" d=\"M389.73,-50C389.73,-50 263.76,-50 263.76,-50 257.76,-50 251.76,-44 251.76,-38 251.76,-38 251.76,-12 251.76,-12 251.76,-6 257.76,0 263.76,0 263.76,0 389.73,0 389.73,0 395.73,0 401.73,-6 401.73,-12 401.73,-12 401.73,-38 401.73,-38 401.73,-44 395.73,-50 389.73,-50\"/>\n",
       "<text text-anchor=\"middle\" x=\"326.74\" y=\"-34.8\" font-family=\"Times,serif\" font-size=\"14.00\">Samples = 46</text>\n",
       "<text text-anchor=\"middle\" x=\"326.74\" y=\"-20.8\" font-family=\"Times,serif\" font-size=\"14.00\">Impurity = 0.043</text>\n",
       "<text text-anchor=\"middle\" x=\"326.74\" y=\"-6.8\" font-family=\"Times,serif\" font-size=\"14.00\">class counts = [ 0 &#160;1 45]</text>\n",
       "</g>\n",
       "<!-- 2&#45;&gt;4 -->\n",
       "<g id=\"edge4\" class=\"edge\">\n",
       "<title>2&#45;&gt;4</title>\n",
       "<path fill=\"none\" stroke=\"black\" d=\"M272.07,-85.94C280.44,-76.77 289.6,-66.72 297.99,-57.52\"/>\n",
       "<polygon fill=\"black\" stroke=\"black\" points=\"300.67,-59.78 304.83,-50.03 295.5,-55.06 300.67,-59.78\"/>\n",
       "</g>\n",
       "</g>\n",
       "</svg>\n"
      ],
      "text/plain": [
       "<graphviz.dot.Digraph at 0x120768d10>"
      ]
     },
     "execution_count": 4,
     "metadata": {},
     "output_type": "execute_result"
    }
   ],
   "source": [
    "iris_sample_vals = iris_sample.values\n",
    "\n",
    "# # for small sample\n",
    "# X = iris_sample_vals[:,:-1]\n",
    "# y = iris_sample_vals[:,-1]\n",
    "\n",
    "X = iris_df.values[:,:-1]\n",
    "y = iris_df.values[:,-1]\n",
    "\n",
    "logger.setLevel(logging.INFO)\n",
    "\n",
    "decision_tree = DecisionTree(n_classes=3)\n",
    "decision_tree.fit(X, y)\n",
    "\n",
    "# For info or ansii tree\n",
    "# decision_tree.tree.info()\n",
    "# decision_tree.tree.print_tree()\n",
    "\n",
    "feature_names = iris_data['feature_names']\n",
    "decision_tree.render(feature_names=feature_names)"
   ]
  },
  {
   "cell_type": "markdown",
   "metadata": {
    "heading_collapsed": true,
    "hidden": true
   },
   "source": [
    "### example prediction"
   ]
  },
  {
   "cell_type": "code",
   "execution_count": 5,
   "metadata": {
    "hidden": true
   },
   "outputs": [
    {
     "data": {
      "text/plain": [
       "1"
      ]
     },
     "execution_count": 5,
     "metadata": {},
     "output_type": "execute_result"
    }
   ],
   "source": [
    "decision_tree.predict(X[0,:])"
   ]
  },
  {
   "cell_type": "code",
   "execution_count": 6,
   "metadata": {
    "hidden": true
   },
   "outputs": [
    {
     "data": {
      "text/plain": [
       "array([1, 0, 2, 1, 1, 0, 1, 2, 1, 1, 2, 0, 0, 0, 0, 1, 2, 1, 1, 2, 0, 2,\n",
       "       0, 2, 2, 2, 2, 2, 0, 0, 0, 0, 1, 0, 0, 2, 1, 0, 0, 0, 2, 1, 1, 0,\n",
       "       0, 1, 1, 2, 1, 2, 1, 2, 1, 0, 2, 1, 0, 0, 0, 1, 2, 0, 0, 0, 1, 0,\n",
       "       1, 2, 0, 1, 2, 0, 2, 2, 1, 1, 2, 1, 0, 1, 2, 0, 0, 1, 1, 0, 2, 0,\n",
       "       0, 2, 1, 2, 1, 1, 2, 1, 0, 0, 1, 2, 0, 0, 0, 1, 2, 0, 2, 2, 0, 1,\n",
       "       1, 2, 1, 2, 0, 2, 1, 2, 1, 1, 1, 0, 1, 1, 0, 1, 2, 2, 0, 1, 2, 1,\n",
       "       0, 2, 0, 1, 2, 2, 1, 2, 1, 1, 2, 2, 0, 1, 1, 0, 1, 2])"
      ]
     },
     "execution_count": 6,
     "metadata": {},
     "output_type": "execute_result"
    }
   ],
   "source": [
    "decision_tree.predict(X)"
   ]
  },
  {
   "cell_type": "code",
   "execution_count": 7,
   "metadata": {
    "hidden": true
   },
   "outputs": [
    {
     "data": {
      "text/plain": [
       "array([1, 0, 2, 1, 1, 0, 1, 2, 1, 1, 2, 0, 0, 0, 0, 1, 2, 1, 1, 2, 0, 2,\n",
       "       0, 2, 2, 2, 2, 2, 0, 0, 0, 0, 1, 0, 0, 2, 1, 0, 0, 0, 2, 1, 1, 0,\n",
       "       0, 1, 2, 2, 1, 2, 1, 2, 1, 0, 2, 1, 0, 0, 0, 1, 2, 0, 0, 0, 1, 0,\n",
       "       1, 2, 0, 1, 2, 0, 2, 2, 1, 1, 2, 1, 0, 1, 2, 0, 0, 1, 1, 0, 2, 0,\n",
       "       0, 1, 1, 2, 1, 2, 2, 1, 0, 0, 2, 2, 0, 0, 0, 1, 2, 0, 2, 2, 0, 1,\n",
       "       1, 2, 1, 2, 0, 2, 1, 2, 1, 1, 1, 0, 1, 1, 0, 1, 2, 2, 0, 1, 2, 2,\n",
       "       0, 2, 0, 1, 2, 2, 1, 2, 1, 1, 2, 2, 0, 1, 2, 0, 1, 2])"
      ]
     },
     "execution_count": 7,
     "metadata": {},
     "output_type": "execute_result"
    }
   ],
   "source": [
    "# real y values\n",
    "y.astype(int)"
   ]
  },
  {
   "cell_type": "code",
   "execution_count": 8,
   "metadata": {
    "hidden": true
   },
   "outputs": [
    {
     "data": {
      "text/plain": [
       "0.96"
      ]
     },
     "execution_count": 8,
     "metadata": {},
     "output_type": "execute_result"
    }
   ],
   "source": [
    "(decision_tree.predict(X) == y.astype(int)).sum() / len(y)"
   ]
  },
  {
   "cell_type": "markdown",
   "metadata": {
    "heading_collapsed": true,
    "hidden": true
   },
   "source": [
    "### compare with Sklearn"
   ]
  },
  {
   "cell_type": "code",
   "execution_count": 9,
   "metadata": {
    "hidden": true
   },
   "outputs": [
    {
     "data": {
      "image/svg+xml": [
       "<?xml version=\"1.0\" encoding=\"UTF-8\" standalone=\"no\"?>\n",
       "<!DOCTYPE svg PUBLIC \"-//W3C//DTD SVG 1.1//EN\"\n",
       " \"http://www.w3.org/Graphics/SVG/1.1/DTD/svg11.dtd\">\n",
       "<!-- Generated by graphviz version 2.42.3 (20191010.1750)\n",
       " -->\n",
       "<!-- Title: Tree Pages: 1 -->\n",
       "<svg width=\"320pt\" height=\"258pt\"\n",
       " viewBox=\"0.00 0.00 319.54 258.00\" xmlns=\"http://www.w3.org/2000/svg\" xmlns:xlink=\"http://www.w3.org/1999/xlink\">\n",
       "<g id=\"graph0\" class=\"graph\" transform=\"scale(1 1) rotate(0) translate(4 254)\">\n",
       "<title>Tree</title>\n",
       "<polygon fill=\"white\" stroke=\"transparent\" points=\"-4,4 -4,-254 315.54,-254 315.54,4 -4,4\"/>\n",
       "<!-- 0 -->\n",
       "<g id=\"node1\" class=\"node\">\n",
       "<title>0</title>\n",
       "<polygon fill=\"none\" stroke=\"black\" points=\"186.31,-250 60.23,-250 60.23,-186 186.31,-186 186.31,-250\"/>\n",
       "<text text-anchor=\"middle\" x=\"123.27\" y=\"-234.8\" font-family=\"Times,serif\" font-size=\"14.00\">X[2] &lt;= 2.45</text>\n",
       "<text text-anchor=\"middle\" x=\"123.27\" y=\"-220.8\" font-family=\"Times,serif\" font-size=\"14.00\">gini = 0.667</text>\n",
       "<text text-anchor=\"middle\" x=\"123.27\" y=\"-206.8\" font-family=\"Times,serif\" font-size=\"14.00\">samples = 150</text>\n",
       "<text text-anchor=\"middle\" x=\"123.27\" y=\"-192.8\" font-family=\"Times,serif\" font-size=\"14.00\">value = [50, 50, 50]</text>\n",
       "</g>\n",
       "<!-- 1 -->\n",
       "<g id=\"node2\" class=\"node\">\n",
       "<title>1</title>\n",
       "<polygon fill=\"none\" stroke=\"black\" points=\"112.31,-143 0.23,-143 0.23,-93 112.31,-93 112.31,-143\"/>\n",
       "<text text-anchor=\"middle\" x=\"56.27\" y=\"-127.8\" font-family=\"Times,serif\" font-size=\"14.00\">gini = 0.0</text>\n",
       "<text text-anchor=\"middle\" x=\"56.27\" y=\"-113.8\" font-family=\"Times,serif\" font-size=\"14.00\">samples = 50</text>\n",
       "<text text-anchor=\"middle\" x=\"56.27\" y=\"-99.8\" font-family=\"Times,serif\" font-size=\"14.00\">value = [50, 0, 0]</text>\n",
       "</g>\n",
       "<!-- 0&#45;&gt;1 -->\n",
       "<g id=\"edge1\" class=\"edge\">\n",
       "<title>0&#45;&gt;1</title>\n",
       "<path fill=\"none\" stroke=\"black\" d=\"M102.07,-185.99C94.63,-175.11 86.25,-162.85 78.71,-151.82\"/>\n",
       "<polygon fill=\"black\" stroke=\"black\" points=\"81.41,-149.57 72.87,-143.29 75.63,-153.52 81.41,-149.57\"/>\n",
       "<text text-anchor=\"middle\" x=\"68.26\" y=\"-163.66\" font-family=\"Times,serif\" font-size=\"14.00\">True</text>\n",
       "</g>\n",
       "<!-- 2 -->\n",
       "<g id=\"node3\" class=\"node\">\n",
       "<title>2</title>\n",
       "<polygon fill=\"none\" stroke=\"black\" points=\"249.81,-150 130.73,-150 130.73,-86 249.81,-86 249.81,-150\"/>\n",
       "<text text-anchor=\"middle\" x=\"190.27\" y=\"-134.8\" font-family=\"Times,serif\" font-size=\"14.00\">X[3] &lt;= 1.75</text>\n",
       "<text text-anchor=\"middle\" x=\"190.27\" y=\"-120.8\" font-family=\"Times,serif\" font-size=\"14.00\">gini = 0.5</text>\n",
       "<text text-anchor=\"middle\" x=\"190.27\" y=\"-106.8\" font-family=\"Times,serif\" font-size=\"14.00\">samples = 100</text>\n",
       "<text text-anchor=\"middle\" x=\"190.27\" y=\"-92.8\" font-family=\"Times,serif\" font-size=\"14.00\">value = [0, 50, 50]</text>\n",
       "</g>\n",
       "<!-- 0&#45;&gt;2 -->\n",
       "<g id=\"edge2\" class=\"edge\">\n",
       "<title>0&#45;&gt;2</title>\n",
       "<path fill=\"none\" stroke=\"black\" d=\"M144.47,-185.99C150.46,-177.23 157.05,-167.58 163.33,-158.4\"/>\n",
       "<polygon fill=\"black\" stroke=\"black\" points=\"166.22,-160.37 168.98,-150.14 160.44,-156.42 166.22,-160.37\"/>\n",
       "<text text-anchor=\"middle\" x=\"173.59\" y=\"-170.51\" font-family=\"Times,serif\" font-size=\"14.00\">False</text>\n",
       "</g>\n",
       "<!-- 3 -->\n",
       "<g id=\"node4\" class=\"node\">\n",
       "<title>3</title>\n",
       "<polygon fill=\"none\" stroke=\"black\" points=\"180.31,-50 68.23,-50 68.23,0 180.31,0 180.31,-50\"/>\n",
       "<text text-anchor=\"middle\" x=\"124.27\" y=\"-34.8\" font-family=\"Times,serif\" font-size=\"14.00\">gini = 0.168</text>\n",
       "<text text-anchor=\"middle\" x=\"124.27\" y=\"-20.8\" font-family=\"Times,serif\" font-size=\"14.00\">samples = 54</text>\n",
       "<text text-anchor=\"middle\" x=\"124.27\" y=\"-6.8\" font-family=\"Times,serif\" font-size=\"14.00\">value = [0, 49, 5]</text>\n",
       "</g>\n",
       "<!-- 2&#45;&gt;3 -->\n",
       "<g id=\"edge3\" class=\"edge\">\n",
       "<title>2&#45;&gt;3</title>\n",
       "<path fill=\"none\" stroke=\"black\" d=\"M167.74,-85.94C161.29,-77.04 154.24,-67.32 147.73,-58.35\"/>\n",
       "<polygon fill=\"black\" stroke=\"black\" points=\"150.4,-56.07 141.7,-50.03 144.73,-60.18 150.4,-56.07\"/>\n",
       "</g>\n",
       "<!-- 4 -->\n",
       "<g id=\"node5\" class=\"node\">\n",
       "<title>4</title>\n",
       "<polygon fill=\"none\" stroke=\"black\" points=\"311.31,-50 199.23,-50 199.23,0 311.31,0 311.31,-50\"/>\n",
       "<text text-anchor=\"middle\" x=\"255.27\" y=\"-34.8\" font-family=\"Times,serif\" font-size=\"14.00\">gini = 0.043</text>\n",
       "<text text-anchor=\"middle\" x=\"255.27\" y=\"-20.8\" font-family=\"Times,serif\" font-size=\"14.00\">samples = 46</text>\n",
       "<text text-anchor=\"middle\" x=\"255.27\" y=\"-6.8\" font-family=\"Times,serif\" font-size=\"14.00\">value = [0, 1, 45]</text>\n",
       "</g>\n",
       "<!-- 2&#45;&gt;4 -->\n",
       "<g id=\"edge4\" class=\"edge\">\n",
       "<title>2&#45;&gt;4</title>\n",
       "<path fill=\"none\" stroke=\"black\" d=\"M212.46,-85.94C218.81,-77.04 225.75,-67.32 232.16,-58.35\"/>\n",
       "<polygon fill=\"black\" stroke=\"black\" points=\"235.14,-60.2 238.1,-50.03 229.44,-56.13 235.14,-60.2\"/>\n",
       "</g>\n",
       "</g>\n",
       "</svg>\n"
      ],
      "text/plain": [
       "<graphviz.files.Source at 0x120773dd0>"
      ]
     },
     "execution_count": 9,
     "metadata": {},
     "output_type": "execute_result"
    }
   ],
   "source": [
    "sk_decision_tree = DecisionTreeClassifier(\n",
    "    max_depth=decision_tree.max_depth,\n",
    "    min_samples_leaf=decision_tree.min_samples_leaf,\n",
    "    min_samples_split=decision_tree.min_samples_split)\n",
    "\n",
    "sk_decision_tree.fit(X, y)\n",
    "\n",
    "# Visualize the sklearn tree\n",
    "# Note - same as ours except not using midpoints between split_vals\n",
    "\n",
    "graphviz.Source(export_graphviz(sk_decision_tree))"
   ]
  },
  {
   "cell_type": "markdown",
   "metadata": {
    "heading_collapsed": true
   },
   "source": [
    "## Decision tree - Titanic data"
   ]
  },
  {
   "cell_type": "markdown",
   "metadata": {
    "heading_collapsed": true,
    "hidden": true
   },
   "source": [
    "### load titanic data"
   ]
  },
  {
   "cell_type": "code",
   "execution_count": 10,
   "metadata": {
    "hidden": true
   },
   "outputs": [],
   "source": [
    "X_train = pd.read_feather('../titanic/processed/X_train.feather')\n",
    "y_train = pd.read_feather('../titanic/processed/y_train.feather')\n",
    "X_test = pd.read_feather('../titanic/processed/X_test.feather')\n",
    "y_test = pd.read_feather('../titanic/processed/y_test.feather')"
   ]
  },
  {
   "cell_type": "markdown",
   "metadata": {
    "heading_collapsed": true,
    "hidden": true
   },
   "source": [
    "### show accuracy for small tree"
   ]
  },
  {
   "cell_type": "code",
   "execution_count": 11,
   "metadata": {
    "hidden": true
   },
   "outputs": [
    {
     "name": "stderr",
     "output_type": "stream",
     "text": [
      "INFO:decision_tree:Checking features [ 0  1  2  3  4  5  6  7  8  9 10 11 12 13 14 15 16 17 18 19 20 21 22 23\n",
      " 24 25 26 27 28 29]\n",
      "INFO:decision_tree:Splitting tree on feature_index 27 and feature_split_val 0.0\n",
      "INFO:decision_tree:Checking features [ 0  1  2  3  4  5  6  7  8  9 10 11 12 13 14 15 16 17 18 19 20 21 22 23\n",
      " 24 25 26 27 28 29]\n",
      "INFO:decision_tree:Splitting tree on feature_index 10 and feature_split_val 0.0\n",
      "INFO:decision_tree:Reached max depth or no splits reduce impurity\n",
      "INFO:decision_tree:Reached max depth or no splits reduce impurity\n",
      "INFO:decision_tree:Checking features [ 0  1  2  3  4  5  6  7  8  9 10 11 12 13 14 15 16 17 18 19 20 21 22 23\n",
      " 24 25 26 27 28 29]\n",
      "INFO:decision_tree:Splitting tree on feature_index 1 and feature_split_val -0.12\n",
      "INFO:decision_tree:Reached max depth or no splits reduce impurity\n",
      "INFO:decision_tree:Reached max depth or no splits reduce impurity\n"
     ]
    },
    {
     "name": "stdout",
     "output_type": "stream",
     "text": [
      "Test accuracy = 75.42%\n"
     ]
    }
   ],
   "source": [
    "# for best result use max depth = 4\n",
    "\n",
    "titanic_decision_tree = DecisionTree(max_depth=2)\n",
    "titanic_decision_tree.fit(X_train.values, y_train.values)\n",
    "y_pred = titanic_decision_tree.predict(X_test.values)\n",
    "test_acc = (y_pred == y_test.values.flatten()).sum() / len(y_test)\n",
    "print(f'Test accuracy = {test_acc:.2%}')"
   ]
  },
  {
   "cell_type": "markdown",
   "metadata": {
    "heading_collapsed": true,
    "hidden": true
   },
   "source": [
    "### Visulaise titanic tree"
   ]
  },
  {
   "cell_type": "code",
   "execution_count": 12,
   "metadata": {
    "hidden": true
   },
   "outputs": [
    {
     "data": {
      "image/svg+xml": [
       "<?xml version=\"1.0\" encoding=\"UTF-8\" standalone=\"no\"?>\n",
       "<!DOCTYPE svg PUBLIC \"-//W3C//DTD SVG 1.1//EN\"\n",
       " \"http://www.w3.org/Graphics/SVG/1.1/DTD/svg11.dtd\">\n",
       "<!-- Generated by graphviz version 2.42.3 (20191010.1750)\n",
       " -->\n",
       "<!-- Title: %3 Pages: 1 -->\n",
       "<svg width=\"650pt\" height=\"258pt\"\n",
       " viewBox=\"0.00 0.00 650.24 258.00\" xmlns=\"http://www.w3.org/2000/svg\" xmlns:xlink=\"http://www.w3.org/1999/xlink\">\n",
       "<g id=\"graph0\" class=\"graph\" transform=\"scale(1 1) rotate(0) translate(4 254)\">\n",
       "<title>%3</title>\n",
       "<polygon fill=\"white\" stroke=\"transparent\" points=\"-4,4 -4,-254 646.24,-254 646.24,4 -4,4\"/>\n",
       "<!-- 5 -->\n",
       "<g id=\"node1\" class=\"node\">\n",
       "<title>5</title>\n",
       "<path fill=\"none\" stroke=\"black\" d=\"M387.23,-250C387.23,-250 258.26,-250 258.26,-250 252.26,-250 246.26,-244 246.26,-238 246.26,-238 246.26,-198 246.26,-198 246.26,-192 252.26,-186 258.26,-186 258.26,-186 387.23,-186 387.23,-186 393.23,-186 399.23,-192 399.23,-198 399.23,-198 399.23,-238 399.23,-238 399.23,-244 393.23,-250 387.23,-250\"/>\n",
       "<text text-anchor=\"middle\" x=\"322.74\" y=\"-234.8\" font-family=\"Times,serif\" font-size=\"14.00\">parch_mr &lt;= 0.0</text>\n",
       "<text text-anchor=\"middle\" x=\"322.74\" y=\"-220.8\" font-family=\"Times,serif\" font-size=\"14.00\">Samples = 712</text>\n",
       "<text text-anchor=\"middle\" x=\"322.74\" y=\"-206.8\" font-family=\"Times,serif\" font-size=\"14.00\">Impurity = 0.47</text>\n",
       "<text text-anchor=\"middle\" x=\"322.74\" y=\"-192.8\" font-family=\"Times,serif\" font-size=\"14.00\">class counts = [444 268]</text>\n",
       "</g>\n",
       "<!-- 6 -->\n",
       "<g id=\"node2\" class=\"node\">\n",
       "<title>6</title>\n",
       "<path fill=\"none\" stroke=\"black\" d=\"M292.73,-150C292.73,-150 166.76,-150 166.76,-150 160.76,-150 154.76,-144 154.76,-138 154.76,-138 154.76,-98 154.76,-98 154.76,-92 160.76,-86 166.76,-86 166.76,-86 292.73,-86 292.73,-86 298.73,-86 304.73,-92 304.73,-98 304.73,-98 304.73,-138 304.73,-138 304.73,-144 298.73,-150 292.73,-150\"/>\n",
       "<text text-anchor=\"middle\" x=\"229.74\" y=\"-134.8\" font-family=\"Times,serif\" font-size=\"14.00\">embarked_3 &lt;= 0.0</text>\n",
       "<text text-anchor=\"middle\" x=\"229.74\" y=\"-120.8\" font-family=\"Times,serif\" font-size=\"14.00\">Samples = 293</text>\n",
       "<text text-anchor=\"middle\" x=\"229.74\" y=\"-106.8\" font-family=\"Times,serif\" font-size=\"14.00\">Impurity = 0.43</text>\n",
       "<text text-anchor=\"middle\" x=\"229.74\" y=\"-92.8\" font-family=\"Times,serif\" font-size=\"14.00\">class counts = [ 90 203]</text>\n",
       "</g>\n",
       "<!-- 5&#45;&gt;6 -->\n",
       "<g id=\"edge1\" class=\"edge\">\n",
       "<title>5&#45;&gt;6</title>\n",
       "<path fill=\"none\" stroke=\"black\" d=\"M293.32,-185.99C284.75,-176.97 275.29,-166.99 266.34,-157.56\"/>\n",
       "<polygon fill=\"black\" stroke=\"black\" points=\"268.72,-154.99 259.3,-150.14 263.64,-159.81 268.72,-154.99\"/>\n",
       "</g>\n",
       "<!-- 7 -->\n",
       "<g id=\"node3\" class=\"node\">\n",
       "<title>7</title>\n",
       "<path fill=\"none\" stroke=\"black\" d=\"M498.45,-150C498.45,-150 335.04,-150 335.04,-150 329.04,-150 323.04,-144 323.04,-138 323.04,-138 323.04,-98 323.04,-98 323.04,-92 329.04,-86 335.04,-86 335.04,-86 498.45,-86 498.45,-86 504.45,-86 510.45,-92 510.45,-98 510.45,-98 510.45,-138 510.45,-138 510.45,-144 504.45,-150 498.45,-150\"/>\n",
       "<text text-anchor=\"middle\" x=\"416.74\" y=\"-134.8\" font-family=\"Times,serif\" font-size=\"14.00\">fare &lt;= &#45;0.1220086178826921</text>\n",
       "<text text-anchor=\"middle\" x=\"416.74\" y=\"-120.8\" font-family=\"Times,serif\" font-size=\"14.00\">Samples = 419</text>\n",
       "<text text-anchor=\"middle\" x=\"416.74\" y=\"-106.8\" font-family=\"Times,serif\" font-size=\"14.00\">Impurity = 0.26</text>\n",
       "<text text-anchor=\"middle\" x=\"416.74\" y=\"-92.8\" font-family=\"Times,serif\" font-size=\"14.00\">class counts = [354 &#160;65]</text>\n",
       "</g>\n",
       "<!-- 5&#45;&gt;7 -->\n",
       "<g id=\"edge2\" class=\"edge\">\n",
       "<title>5&#45;&gt;7</title>\n",
       "<path fill=\"none\" stroke=\"black\" d=\"M352.48,-185.99C361.14,-176.97 370.71,-166.99 379.75,-157.56\"/>\n",
       "<polygon fill=\"black\" stroke=\"black\" points=\"382.47,-159.78 386.87,-150.14 377.42,-154.94 382.47,-159.78\"/>\n",
       "</g>\n",
       "<!-- 8 -->\n",
       "<g id=\"node4\" class=\"node\">\n",
       "<title>8</title>\n",
       "<path fill=\"none\" stroke=\"black\" d=\"M137.73,-50C137.73,-50 11.76,-50 11.76,-50 5.76,-50 -0.24,-44 -0.24,-38 -0.24,-38 -0.24,-12 -0.24,-12 -0.24,-6 5.76,0 11.76,0 11.76,0 137.73,0 137.73,0 143.73,0 149.73,-6 149.73,-12 149.73,-12 149.73,-38 149.73,-38 149.73,-44 143.73,-50 137.73,-50\"/>\n",
       "<text text-anchor=\"middle\" x=\"74.74\" y=\"-34.8\" font-family=\"Times,serif\" font-size=\"14.00\">Samples = 155</text>\n",
       "<text text-anchor=\"middle\" x=\"74.74\" y=\"-20.8\" font-family=\"Times,serif\" font-size=\"14.00\">Impurity = 0.19</text>\n",
       "<text text-anchor=\"middle\" x=\"74.74\" y=\"-6.8\" font-family=\"Times,serif\" font-size=\"14.00\">class counts = [ 16 139]</text>\n",
       "</g>\n",
       "<!-- 6&#45;&gt;8 -->\n",
       "<g id=\"edge3\" class=\"edge\">\n",
       "<title>6&#45;&gt;8</title>\n",
       "<path fill=\"none\" stroke=\"black\" d=\"M176.83,-85.94C159.96,-76.03 141.36,-65.11 124.7,-55.33\"/>\n",
       "<polygon fill=\"black\" stroke=\"black\" points=\"126.07,-52.07 115.67,-50.03 122.52,-58.11 126.07,-52.07\"/>\n",
       "</g>\n",
       "<!-- 9 -->\n",
       "<g id=\"node5\" class=\"node\">\n",
       "<title>9</title>\n",
       "<path fill=\"none\" stroke=\"black\" d=\"M294.23,-50C294.23,-50 179.26,-50 179.26,-50 173.26,-50 167.26,-44 167.26,-38 167.26,-38 167.26,-12 167.26,-12 167.26,-6 173.26,0 179.26,0 179.26,0 294.23,0 294.23,0 300.23,0 306.23,-6 306.23,-12 306.23,-12 306.23,-38 306.23,-38 306.23,-44 300.23,-50 294.23,-50\"/>\n",
       "<text text-anchor=\"middle\" x=\"236.74\" y=\"-34.8\" font-family=\"Times,serif\" font-size=\"14.00\">Samples = 138</text>\n",
       "<text text-anchor=\"middle\" x=\"236.74\" y=\"-20.8\" font-family=\"Times,serif\" font-size=\"14.00\">Impurity = 0.5</text>\n",
       "<text text-anchor=\"middle\" x=\"236.74\" y=\"-6.8\" font-family=\"Times,serif\" font-size=\"14.00\">class counts = [74 64]</text>\n",
       "</g>\n",
       "<!-- 6&#45;&gt;9 -->\n",
       "<g id=\"edge4\" class=\"edge\">\n",
       "<title>6&#45;&gt;9</title>\n",
       "<path fill=\"none\" stroke=\"black\" d=\"M232.13,-85.94C232.77,-77.59 233.47,-68.52 234.13,-60.02\"/>\n",
       "<polygon fill=\"black\" stroke=\"black\" points=\"237.62,-60.27 234.89,-50.03 230.64,-59.73 237.62,-60.27\"/>\n",
       "</g>\n",
       "<!-- 10 -->\n",
       "<g id=\"node6\" class=\"node\">\n",
       "<title>10</title>\n",
       "<path fill=\"none\" stroke=\"black\" d=\"M473.73,-50C473.73,-50 347.76,-50 347.76,-50 341.76,-50 335.76,-44 335.76,-38 335.76,-38 335.76,-12 335.76,-12 335.76,-6 341.76,0 347.76,0 347.76,0 473.73,0 473.73,0 479.73,0 485.73,-6 485.73,-12 485.73,-12 485.73,-38 485.73,-38 485.73,-44 479.73,-50 473.73,-50\"/>\n",
       "<text text-anchor=\"middle\" x=\"410.74\" y=\"-34.8\" font-family=\"Times,serif\" font-size=\"14.00\">Samples = 321</text>\n",
       "<text text-anchor=\"middle\" x=\"410.74\" y=\"-20.8\" font-family=\"Times,serif\" font-size=\"14.00\">Impurity = 0.19</text>\n",
       "<text text-anchor=\"middle\" x=\"410.74\" y=\"-6.8\" font-family=\"Times,serif\" font-size=\"14.00\">class counts = [286 &#160;35]</text>\n",
       "</g>\n",
       "<!-- 7&#45;&gt;10 -->\n",
       "<g id=\"edge5\" class=\"edge\">\n",
       "<title>7&#45;&gt;10</title>\n",
       "<path fill=\"none\" stroke=\"black\" d=\"M414.69,-85.94C414.14,-77.59 413.55,-68.52 412.99,-60.02\"/>\n",
       "<polygon fill=\"black\" stroke=\"black\" points=\"416.48,-59.78 412.33,-50.03 409.49,-60.24 416.48,-59.78\"/>\n",
       "</g>\n",
       "<!-- 11 -->\n",
       "<g id=\"node7\" class=\"node\">\n",
       "<title>11</title>\n",
       "<path fill=\"none\" stroke=\"black\" d=\"M630.23,-50C630.23,-50 515.26,-50 515.26,-50 509.26,-50 503.26,-44 503.26,-38 503.26,-38 503.26,-12 503.26,-12 503.26,-6 509.26,0 515.26,0 515.26,0 630.23,0 630.23,0 636.23,0 642.23,-6 642.23,-12 642.23,-12 642.23,-38 642.23,-38 642.23,-44 636.23,-50 630.23,-50\"/>\n",
       "<text text-anchor=\"middle\" x=\"572.74\" y=\"-34.8\" font-family=\"Times,serif\" font-size=\"14.00\">Samples = 98</text>\n",
       "<text text-anchor=\"middle\" x=\"572.74\" y=\"-20.8\" font-family=\"Times,serif\" font-size=\"14.00\">Impurity = 0.42</text>\n",
       "<text text-anchor=\"middle\" x=\"572.74\" y=\"-6.8\" font-family=\"Times,serif\" font-size=\"14.00\">class counts = [68 30]</text>\n",
       "</g>\n",
       "<!-- 7&#45;&gt;11 -->\n",
       "<g id=\"edge6\" class=\"edge\">\n",
       "<title>7&#45;&gt;11</title>\n",
       "<path fill=\"none\" stroke=\"black\" d=\"M469.99,-85.94C486.97,-76.03 505.7,-65.11 522.46,-55.33\"/>\n",
       "<polygon fill=\"black\" stroke=\"black\" points=\"524.67,-58.09 531.55,-50.03 521.15,-52.05 524.67,-58.09\"/>\n",
       "</g>\n",
       "</g>\n",
       "</svg>\n"
      ],
      "text/plain": [
       "<graphviz.dot.Digraph at 0x1207fedd0>"
      ]
     },
     "execution_count": 12,
     "metadata": {},
     "output_type": "execute_result"
    }
   ],
   "source": [
    "titanic_features = list(X_train.columns)\n",
    "titanic_decision_tree.render(titanic_features)"
   ]
  },
  {
   "cell_type": "markdown",
   "metadata": {
    "heading_collapsed": true
   },
   "source": [
    "## end"
   ]
  }
 ],
 "metadata": {
  "kernelspec": {
   "display_name": "Python 3",
   "language": "python",
   "name": "python3"
  },
  "language_info": {
   "codemirror_mode": {
    "name": "ipython",
    "version": 3
   },
   "file_extension": ".py",
   "mimetype": "text/x-python",
   "name": "python",
   "nbconvert_exporter": "python",
   "pygments_lexer": "ipython3",
   "version": "3.7.7"
  },
  "toc": {
   "base_numbering": 1,
   "nav_menu": {},
   "number_sections": true,
   "sideBar": true,
   "skip_h1_title": false,
   "title_cell": "Table of Contents",
   "title_sidebar": "Contents",
   "toc_cell": false,
   "toc_position": {},
   "toc_section_display": true,
   "toc_window_display": true
  }
 },
 "nbformat": 4,
 "nbformat_minor": 2
}
