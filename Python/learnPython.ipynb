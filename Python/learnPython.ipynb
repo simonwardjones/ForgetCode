{
 "cells": [
  {
   "cell_type": "markdown",
   "metadata": {},
   "source": [
    "# learnPython "
   ]
  },
  {
   "cell_type": "code",
   "execution_count": 13,
   "metadata": {},
   "outputs": [
    {
     "data": {
      "application/javascript": [
       "// JAVASCRIPT CONETENTS\n",
       "setTimeout(function(){\n",
       "$(\":header\").each(function(i){ \n",
       "    var level = this.tagName[1]\n",
       "    var buffer = \"\"\n",
       "    for(var j = 0;j <= level; j++){\n",
       "\n",
       "        buffer += \"  \"\n",
       "    }\n",
       "    buffer += \"- \"\n",
       "    //console.log(buffer)\n",
       "    element.append(\"<code>\"+ buffer + \"</code>\" + \"<a href=#\" + this.id + \">\" + this.innerText + \"</a><br>\"); \n",
       "})\n",
       "    },100);\n",
       "  "
      ],
      "text/plain": [
       "<IPython.core.display.Javascript object>"
      ]
     },
     "metadata": {},
     "output_type": "display_data"
    }
   ],
   "source": [
    "%%javascript\n",
    "// JAVASCRIPT CONETENTS\n",
    "setTimeout(function(){\n",
    "$(\":header\").each(function(i){ \n",
    "    var level = this.tagName[1]\n",
    "    var buffer = \"\"\n",
    "    for(var j = 0;j <= level; j++){\n",
    "\n",
    "        buffer += \"  \"\n",
    "    }\n",
    "    buffer += \"- \"\n",
    "    //console.log(buffer)\n",
    "    element.append(\"<code>\"+ buffer + \"</code>\" + \"<a href=#\" + this.id + \">\" + this.innerText + \"</a><br>\"); \n",
    "})\n",
    "    },100);\n",
    "  "
   ]
  },
  {
   "cell_type": "markdown",
   "metadata": {},
   "source": [
    "## Print"
   ]
  },
  {
   "cell_type": "code",
   "execution_count": 2,
   "metadata": {},
   "outputs": [
    {
     "name": "stdout",
     "output_type": "stream",
     "text": [
      "Example string\n",
      "He said \"Using quotes is hard\"\n",
      "He's got it!\n",
      "Or strings can use double 'quotes'\n",
      "The double esacpe works like this: \" tada! \n",
      "String and number 5\n",
      "String and number 5\n",
      "13\n"
     ]
    }
   ],
   "source": [
    "# Comments like this!\n",
    "print('Example string')\n",
    "print('He said \"Using quotes is hard\"')\n",
    "print('He\\'s got it!')\n",
    "print(\"Or strings can use double 'quotes'\")\n",
    "print(\"The double esacpe works like this: \\\" tada! \")\n",
    "\n",
    "# Concatenation:\n",
    "print(\"String and number\", 5)\n",
    "print(\"String and number \"+ str(5))\n",
    "print(int(\"8\") + 5)"
   ]
  },
  {
   "cell_type": "markdown",
   "metadata": {
    "collapsed": true
   },
   "source": [
    "## Basic Maths"
   ]
  },
  {
   "cell_type": "code",
   "execution_count": 3,
   "metadata": {},
   "outputs": [
    {
     "name": "stdout",
     "output_type": "stream",
     "text": [
      "Add 4+4 = 8\n",
      "Add 4*4 = 16\n",
      "Add 4-2 = 2\n",
      "Add 4/3 = 1.3333333333333333\n"
     ]
    }
   ],
   "source": [
    "print('Add 4+4 =',4+4)\n",
    "print('Add 4*4 =',4*4)\n",
    "print('Add 4-2 =',4-2)\n",
    "print('Add 4/3 =',4/3)"
   ]
  },
  {
   "cell_type": "markdown",
   "metadata": {},
   "source": [
    "## Variables"
   ]
  },
  {
   "cell_type": "code",
   "execution_count": 4,
   "metadata": {},
   "outputs": [
    {
     "name": "stdout",
     "output_type": "stream",
     "text": [
      "String Var\n",
      "r = 3\n",
      "y = 6\n"
     ]
    }
   ],
   "source": [
    "exampleVar = \"String Var\"\n",
    "print(exampleVar)\n",
    "\n",
    "# multiple setting\n",
    "x,y = 5,6\n",
    "r,s =(3,5)\n",
    "print(\"r =\",r)\n",
    "print(\"y =\",y)"
   ]
  },
  {
   "cell_type": "markdown",
   "metadata": {},
   "source": [
    "## While Loop "
   ]
  },
  {
   "cell_type": "code",
   "execution_count": 5,
   "metadata": {},
   "outputs": [
    {
     "name": "stdout",
     "output_type": "stream",
     "text": [
      "1\n",
      "2\n",
      "3\n",
      "4\n",
      "5\n"
     ]
    }
   ],
   "source": [
    "condition = 1\n",
    "while condition < 6:\n",
    "    print(condition)\n",
    "    condition += 1"
   ]
  },
  {
   "cell_type": "markdown",
   "metadata": {},
   "source": [
    "## For Loop"
   ]
  },
  {
   "cell_type": "code",
   "execution_count": 6,
   "metadata": {},
   "outputs": [
    {
     "name": "stdout",
     "output_type": "stream",
     "text": [
      "45\n",
      "4325\n",
      "257\n",
      "6\n",
      "4\n"
     ]
    }
   ],
   "source": [
    "exampleList =  [45,4325,257,6,4]\n",
    "for eachNumber in exampleList:\n",
    "    print(eachNumber)"
   ]
  },
  {
   "cell_type": "markdown",
   "metadata": {},
   "source": [
    "## If Statements "
   ]
  },
  {
   "cell_type": "code",
   "execution_count": 7,
   "metadata": {},
   "outputs": [
    {
     "name": "stdout",
     "output_type": "stream",
     "text": [
      "y is greater than x and z\n",
      "x not equal to z\n"
     ]
    }
   ],
   "source": [
    "x,y,z = 5,8,4\n",
    "if x < y > z:\n",
    "    print(\"y is greater than x and z\")\n",
    "if z != x:\n",
    "    print(\"x not equal to z\")\n",
    "if x != x:\n",
    "    print(\"x not equal to x\")"
   ]
  },
  {
   "cell_type": "code",
   "execution_count": 8,
   "metadata": {
    "collapsed": true
   },
   "outputs": [],
   "source": [
    "# If and elif"
   ]
  },
  {
   "cell_type": "code",
   "execution_count": 9,
   "metadata": {},
   "outputs": [
    {
     "name": "stdout",
     "output_type": "stream",
     "text": [
      "x smaller than or equal to y\n"
     ]
    }
   ],
   "source": [
    "if x > y:\n",
    "    print(\"x greater than y \")\n",
    "elif x == y:\n",
    "    print(\"x == y\")\n",
    "else:\n",
    "    print(\"x smaller than or equal to y\")"
   ]
  },
  {
   "cell_type": "code",
   "execution_count": 10,
   "metadata": {},
   "outputs": [
    {
     "name": "stdout",
     "output_type": "stream",
     "text": [
      "x == y\n"
     ]
    }
   ],
   "source": [
    "y = x\n",
    "if x > y:\n",
    "    print(\"x greater than y \")\n",
    "elif x == y:\n",
    "    print(\"x == y\")\n",
    "elif 1==1:\n",
    "    print(\"true but not prinited\")\n",
    "else:\n",
    "    print(\"x smaller than or equal to y\")"
   ]
  },
  {
   "cell_type": "markdown",
   "metadata": {},
   "source": [
    "## Functions "
   ]
  },
  {
   "cell_type": "code",
   "execution_count": 11,
   "metadata": {},
   "outputs": [
    {
     "name": "stdout",
     "output_type": "stream",
     "text": [
      "4\n",
      "a = 2 b =  3 \n",
      "ans = 5\n"
     ]
    }
   ],
   "source": [
    "def exampleFunc():\n",
    "    z = 4\n",
    "    print(4)\n",
    "\n",
    "def simpleAdd(a,b):\n",
    "    ans =  a + b\n",
    "    print(\"a =\",a,\"b = \",b,\"\\nans =\",ans)\n",
    "    \n",
    "exampleFunc()\n",
    "simpleAdd(a=2,b=3)"
   ]
  },
  {
   "cell_type": "markdown",
   "metadata": {},
   "source": [
    "### Default function values"
   ]
  },
  {
   "cell_type": "code",
   "execution_count": 12,
   "metadata": {},
   "outputs": [
    {
     "name": "stdout",
     "output_type": "stream",
     "text": [
      "7\n"
     ]
    }
   ],
   "source": [
    "def simple(a,b=3):\n",
    "    print(a+b)\n",
    "\n",
    "simple(4)"
   ]
  },
  {
   "cell_type": "markdown",
   "metadata": {},
   "source": [
    "## Global and local Variables "
   ]
  },
  {
   "cell_type": "code",
   "execution_count": 13,
   "metadata": {},
   "outputs": [
    {
     "name": "stdout",
     "output_type": "stream",
     "text": [
      "we can access x = 6 but we can't edit it\n",
      "6 7\n"
     ]
    }
   ],
   "source": [
    "x = y = 6\n",
    "def example():\n",
    "    global y\n",
    "    print(\"we can access x =\",x,\"but we can't edit it\")\n",
    "    # x+=1 would error\n",
    "    y+=1\n",
    "    \n",
    "example()\n",
    "print(x,y)"
   ]
  },
  {
   "cell_type": "markdown",
   "metadata": {},
   "source": [
    "## Write and Read File "
   ]
  },
  {
   "cell_type": "code",
   "execution_count": 14,
   "metadata": {
    "collapsed": true
   },
   "outputs": [],
   "source": [
    "text = \"Sample file text\"\n",
    "saveFile = open(\"exampleFile.txt\",\"w\")\n",
    "saveFile.write(text)\n",
    "saveFile.close()"
   ]
  },
  {
   "cell_type": "markdown",
   "metadata": {},
   "source": [
    "### Appending text"
   ]
  },
  {
   "cell_type": "code",
   "execution_count": 15,
   "metadata": {
    "collapsed": true
   },
   "outputs": [],
   "source": [
    "appendMe = \"\\nThis is a new line\"\n",
    "appendFile = open(\"exampleFile.txt\",\"a\")\n",
    "appendFile.write(appendMe)\n",
    "appendFile.close() # Don't forget to close the file"
   ]
  },
  {
   "cell_type": "markdown",
   "metadata": {},
   "source": [
    "### Read from file"
   ]
  },
  {
   "cell_type": "code",
   "execution_count": 16,
   "metadata": {},
   "outputs": [
    {
     "name": "stdout",
     "output_type": "stream",
     "text": [
      "readMe =  Sample file text\n",
      "This is a new line \n",
      "\n",
      "readMeList =  ['Sample file text\\n', 'This is a new line']\n"
     ]
    }
   ],
   "source": [
    "readMe  = open(\"exampleFile.txt\",'r').read()\n",
    "readMeList = open(\"exampleFile.txt\",'r').readlines()\n",
    "print(\"readMe = \", readMe, \"\\n\")\n",
    "print(\"readMeList = \", readMeList)"
   ]
  },
  {
   "cell_type": "markdown",
   "metadata": {},
   "source": [
    "## Classes"
   ]
  },
  {
   "cell_type": "code",
   "execution_count": 17,
   "metadata": {},
   "outputs": [
    {
     "name": "stdout",
     "output_type": "stream",
     "text": [
      "15\n",
      "3.0\n"
     ]
    }
   ],
   "source": [
    "class calculator:\n",
    "    \n",
    "    def addition(x,y):\n",
    "        added = x + y\n",
    "        print(added)\n",
    "        \n",
    "    def subtraction(x,y):\n",
    "        subb = x - y\n",
    "        print(subb)\n",
    "    \n",
    "    def multipication(x,y):\n",
    "        mult = x * y\n",
    "        print(mult)\n",
    "    \n",
    "    def division(x,y):\n",
    "        div = x / y\n",
    "        print(div)\n",
    "        \n",
    "calculator.multipication(3,5)\n",
    "calculator.division(9,3)"
   ]
  },
  {
   "cell_type": "markdown",
   "metadata": {},
   "source": [
    "## if  __name__ == \"__main__\":"
   ]
  },
  {
   "cell_type": "code",
   "execution_count": 18,
   "metadata": {},
   "outputs": [
    {
     "name": "stdout",
     "output_type": "stream",
     "text": [
      "lol\n"
     ]
    }
   ],
   "source": [
    "# The print lol is only called if the currently running script is the \"main\" file\n",
    "if __name__ == \"__main__\":\n",
    "    print(\"lol\")"
   ]
  },
  {
   "cell_type": "markdown",
   "metadata": {},
   "source": [
    "## User input "
   ]
  },
  {
   "cell_type": "code",
   "execution_count": 19,
   "metadata": {},
   "outputs": [
    {
     "name": "stdout",
     "output_type": "stream",
     "text": [
      "What's your name fella? si\n",
      "Hi si\n"
     ]
    }
   ],
   "source": [
    "x = input(\"What's your name fella? \")\n",
    "print(\"Hi\",x)"
   ]
  },
  {
   "cell_type": "markdown",
   "metadata": {},
   "source": [
    "## Statistics "
   ]
  },
  {
   "cell_type": "code",
   "execution_count": 20,
   "metadata": {},
   "outputs": [
    {
     "name": "stdout",
     "output_type": "stream",
     "text": [
      "Mean = 637\n",
      "Mode = 234\n",
      "Standard Deviaion=  1417.2567062563405\n",
      "Variance=  2008616.5714285714\n"
     ]
    }
   ],
   "source": [
    "import statistics\n",
    "\n",
    "exampleList = [4123,443,32,23,4,3,234,234]\n",
    "print(\"Mean =\",statistics.mean(exampleList))\n",
    "print(\"Mode =\",statistics.mode(exampleList))\n",
    "print(\"Standard Deviaion= \",statistics.stdev(exampleList))\n",
    "print(\"Variance= \",statistics.variance(exampleList))"
   ]
  },
  {
   "cell_type": "markdown",
   "metadata": {},
   "source": [
    "## Imports "
   ]
  },
  {
   "cell_type": "code",
   "execution_count": 21,
   "metadata": {},
   "outputs": [
    {
     "name": "stdout",
     "output_type": "stream",
     "text": [
      "Mean = 637\n",
      "Variance = 2008616.5714285714\n",
      "Mode =  234\n"
     ]
    }
   ],
   "source": [
    "import statistics as s # Aliasing\n",
    "from statistics import variance as v, mode as m # Import methods from modules\n",
    "print(\"Mean =\",s.mean(exampleList))\n",
    "print(\"Variance =\",v(exampleList))\n",
    "print(\"Mode = \",m(exampleList))"
   ]
  },
  {
   "cell_type": "code",
   "execution_count": 22,
   "metadata": {},
   "outputs": [
    {
     "name": "stdout",
     "output_type": "stream",
     "text": [
      "data = [4, 5, 6]\n"
     ]
    }
   ],
   "source": [
    "# Now to import an example I made\n",
    "import exampleModule # This has one function called ex\n",
    "\n",
    "exampleModule.ex([4,5,6])"
   ]
  },
  {
   "cell_type": "markdown",
   "metadata": {},
   "source": [
    "## Lists and Tuples "
   ]
  },
  {
   "cell_type": "markdown",
   "metadata": {},
   "source": [
    "Lists are muttable but tuples are not"
   ]
  },
  {
   "cell_type": "code",
   "execution_count": 23,
   "metadata": {
    "collapsed": true
   },
   "outputs": [],
   "source": [
    "# List x an tuple y\n",
    "x = [5,6,2,6]\n",
    "y = (5,6,2,6)\n",
    "# This would error.  y[0] = 4"
   ]
  },
  {
   "cell_type": "code",
   "execution_count": 24,
   "metadata": {},
   "outputs": [
    {
     "name": "stdout",
     "output_type": "stream",
     "text": [
      "6\n"
     ]
    }
   ],
   "source": [
    "# Use tuples from unpacking\n",
    "def a():\n",
    "    return 5,6\n",
    "b,c = a()\n",
    "print(c)"
   ]
  },
  {
   "cell_type": "markdown",
   "metadata": {},
   "source": [
    "### Appending, inserting and removing"
   ]
  },
  {
   "cell_type": "code",
   "execution_count": 25,
   "metadata": {},
   "outputs": [
    {
     "name": "stdout",
     "output_type": "stream",
     "text": [
      "Note\n",
      "- The 9 on the end\n",
      "- The 200 (with index as first element)\n",
      "- The missing 2 value\n",
      "- The missing 3 value\n",
      " [5, 200, 6, 6, 9]\n"
     ]
    }
   ],
   "source": [
    "x = [5,6,3,2,6]\n",
    "x.append(9)\n",
    "x.insert(1,200)\n",
    "x.remove(2) # remove by value\n",
    "del x[3] # remove by index\n",
    "\n",
    "print(\"\"\"Note\n",
    "- The 9 on the end\n",
    "- The 200 (with index as first element)\n",
    "- The missing 2 value\n",
    "- The missing 3 value\n",
    "\"\"\",x)"
   ]
  },
  {
   "cell_type": "markdown",
   "metadata": {},
   "source": [
    "### Refencing and slicing"
   ]
  },
  {
   "cell_type": "code",
   "execution_count": 26,
   "metadata": {},
   "outputs": [
    {
     "name": "stdout",
     "output_type": "stream",
     "text": [
      "Select single value at index 2, x[2]= 6\n",
      "Select slice index 2:3, x[2:4]= [6, 6]\n",
      "One can reference the (first) index of a vlaue e.g. x.index(6) is 2\n"
     ]
    }
   ],
   "source": [
    "print(\"Select single value at index 2, x[2]=\",x[2])\n",
    "print(\"Select slice index 2:3, x[2:4]=\",x[2:4])\n",
    "print(\"One can reference the (first) index of a vlaue e.g. x.index(6) is\",x.index(6))"
   ]
  },
  {
   "cell_type": "markdown",
   "metadata": {},
   "source": [
    "### Sorting lists"
   ]
  },
  {
   "cell_type": "code",
   "execution_count": 27,
   "metadata": {},
   "outputs": [
    {
     "name": "stdout",
     "output_type": "stream",
     "text": [
      "[5, 6, 6, 9, 200]\n"
     ]
    }
   ],
   "source": [
    "x.sort()\n",
    "print(x)"
   ]
  },
  {
   "cell_type": "markdown",
   "metadata": {},
   "source": [
    "### Multidimensional Lists"
   ]
  },
  {
   "cell_type": "code",
   "execution_count": 28,
   "metadata": {},
   "outputs": [
    {
     "data": {
      "text/plain": [
       "49"
      ]
     },
     "execution_count": 28,
     "metadata": {},
     "output_type": "execute_result"
    }
   ],
   "source": [
    "multiList = [\n",
    "    [[3,54,4],[43,49,5]],\n",
    "    [[5,6],[5,2]],\n",
    "    [[3]]\n",
    "]\n",
    "multiList[0][1][1]"
   ]
  },
  {
   "cell_type": "markdown",
   "metadata": {},
   "source": [
    "## Error Handling "
   ]
  },
  {
   "cell_type": "code",
   "execution_count": 29,
   "metadata": {},
   "outputs": [
    {
     "name": "stdout",
     "output_type": "stream",
     "text": [
      "['blue', 'red', 'mauve', 'green', 'yellow', 'black', 'chartruesse']\n",
      "['3', '3', '6', '7', '2', '8', '5']\n",
      "\n",
      "\n",
      "Pease enter a colour blue\n",
      "the number for your colour blue is 3\n",
      "program finished\n"
     ]
    }
   ],
   "source": [
    "import csv\n",
    "with open(\"exampleCSV.csv\") as f:\n",
    "    readCSV = csv.reader(f,delimiter=\",\")\n",
    "    number = []\n",
    "    colour = []\n",
    "    for i, row in enumerate(readCSV):\n",
    "        if i > 1:\n",
    "            number.append(row[1])\n",
    "            colour.append(row[2])\n",
    "    print(colour)\n",
    "    print(number)\n",
    "    print(\"\\n\")\n",
    "\n",
    "    try:\n",
    "        userColour = input('Pease enter a colour ').lower()\n",
    "        if userColour in colour:\n",
    "            coldex = colour.index(userColour)\n",
    "            userNumber = number[coldex]\n",
    "            print(\"the number for your colour\",userColour,\"is\",userNumber)\n",
    "        else:\n",
    "            print(\"Please select a colour from\",colour)\n",
    "    except Exception as e:\n",
    "        print(e)\n",
    "    print(\"program finished\")"
   ]
  },
  {
   "cell_type": "markdown",
   "metadata": {},
   "source": [
    "## MultiLine Print "
   ]
  },
  {
   "cell_type": "code",
   "execution_count": 30,
   "metadata": {},
   "outputs": [
    {
     "name": "stdout",
     "output_type": "stream",
     "text": [
      "\n",
      "This is an \n",
      "example of a multiline\n",
      "print!!\n",
      "\n",
      "||=============================||\n",
      "||Authors: Simon, Matthew      ||\n",
      "||Date: 5/10/17                ||\n",
      "||                             || \n",
      "||=============================||\n",
      "\n"
     ]
    }
   ],
   "source": [
    "print(\"\"\"\n",
    "This is an \n",
    "example of a multiline\n",
    "print!!\n",
    "\n",
    "||=============================||\n",
    "||Authors: Simon, Matthew      ||\n",
    "||Date: 5/10/17                ||\n",
    "||                             || \n",
    "||=============================||\n",
    "\"\"\")"
   ]
  },
  {
   "cell_type": "markdown",
   "metadata": {},
   "source": [
    "## Dictionaries "
   ]
  },
  {
   "cell_type": "markdown",
   "metadata": {},
   "source": [
    "Dictionaries do not have order!"
   ]
  },
  {
   "cell_type": "code",
   "execution_count": 31,
   "metadata": {},
   "outputs": [
    {
     "name": "stdout",
     "output_type": "stream",
     "text": [
      "stan's value  [34, 'very blond']\n",
      "{'simon': [23, 'blond'], 'matt': [9, 'brown'], 'stan': [34]}\n"
     ]
    }
   ],
   "source": [
    "exampleDict = {\n",
    "    \"simon\": [23,\"blond\"],\n",
    "    \"matt\": [445,\"brown\"],\n",
    "    \"stan\": [34,\"very blond\"],\n",
    "    \"george\": [23,\"black\"]\n",
    "}\n",
    "\n",
    "print(\"stan's value \",exampleDict[\"stan\"])\n",
    "del exampleDict[\"george\"]\n",
    "exampleDict[\"matt\"][0] = 9 # change matt's age\n",
    "del exampleDict[\"stan\"][1] # delete stan's hair colour\n",
    "print(exampleDict)"
   ]
  },
  {
   "cell_type": "markdown",
   "metadata": {},
   "source": [
    "## Python Built in Functions and Libraries"
   ]
  },
  {
   "cell_type": "code",
   "execution_count": 32,
   "metadata": {},
   "outputs": [
    {
     "name": "stdout",
     "output_type": "stream",
     "text": [
      "2\n",
      "3.235\n"
     ]
    }
   ],
   "source": [
    "# Abosulte value\n",
    "print(abs(-2))\n",
    "# Round\n",
    "print(round(3.234543,3))\n",
    "# help() # type q to quit"
   ]
  },
  {
   "cell_type": "markdown",
   "metadata": {},
   "source": [
    "## OS"
   ]
  },
  {
   "cell_type": "code",
   "execution_count": 33,
   "metadata": {},
   "outputs": [
    {
     "name": "stdout",
     "output_type": "stream",
     "text": [
      "C:\\Users\\simon\\OneDrive\\Documents\\Simon's Folder\\Data Science\\ForgetCode\\Python\n",
      "['.ipynb_checkpoints', 'exampleCSV.csv', 'exampleDir', 'exampleFile.txt', 'exampleModule.py', 'learnPandas.ipynb', 'learnPandas.py', 'learnPython.ipynb', 'LearnPython.md', 'pandas-cheat-sheet.pdf', '__pycache__']\n",
      "['.ipynb_checkpoints', 'changedDir', 'exampleCSV.csv', 'exampleFile.txt', 'exampleModule.py', 'learnPandas.ipynb', 'learnPandas.py', 'learnPython.ipynb', 'LearnPython.md', 'pandas-cheat-sheet.pdf', '__pycache__']\n",
      "['.ipynb_checkpoints', 'exampleCSV.csv', 'exampleFile.txt', 'exampleModule.py', 'learnPandas.ipynb', 'learnPandas.py', 'learnPython.ipynb', 'LearnPython.md', 'pandas-cheat-sheet.pdf', '__pycache__']\n"
     ]
    }
   ],
   "source": [
    "import os\n",
    "cwd = os.getcwd()\n",
    "print(cwd)\n",
    "\n",
    "# Make a new Dir\n",
    "os.mkdir(\"exampleDir/\")\n",
    "print(os.listdir())\n",
    "\n",
    "# Rename\n",
    "os.rename(\"exampleDir/\",\"changedDir/\")\n",
    "print(os.listdir())\n",
    "\n",
    "# Remove Directory\n",
    "os.rmdir(\"changedDir\")\n",
    "print(os.listdir())\n",
    "\n"
   ]
  },
  {
   "cell_type": "markdown",
   "metadata": {},
   "source": [
    "## Sys "
   ]
  },
  {
   "cell_type": "code",
   "execution_count": 34,
   "metadata": {
    "collapsed": true
   },
   "outputs": [],
   "source": [
    "import sys"
   ]
  },
  {
   "cell_type": "code",
   "execution_count": 35,
   "metadata": {},
   "outputs": [
    {
     "name": "stderr",
     "output_type": "stream",
     "text": [
      "This is stderr text\n"
     ]
    },
    {
     "name": "stdout",
     "output_type": "stream",
     "text": [
      "This is stdout text\n",
      "['C:\\\\Users\\\\simon\\\\Anaconda3\\\\lib\\\\site-packages\\\\ipykernel_launcher.py', '-f', 'C:\\\\Users\\\\simon\\\\AppData\\\\Roaming\\\\jupyter\\\\runtime\\\\kernel-843298a0-d8cd-4748-a5cb-f18d7809f84e.json']\n"
     ]
    }
   ],
   "source": [
    "sys.stderr.write(\"This is stderr text\\n\")\n",
    "sys.stderr.flush()\n",
    "sys.stdout.write(\"This is stdout text\\n\")\n",
    "\n",
    "print(sys.argv)\n",
    "## The sys.argv is the array of inputs passed \n",
    "## to the python interprter"
   ]
  },
  {
   "cell_type": "markdown",
   "metadata": {},
   "source": [
    "## urllib "
   ]
  },
  {
   "cell_type": "code",
   "execution_count": 36,
   "metadata": {},
   "outputs": [
    {
     "name": "stdout",
     "output_type": "stream",
     "text": [
      "b'<!doctype html><html itemscope=\"\" itemtype=\"http://schema.org/WebPage\" lang=\"en-GB\"><head><meta content=\"text/html; charset=UTF-8\" http-equiv=\"Content-Type\"><meta content=\"/images/branding/googleg/1x/googleg_standard_color_128dp.png\" itemprop=\"image\"><title>Google</title><script>(function(){window.google={kEI:\\'VA0HWtfOGYLVkwW3nonwCA\\',kEXPI:\\'1352960,1354277,1354722,1354916,1355219,1355736,1355771,1355866,1356031,1356078,1356370,3700290,3700429,3700440,3700489,4029815,4031109,4043492,4045840,4048347,4067924,4076999,4078430,4081039,4081164,4095910,4097153,4097922,4097929,4098721,4098728,4098752,4102237,4103254,4103475,4103845,4103861,4104258,4104414,4109316,4109489,4113217,4114597,4115697,4116351,4116724,4116731,4116926,4116935,4117328,4117980,4118227,4118301,4118546,4118798,4119032,4119034,4119036,4120415,4120660,4121035,4121518,4122382,4124091,4124850,4125837,4126204,4127744,4127775,4128375,4128586,4129520,4129555,4129633,4130412,4130415,4130560,4130783,4131073,4131247,4131642,4131837,4131877,4132952,4133090,4133113,4133125,4133245,4133416,4134064,4134267,4134440,4134919,4134952,4135088,4135209,4135249,4135262,4135364,4135576,4135744,4135855,4135934,4135954,4136221,4136235,4136459,4136549,4137095,4137110,4137129,4137415,4137461,4137463,4137597,4138341,4138386,4138580,4139436,4139460,4139645,4140031,4140409,4140695,4140986,4141049,4141143,4141183,4141352,4141393,4141725,4141733,4141782,4141784,4141798,4141847,10200083,10201957,10202524,19000288,19000423,19000427,19001999,19002244,19002245,19002249,19002252,19002257,19002548,19002664,19002671,19002880,19003319,19003321,19003323,19003407,19003408,19003409,19003916,19004006,19004102,19004105,19004108,19004110,19004127,19004129,19004130,19004159,19004164,41317155\\',authuser:0,kscs:\\'c9c918f0_VA0HWtfOGYLVkwW3nonwCA\\',u:\\'c9c918f0\\',kGL:\\'GB\\'};google.kHL=\\'en-GB\\';})();(function(){google.lc=[];google.li=0;google.getEI=function(a){for(var b;a&&(!a.getAttribute||!(b=a.getAttribute(\"eid\")));)a=a.parentNode;return b||google.kEI};google.getLEI=function(a){for(var b=null;a&&(!a.getAttribute||!(b=a.getAttribute(\"leid\")));)a=a.parentNode;return b};google.https=function(){return\"https:\"==window.location.protocol};google.ml=function(){return null};google.wl=function(a,b){try{google.ml(Error(a),!1,b)}catch(d){}};google.time=function(){return(new Date).getTime()};google.log=function(a,b,d,c,g){if(a=google.logUrl(a,b,d,c,g)){b=new Image;var e=google.lc,f=google.li;e[f]=b;b.onerror=b.onload=b.onabort=function(){delete e[f]};google.vel&&google.vel.lu&&google.vel.lu(a);b.src=a;google.li=f+1}};google.logUrl=function(a,b,d,c,g){var e=\"\",f=google.ls||\"\";d||-1!=b.search(\"&ei=\")||(e=\"&ei=\"+google.getEI(c),-1==b.search(\"&lei=\")&&(c=google.getLEI(c))&&(e+=\"&lei=\"+c));c=\"\";!d&&google.cshid&&-1==b.search(\"&cshid=\")&&(c=\"&cshid=\"+google.cshid);a=d||\"/\"+(g||\"gen_204\")+\"?atyp=i&ct=\"+a+\"&cad=\"+b+e+f+\"&zx=\"+google.time()+c;/^http:/i.test(a)&&google.https()&&(google.ml(Error(\"a\"),!1,{src:a,glmm:1}),a=\"\");return a};}).call(this);(function(){google.y={};google.x=function(a,b){if(a)var c=a.id;else{do c=Math.random();while(google.y[c])}google.y[c]=[a,b];return!1};google.lm=[];google.plm=function(a){google.lm.push.apply(google.lm,a)};google.lq=[];google.load=function(a,b,c){google.lq.push([[a],b,c])};google.loadAll=function(a,b){google.lq.push([a,b])};}).call(this);google.f={};var a=window.location,b=a.href.indexOf(\"#\");if(0<=b){var c=a.href.substring(b+1);/(^|&)q=/.test(c)&&-1==c.indexOf(\"#\")&&a.replace(\"/search?\"+c.replace(/(^|&)fp=[^&]*/g,\"\")+\"&cad=h\")};</script><style>#gbar,#guser{font-size:13px;padding-top:1px !important;}#gbar{height:22px}#guser{padding-bottom:7px !important;text-align:right}.gbh,.gbd{border-top:1px solid #c9d7f1;font-size:1px}.gbh{height:0;position:absolute;top:24px;width:100%}@media all{.gb1{height:22px;margin-right:.5em;vertical-align:top}#gbar{float:left}}a.gb1,a.gb4{text-decoration:underline !important}a.gb1,a.gb4{color:#00c !important}.gbi .gb4{color:#dd8e27 !important}.gbf .gb4{color:#900 !important}\\n</style><style>body,td,a,p,.h{font-family:arial,sans-serif}body{margin:0;overflow-y:scroll}#gog{padding:3px 8px 0}td{line-height:.8em}.gac_m td{line-height:17px}form{margin-bottom:20px}.h{color:#36c}.q{color:#00c}.ts td{padding:0}.ts{border-collapse:collapse}em{font-weight:bold;font-style:normal}.lst{height:25px;width:496px}.gsfi,.lst{font:18px arial,sans-serif}.gsfs{font:17px arial,sans-serif}.ds{display:inline-box;display:inline-block;margin:3px 0 4px;margin-left:4px}input{font-family:inherit}a.gb1,a.gb2,a.gb3,a.gb4{color:#11c !important}body{background:#fff;color:black}a{color:#11c;text-decoration:none}a:hover,a:active{text-decoration:underline}.fl a{color:#36c}a:visited{color:#551a8b}a.gb1,a.gb4{text-decoration:underline}a.gb3:hover{text-decoration:none}#ghead a.gb2:hover{color:#fff !important}.sblc{padding-top:5px}.sblc a{display:block;margin:2px 0;margin-left:13px;font-size:11px}.lsbb{background:#eee;border:solid 1px;border-color:#ccc #999 #999 #ccc;height:30px}.lsbb{display:block}.ftl,#fll a{display:inline-block;margin:0 12px}.lsb{background:url(/images/nav_logo229.png) 0 -261px repeat-x;border:none;color:#000;cursor:pointer;height:30px;margin:0;outline:0;font:15px arial,sans-serif;vertical-align:top}.lsb:active{background:#ccc}.lst:focus{outline:none}</style><script></script><link href=\"/images/branding/product/ico/googleg_lodp.ico\" rel=\"shortcut icon\"></head><body bgcolor=\"#fff\"><script>(function(){var src=\\'/images/nav_logo229.png\\';var iesg=false;document.body.onload = function(){window.n && window.n();if (document.images){new Image().src=src;}\\nif (!iesg){document.f&&document.f.q.focus();document.gbqf&&document.gbqf.q.focus();}\\n}\\n})();</script><div id=\"mngb\"> <div id=gbar><nobr><b class=gb1>Search</b> <a class=gb1 href=\"http://www.google.co.uk/imghp?hl=en&tab=wi\">Images</a> <a class=gb1 href=\"http://maps.google.co.uk/maps?hl=en&tab=wl\">Maps</a> <a class=gb1 href=\"https://play.google.com/?hl=en&tab=w8\">Play</a> <a class=gb1 href=\"http://www.youtube.com/?gl=GB&tab=w1\">YouTube</a> <a class=gb1 href=\"http://news.google.co.uk/nwshp?hl=en&tab=wn\">News</a> <a class=gb1 href=\"https://mail.google.com/mail/?tab=wm\">Gmail</a> <a class=gb1 href=\"https://drive.google.com/?tab=wo\">Drive</a> <a class=gb1 style=\"text-decoration:none\" href=\"https://www.google.co.uk/intl/en/options/\"><u>More</u> &raquo;</a></nobr></div><div id=guser width=100%><nobr><span id=gbn class=gbi></span><span id=gbf class=gbf></span><span id=gbe></span><a href=\"http://www.google.co.uk/history/optout?hl=en\" class=gb4>Web History</a> | <a  href=\"/preferences?hl=en\" class=gb4>Settings</a> | <a target=_top id=gb_70 href=\"https://accounts.google.com/ServiceLogin?hl=en&passive=true&continue=http://www.google.co.uk/%3Fgfe_rd%3Dcr%26dcr%3D0%26ei%3DVA0HWoCAFsvU8gfCkpboAQ\" class=gb4>Sign in</a></nobr></div><div class=gbh style=left:0></div><div class=gbh style=right:0></div> </div><center><br clear=\"all\" id=\"lgpd\"><div id=\"lga\"><div style=\"padding:28px 0 3px\"><div style=\"height:110px;width:276px;background:url(/images/branding/googlelogo/1x/googlelogo_white_background_color_272x92dp.png) no-repeat\" title=\"Google\" align=\"left\" id=\"hplogo\" onload=\"window.lol&&lol()\"><div style=\"color:#777;font-size:16px;font-weight:bold;position:relative;top:70px;left:218px\" nowrap=\"\">UK</div></div></div><br></div><form action=\"/search\" name=\"f\"><table cellpadding=\"0\" cellspacing=\"0\"><tr valign=\"top\"><td width=\"25%\">&nbsp;</td><td align=\"center\" nowrap=\"\"><input name=\"ie\" value=\"ISO-8859-1\" type=\"hidden\"><input value=\"en-GB\" name=\"hl\" type=\"hidden\"><input name=\"source\" type=\"hidden\" value=\"hp\"><input name=\"biw\" type=\"hidden\"><input name=\"bih\" type=\"hidden\"><div class=\"ds\" style=\"height:32px;margin:4px 0\"><input style=\"color:#000;margin:0;padding:5px 8px 0 6px;vertical-align:top\" autocomplete=\"off\" class=\"lst\" value=\"\" title=\"Google Search\" maxlength=\"2048\" name=\"q\" size=\"57\"></div><br style=\"line-height:0\"><span class=\"ds\"><span class=\"lsbb\"><input class=\"lsb\" value=\"Google Search\" name=\"btnG\" type=\"submit\"></span></span><span class=\"ds\"><span class=\"lsbb\"><input class=\"lsb\" value=\"I\\'m Feeling Lucky\" name=\"btnI\" onclick=\"if(this.form.q.value)this.checked=1; else top.location=\\'/doodles/\\'\" type=\"submit\"></span></span></td><td class=\"fl sblc\" align=\"left\" nowrap=\"\" width=\"25%\"><a href=\"/advanced_search?hl=en-GB&amp;authuser=0\">Advanced search</a><a href=\"/language_tools?hl=en-GB&amp;authuser=0\">Language tools</a></td></tr></table><input id=\"gbv\" name=\"gbv\" type=\"hidden\" value=\"1\"></form><div id=\"gac_scont\"></div><div style=\"font-size:83%;min-height:3.5em\"><br><div id=\"prm\"><style>.szppmdbYutt__middle-slot-promo{font-size:small;margin-bottom:32px}.szppmdbYutt__middle-slot-promo a._uFi{display:inline-block;text-decoration:none}.szppmdbYutt__middle-slot-promo img{border:none;margin-right:5px;vertical-align:middle}</style><div class=\"szppmdbYutt__middle-slot-promo\" data-ved=\"0ahUKEwjXyJXZ4bbXAhWC6qQKHTdPAo4QnIcBCAQ\"><img alt=\"Armistice Day\" height=\"42\" src=\"/images/icons/hpcg/poppy_red_42.gif\" title=\"Armistice Day\" width=\"42\"></div></div></div><span id=\"footer\"><div style=\"font-size:10pt\"><div style=\"margin:19px auto;text-align:center\" id=\"fll\"><a href=\"/intl/en/ads/\">Advertising\\xa0Programmes</a><a href=\"/services/\">Business Solutions</a><a href=\"https://plus.google.com/103583604759580854844\" rel=\"publisher\">+Google</a><a href=\"/intl/en/about.html\">About Google</a><a href=\"http://www.google.co.uk/setprefdomain?prefdom=US&amp;sig=__BMsH1x3ro8WJTtNhxxFEI-PnW7Y%3D\" id=\"fehl\">Google.com</a></div></div><p style=\"color:#767676;font-size:8pt\">&copy; 2017 - <a href=\"/intl/en/policies/privacy/\">Privacy</a> - <a href=\"/intl/en/policies/terms/\">Terms</a></p></span></center><script>(function(){window.google.cdo={height:0,width:0};(function(){var a=window.innerWidth,b=window.innerHeight;if(!a||!b){var c=window.document,d=\"CSS1Compat\"==c.compatMode?c.documentElement:c.body;a=d.clientWidth;b=d.clientHeight}a&&b&&(a!=google.cdo.width||b!=google.cdo.height)&&google.log(\"\",\"\",\"/client_204?&atyp=i&biw=\"+a+\"&bih=\"+b+\"&ei=\"+google.kEI);}).call(this);})();</script><div id=\"xjsd\"></div><div id=\"xjsi\"><script>(function(){function c(b){window.setTimeout(function(){var a=document.createElement(\"script\");a.src=b;google.timers&&google.timers.load.t&&google.tick(\"load\",{gen204:\"xjsls\",clearcut:31});document.getElementById(\"xjsd\").appendChild(a)},0)}google.dljp=function(b,a){google.xjsu=b;c(a)};google.dlj=c;}).call(this);(function(){var r=[];google.plm(r);})();if(!google.xjs){window._=window._||{};window._DumpException=window._._DumpException=function(e){throw e};google.dljp(\\'/xjs/_/js/k\\\\x3dxjs.hp.en_US.wWgdMrvdIAs.O/m\\\\x3dsb_he,d/am\\\\x3dABg/rt\\\\x3dj/d\\\\x3d1/t\\\\x3dzcms/rs\\\\x3dACT90oGgwVhtcp-aFw7e6z77WMatRaP9Bg\\',\\'/xjs/_/js/k\\\\x3dxjs.hp.en_US.wWgdMrvdIAs.O/m\\\\x3dsb_he,d/am\\\\x3dABg/rt\\\\x3dj/d\\\\x3d1/t\\\\x3dzcms/rs\\\\x3dACT90oGgwVhtcp-aFw7e6z77WMatRaP9Bg\\');google.xjs=1;}google.pmc={\"sb_he\":{\"agen\":false,\"cgen\":false,\"client\":\"heirloom-hp\",\"dh\":true,\"dhqt\":true,\"ds\":\"\",\"fl\":true,\"host\":\"google.co.uk\",\"isbh\":28,\"jam\":0,\"jsonp\":true,\"msgs\":{\"cibl\":\"Clear Search\",\"dym\":\"Did you mean:\",\"lcky\":\"I\\\\u0026#39;m Feeling Lucky\",\"lml\":\"Learn more\",\"oskt\":\"Input tools\",\"psrc\":\"This search was removed from your \\\\u003Ca href=\\\\\"/history\\\\\"\\\\u003EWeb History\\\\u003C/a\\\\u003E\",\"psrl\":\"Remove\",\"sbit\":\"Search by image\",\"srch\":\"Google Search\"},\"nds\":true,\"ovr\":{},\"pq\":\"\",\"refpd\":true,\"rfs\":[],\"sbpl\":24,\"sbpr\":24,\"scd\":10,\"sce\":5,\"stok\":\"wanIUSvPsyLmaQZEB-f9Es6mT4Q\"},\"d\":{},\"aWiv7g\":{},\"YFCs/g\":{}};google.x(null,function(){});</script></div></body></html>'\n"
     ]
    }
   ],
   "source": [
    "import urllib.request\n",
    "google = urllib.request.urlopen(\"http://google.com\")\n",
    "print(google.read())"
   ]
  },
  {
   "cell_type": "code",
   "execution_count": 37,
   "metadata": {},
   "outputs": [
    {
     "name": "stdout",
     "output_type": "stream",
     "text": [
      "b'<html>\\n\\t<head>\\n\\t\\t\\n\\t\\t<!-- \\n\\t\\tpalette:\\n\\t\\tdark blue: #003F72\\n\\t\\tyellow: #FFD166\\n\\t\\tsalmon: #EF476F\\n\\t\\toffwhite: #e7d7d7\\n\\t\\tLight Blue: #118AB2\\n\\t\\tLight green: #7DDF64\\n\\t\\t-->\\n\\n\\t\\t<meta name=\"viewport\" content = \"width=device-width, initial-scale=1.0\">\\n\\t\\t<title>Python Programming Tutorials</title>\\n\\n\\t\\t<meta name=\"description\" content=\"Python Programming tutorials from beginner to advanced on a massive variety of topics. All video and text tutorials are free.\">\\n\\n\\t\\t<link rel=\"shortcut icon\" href=\"/static/favicon.ico\">\\n\\t\\t<link rel=\"stylesheet\" href=\"/static/css/materialize.min.css\">\\n        <link href=\"https://fonts.googleapis.com/icon?family=Material+Icons\" rel=\"stylesheet\">\\n        <meta name=\"google-site-verification\" content=\"3fLok05gk5gGtWd_VSXbSSSH27F2kr1QqcxYz9vYq2k\" />\\n        <link rel=\"stylesheet\" type=\"text/css\" href=\"/static/css/bootstrap.css\">\\n\\n\\t\\t\\n\\t\\t  <!-- Compiled and minified CSS -->\\n\\n\\t\\t<!-- Compiled and minified JavaScript -->\\n\\n\\t\\t<script src=\"https://code.jquery.com/jquery-2.1.4.min.js\"></script>\\n\\t\\t<script src=\"https://cdnjs.cloudflare.com/ajax/libs/materialize/0.97.3/js/materialize.min.js\"></script>\\n\\n\\t\\t\\n\\n        <style>\\n\\t\\t@media (min-width:992px) {\\n\\t\\t#aside {\\n\\t\\t\\twidth:250px;\\n\\t\\t}\\n\\t\\tpre { tab-size: 4;}\\n\\t\\t.btn {background-color:#FFD166;\\n\\t\\t\\t  color:#000;\\n\\t\\t      height:auto;\\n\\t\\t\\t  font-color:#000;\\n\\t\\t\\t  }\\n\\t\\t.btn:hover {background-color:#FFD166;\\n\\t\\t\\t\\t\\t}\\n\\n\\n\\t\\t</style>\\n\\t\\t\\t\\t\\n\\t\\t<!-- Google Tracking -->\\n\\t\\t<script>\\n\\t\\t\\t  (function(i,s,o,g,r,a,m){i[\\'GoogleAnalyticsObject\\']=r;i[r]=i[r]||function(){\\n\\t\\t\\t  (i[r].q=i[r].q||[]).push(arguments)},i[r].l=1*new Date();a=s.createElement(o),\\n\\t\\t\\t  m=s.getElementsByTagName(o)[0];a.async=1;a.src=g;m.parentNode.insertBefore(a,m)\\n\\t\\t\\t  })(window,document,\\'script\\',\\'//www.google-analytics.com/analytics.js\\',\\'ga\\');\\n\\n\\t\\t\\t  ga(\\'create\\', \\'UA-51891827-1\\', \\'auto\\');\\n\\t\\t\\t  ga(\\'send\\', \\'pageview\\');\\n\\n\\t\\t</script>\\n\\n\\n\\n\\t\\n\\t</head>\\n\\t\\n\\t<body>\\n\\n\\t\\t<div class=\"navbar-fixed\">\\n\\t\\t\\t<nav style=\"background-color:#003F72\">\\n\\t\\t\\t\\t<div class=\"nav-wrapper container\">\\n\\t\\t\\t\\t\\t<a href=\"/\" class=\"brand-logo\"><img class=\"img-responsive\" style=\"width:50px; height;50px; margin-top:5px\" src=\"/static/images/mainlogowhitethick.jpg\"></a>\\n\\t\\t\\t\\t\\t<a href=\"#\" data-activates=\"navsidebar\" class=\"button-collapse\"><i class=\"mdi-navigation-menu\"></i></a>\\n\\t\\t\\t\\t\\t<ul class=\"right hide-on-med-and-down\">\\n\\t\\t\\t\\t\\t<li><i class=\"material-icons\">search</i></li>\\n\\t\\t\\t\\t\\t<li>\\n\\t\\t\\t\\t\\t\\t<form method=\\'get\\' id=\\'searchform\\' style=\\'height:50px; padding-top:10px\\' action=\\'/search/?l=hi\\'>\\n\\t\\t\\t\\t\\t\\t\\t<input name=\\'q\\' id=\"search\" type=\"search\" placeholder=\"search\"  style=\\'font-size:16px\\'>\\n\\t\\t\\t\\t\\t\\t</form>\\n\\t\\t\\t\\t\\t</li>\\n\\t\\t\\t\\t\\t\\t\\n\\t\\t\\t<li><a href=\"/\">Home</a></li>\\n\\t\\t\\t<li><a class=\"tooltipped\" data-position=\"bottom\" data-delay=\"50\" data-tooltip=\"sudo apt-get upgrade\" href=\"/+=1/\">+=1</a></li>\\n\\t\\t\\t<li><a href=\"/store/python-hoodie/\">Store</a></li>\\n\\t\\t\\t\\n\\t\\t\\t<li><a href=\"/community/\">Community</a></li>\\n\\t\\t\\t\\t<li><a href=\"/login/\">Log in</a></li>\\n                <li><a href=\"/register/\">Sign up</a></li>\\n\\t\\t\\t\\n\\n\\t\\t\\t\\t\\t</ul>\\n\\t\\t\\t\\t\\t<ul class=\"side-nav\" id=\"navsidebar\">\\n\\t\\t\\t\\t\\t<li>\\n\\t\\t\\t\\t\\t\\t<form method=\\'get\\' id=\\'searchform\\' style=\\'height:50px; padding-top:10px\\' action=\\'/search/?l=hi\\'>\\n\\t\\t\\t\\t\\t\\t\\t<input name=\\'q\\' id=\"search\" type=\"search\" placeholder=\"search\"  style=\\'font-size:16px\\'>\\n\\t\\t\\t\\t\\t\\t</form>\\n\\t\\t\\t\\t\\t</li>\\n\\t\\t\\t\\t\\t\\t\\n\\t\\t\\t<li><a href=\"/\">Home</a></li>\\n\\t\\t\\t<li><a class=\"tooltipped\" data-position=\"bottom\" data-delay=\"50\" data-tooltip=\"sudo apt-get upgrade\" href=\"/+=1/\">+=1</a></li>\\n\\t\\t\\t<li><a href=\"/store/python-hoodie/\">Store</a></li>\\n\\t\\t\\t\\n\\t\\t\\t<li><a href=\"/community/\">Community</a></li>\\n\\t\\t\\t\\t<li><a href=\"/login/\">Log in</a></li>\\n                <li><a href=\"/register/\">Sign up</a></li>\\n\\t\\t\\t\\n\\n\\t\\t\\t\\t\\t</ul>\\n\\t\\t\\t\\t</div>\\n\\t\\t\\t</nav>\\n\\t\\t</div>\\n\\n\\t\\t<!-- main content -->\\n\\t\\t<div class=\"container\" style=\"max-width:1500px; min-height:100%\">\\n\\t\\t\\t<!--<p style=\"font-size:80%\">Over the last few weeks, PythonProgramming.net has been the target of increasingly severe DoS attacks. If you\\'re noticing issues, it\\'s probably because someone, somewhere, really doesn\\'t want you to learn Python. Be prepared to make a few attempts sometimes!</p>-->\\n\\t\\t\\t\\t\\t\\n\\t\\t\\t\\t\\t\\n\\t\\t\\t\\t\\t  \\n\\t\\t\\t\\t\\t\\n\\t\\t\\t\\t\\n\\t\\t\\t\\t\\t\\n\\t<div class=\"row\">\\n\\t<!-- size 4 on a large screen, 12 on a small, 6 on a med -->\\n\\t\\t<div class=\"col l4 s12 m6\">\\n\\t\\t\\t<a href=\"/data-analysis-tutorials/\" class=\"waves-effect waves-light\" style=\"color:#000\">\\n\\t\\t\\t<div class=\"card-panel hoverable\" style=\"height:360px; background-color:#FFFFFF;\">\\n\\t\\t\\t\\t<div class=\"card-image\">\\n\\t\\t\\t\\t  <img class=\"responsive-img\" src=\"/static/images/categories/3D-Matplotlib.png\" style=\"width:250px\">\\n\\t\\t\\t\\t  <br><span class=\"card-title\"><strong>Data Analysis</strong></span>\\n\\t\\t\\t\\t</div>\\n\\t\\t\\t\\t<div class=\"card-content\">\\n\\t\\t\\t\\t  <p>Learn how to use Python with Pandas, Matplotlib, and other modules to gather insights from and about your data.</p>\\n\\t\\t\\t\\t</div>\\n\\t\\t\\t\\t<div class=\"card-action right-align\">\\n\\t\\t\\t\\t  <a href=\"/data-analysis-tutorials/\" class=\"waves-effect waves-light btn\" style=\"color:#000000; background-color:#FFD166\">View</a>\\n\\t\\t\\t\\t</div>\\n            </div>\\n            </a>\\n\\t\\t</div>\\n\\t\\t\\n\\t\\t<div class=\"col l4 s12 m6\">\\n\\t\\t\\t<a href=\"/robotics-tutorials/\" class=\"waves-effect waves-light\" style=\"color:#000\">\\n\\t\\t\\t<div class=\"card-panel hoverable\" style=\"height:360px; background-color:#FFFFFF;\">\\n\\t\\t\\t\\t<div class=\"card-image\">\\n\\t\\t\\t\\t  <img class=\"responsive-img\" src=\"/static/images/categories/robotics_with_raspberry_pi_gopigo.jpg\" style=\"width:250px\">\\n\\t\\t\\t\\t  <br><span class=\"card-title\"><strong>Robotics</strong></span>\\n\\t\\t\\t\\t</div>\\n\\t\\t\\t\\t<div class=\"card-content\">\\n\\t\\t\\t\\t  <p>Control hardware with Python programming and the Raspberry Pi.</p>\\n\\t\\t\\t\\t</div>\\n\\t\\t\\t\\t<div class=\"card-action right-align\">\\n\\t\\t\\t\\t  <a href=\"/robotics-tutorials/\" class=\"waves-effect waves-light btn\" style=\"color:#000000; background-color:#FFD166\">View</a>\\n\\t\\t\\t\\t</div>\\n            </div>\\n            </a>\\n\\t\\t</div>\\n\\t\\t\\n\\t\\t<div class=\"col l4 s12 m6\">\\n\\t\\t\\t<a href=\"/web-development-tutorials/\" class=\"waves-effect waves-light\" style=\"color:#000\">\\n\\t\\t\\t<div class=\"card-panel hoverable\" style=\"height:360px; background-color:#FFFFFF;\">\\n\\t\\t\\t\\t<div class=\"card-image\">\\n\\t\\t\\t\\t  <img class=\"responsive-img\" src=\"/static/images/categories/webdev.png\" style=\"width:250px\">\\n\\t\\t\\t\\t  <br><span class=\"card-title\"><strong>Web Development</strong></span>\\n\\t\\t\\t\\t</div>\\n\\t\\t\\t\\t<div class=\"card-content\">\\n\\t\\t\\t\\t  <p>How to develop websites with either the Flask or Django frameworks for Python.</p>\\n\\t\\t\\t\\t</div>\\n\\t\\t\\t\\t<div class=\"card-action right-align\">\\n\\t\\t\\t\\t  <a href=\"/web-development-tutorials/\" class=\"waves-effect waves-light btn\" style=\"color:#000000; background-color:#FFD166\">View</a>\\n\\t\\t\\t\\t</div>\\n            </div>\\n            </a>\\n\\t\\t</div>\\n\\n\\t\\n\\n\\t\\t<div class=\"col l4 s12 m6\">\\n\\t\\t\\t<a href=\"/game-development-tutorials/\" class=\"waves-effect waves-light\" style=\"color:#000\">\\n\\t\\t\\t<div class=\"card-panel hoverable\" style=\"height:360px; background-color:#FFFFFF;\">\\n\\t\\t\\t\\t<div class=\"card-image\">\\n\\t\\t\\t\\t  <img class=\"responsive-img\" src=\"/static/images/categories/pygame-tutorials.png\" style=\"width:250px\">\\n\\t\\t\\t\\t  <br><span class=\"card-title\"><strong>Game Development</strong></span>\\n\\t\\t\\t\\t</div>\\n\\t\\t\\t\\t<div class=\"card-content\">\\n\\t\\t\\t\\t  <p>Create your own games with Python\\'s PyGame library, or check out the multi-platform Kivy.</p>\\n\\t\\t\\t\\t</div>\\n\\t\\t\\t\\t<div class=\"card-action right-align\">\\n\\t\\t\\t\\t  <a href=\"/game-development-tutorials/\" class=\"waves-effect waves-light btn\" style=\"color:#000000; background-color:#FFD166\">View</a>\\n\\t\\t\\t\\t</div>\\n            </div>\\n            </a>\\n\\t\\t</div>\\n\\n\\n\\n\\t\\t<div class=\"col l4 s12 m6\">\\n\\t\\t\\t<a href=\"/python-fundamental-tutorials/\" class=\"waves-effect waves-light\" style=\"color:#000\">\\n\\t\\t\\t<div class=\"card-panel hoverable\" style=\"height:360px; background-color:#FFFFFF;\">\\n\\t\\t\\t\\t<div class=\"card-image\">\\n\\t\\t\\t\\t  <img class=\"responsive-img\" src=\"/static/images/categories/python-3-basics.png\" style=\"width:250px\">\\n\\t\\t\\t\\t  <br><span class=\"card-title\"><strong>Python Fundamentals</strong></span>\\n\\t\\t\\t\\t</div>\\n\\t\\t\\t\\t<div class=\"card-content\">\\n\\t\\t\\t\\t  <p>Learn the basic and intermediate Python fundamentals.</p>\\n\\t\\t\\t\\t</div>\\n\\t\\t\\t\\t<div class=\"card-action right-align\">\\n\\t\\t\\t\\t  <a href=\"/python-fundamental-tutorials/\" class=\"waves-effect waves-light btn\" style=\"color:#000000; background-color:#FFD166\">View</a>\\n\\t\\t\\t\\t</div>\\n            </div>\\n            </a>\\n\\t\\t</div>\\n\\n\\n\\n\\t\\t\\n\\t\\t<!--<div class=\"col l4 s12 m6\">\\n\\t\\t\\t\\n\\t\\t\\t<div class=\"card-panel hoverable\" style=\"height:360px; background-color:#FFFFFF;\">\\n\\t\\t\\t<a href=\"/introduction-to-python-programming/\" class=\"waves-effect waves-light\" style=\"color:#000\">\\n\\t\\t\\t\\t<div class=\"card-image\">\\n\\t\\t\\t\\t  <img class=\"responsive-img\" src=\"/static/images/categories/python-3-basics.png\" style=\"width:250px\">\\n\\t\\t\\t\\t  <br><span class=\"card-title\"><strong>Basics</strong></span>\\n\\t\\t\\t\\t</div>\\n\\t\\t\\t\\t<div class=\"card-content\">\\n\\t\\t\\t\\t  <p>Just getting started?</p> \\n\\t\\t\\t\\t  <p>Not a problem, learn the basics of programming with Python 3 here!</p>\\n\\t\\t\\t\\t</div>\\n\\t\\t\\t\\t<div class=\"card-action right-align\">\\n\\t\\t\\t\\t  <a href=\"/introduction-to-python-programming/\" class=\"waves-effect waves-light btn\" style=\"color:#000000; background-color:#FFD166\">Start</a>\\n\\t\\t\\t\\t</div>\\n\\t\\t\\t\\t</a>\\n            </div>\\n\\n\\n\\t\\t</div>-->\\n\\t\\t\\n\\t\\t<div class=\"col l4 s12 m6\">\\n\\t\\t\\t<a href=\"/gui-development-tutorials/\" class=\"waves-effect waves-light\" style=\"color:#000\">\\n\\t\\t\\t<div class=\"card-panel hoverable\" style=\"height:360px; background-color:#FFFFFF;\">\\n\\t\\t\\t\\t<div class=\"card-image\">\\n\\t\\t\\t\\t  <img class=\"responsive-img\" src=\"/static/images/categories/tkinter-gui-tutorial-with-python-3.png\" style=\"width:250px\">\\n\\t\\t\\t\\t  <br><span class=\"card-title\"><strong>GUIs</strong></span>\\n\\t\\t\\t\\t</div>\\n\\t\\t\\t\\t<div class=\"card-content\">\\n\\t\\t\\t\\t  <p>Create software with a user interface using Tkinter, PyQt, or Kivy.</p>\\n\\t\\t\\t\\t</div>\\n\\t\\t\\t\\t<div class=\"card-action right-align\">\\n\\t\\t\\t\\t  <a href=\"/gui-development-tutorials/\" class=\"waves-effect waves-light btn\" style=\"color:#000000; background-color:#FFD166\">View</a>\\n\\t\\t\\t\\t</div>\\n            </div>\\n            </a>\\n\\t\\t</div>\\n\\t</div>\\n\\n\\t  <div class=\"card\">\\n\\t    <!--<div class=\"card-content\">\\n\\t      <p>Curious about more than just Python? While not covered in nearly as much depth, here are some tutorials in other languages:</p>\\n\\t    </div>-->\\n\\n\\t    <div class=\"card-tabs\">\\n\\t      <ul class=\"tabs tabs-fixed-width\">\\n\\t        <li class=\"tab\"><a class=\"active\" href=\"#golang\">Golang</a></li>\\n\\t        <!--<li class=\"tab\"><a href=\"#cpp\">C++</a></li>\\n\\t        <li class=\"tab\"><a href=\"#julia\">Julia</a></li>-->\\n\\t      </ul>\\n\\t    </div>\\n\\n\\t    <div class=\"card-content grey lighten-4\">\\n\\t      <div id=\"golang\">\\n\\t        <p>Go is a programming language aimed at being simple, easy to work with, and capable of high performance.</p><br>\\n\\t        <a href=\"/go/\">\\n\\t          <img class=\"responsive-img\" src=\"/static/images/categories/golang-tutorials.png\" style=\"width:150px;\"> \\n\\t        </a>\\n\\n\\t        <div class=\"card-action left-align\">\\n\\t          <a href=\"/go/\" class=\"waves-effect waves-light btn\" style=\"color:#000000; background-color:#FFD166\">View Tutorial</a>\\n\\t        </div>\\n\\t      </div>\\n\\n\\t      <!--<div id=\"gpp\">C++ content</div>\\n\\t      <div id=\"julia\">Julia content</div>-->\\n\\n\\t    </div>\\n\\t  </div>\\n\\t\\n\\n\\n\\t\\t\\t</div>\\n\\t\\t</div>\\n\\n\\t\\t<!--login modal-->\\n\\t\\t\\n<div id=\"modalLogin\" class=\"modal\">\\n\\t\\t\\t<div class=\"modal-content\">\\n\\t\\t\\t\\t<h2 class=\"center-align\">Login</h2>\\n\\t\\t\\t\\t<div class=\"center-align\">\\n\\t\\t\\t\\t\\t<div class=\"divider\"></div>\\n\\t\\t\\t\\t\\t\\n\\t\\t\\t\\t\\t<form class=\"col s12\">\\n\\t\\t\\t\\t\\t\\t<div class=\"row center-align\">\\n\\t\\t\\t\\t\\t\\t\\t<div class=\"input-field col m10\">\\n\\t\\t\\t\\t\\t\\t\\t\\t<input id=\"icon_prefix\" type=\"text\" class=\"validate\">\\n\\t\\t\\t\\t\\t\\t\\t\\t<label for=\"icon_prefix\">Username</label>\\n\\t\\t\\t\\t\\t\\t\\t</div>\\n\\t\\t\\t\\t\\t\\t\\t<div class=\"input-field col m10\">\\n\\t\\t\\t\\t\\t\\t\\t\\t<input id=\"icon_password\" type=\"password\" class=\"validate\">\\n\\t\\t\\t\\t\\t\\t\\t\\t<label for=\"icon_password\">Password</label>\\n\\t\\t\\t\\t\\t\\t\\t</div>\\n\\t\\t\\t\\t\\t\\t</div>\\n\\t\\t\\t\\t\\t</form>\\n\\t\\t\\t\\t\\t\\n\\t\\t\\t\\t\\t\\n\\t\\t\\t\\t\\t<div class=\"divider\"></div>\\n\\t\\t\\t\\t\\t<p>\\n\\t\\t\\t\\t\\t\\t<a href=\"#\" class=\"btn btn-flat white modal-close\">Cancel</a> &nbsp;\\n\\t\\t\\t\\t\\t\\t<a href=\"#\" class=\"waves-effect waves-blue blue btn btn-flat modal-action modal-close\">Login</a>\\n\\t\\t\\t\\t\\t</p>\\n\\t\\t\\t\\t\\t\\n\\t\\t\\t\\t\\t\\n\\t\\t\\t\\t</div>\\n\\t\\t\\t</div>\\n\\t\\t</div>\\n\\n\\n\\t\\t\\n\\t\\t<!--Register modal-->\\n\\t\\t\\n\\t\\t<div id=\"modalRegister\" class=\"modal\">\\n\\t\\t\\t<div class=\"modal-content\">\\n\\t\\t\\t\\t<h2 class=\"center-align\">Sign up</h2>\\n\\t\\t\\t\\t<div class=\"center-align\">\\n\\t\\t\\t\\t\\t<div class=\"divider\"></div>\\n\\t\\t\\t\\t\\t\\n\\t\\t\\t\\t\\t<form action=\"/register/\" method=post >\\n\\t\\t\\t\\t\\t\\t\\t<div class=\"input-field col\">\\n\\t\\t\\t\\t\\t\\t\\t\\t<input id=\"username\" type=\"text\" class=\"validate\">\\n\\t\\t\\t\\t\\t\\t\\t\\t<label for=\"username\">Username</label>\\n\\t\\t\\t\\t\\t\\t\\t</div>\\n\\t\\t\\t\\t\\t\\t\\t<div class=\"input-field col\">\\n\\t\\t\\t\\t\\t\\t\\t\\t<input id=\"password\" type=\"password\" class=\"validate\">\\n\\t\\t\\t\\t\\t\\t\\t\\t<label for=\"password\">Password</label>\\n\\t\\t\\t\\t\\t\\t\\t</div>\\n\\t\\t\\t\\t\\t\\t\\t<div class=\"input-field col\">\\n\\t\\t\\t\\t\\t\\t\\t\\t<input id=\"confirm\" type=\"password\" class=\"validate\">\\n\\t\\t\\t\\t\\t\\t\\t\\t<label for=\"confirm\">Repeat Password</label>\\n\\t\\t\\t\\t\\t\\t\\t</div>\\n\\t\\t\\t\\t\\t\\t\\t\\n\\t\\t\\t\\t\\t\\t\\t<div class=\"input-field col\">\\n\\t\\t\\t\\t\\t\\t\\t\\t<input id=\"email\" type=\"text\" class=\"validate\">\\n\\t\\t\\t\\t\\t\\t\\t\\t<label for=\"email\">Email</label>\\n\\t\\t\\t\\t\\t\\t\\t</div>\\n\\n\\t\\t\\t\\t\\t\\t\\t<div class=\"divider\"></div>\\n\\t\\t\\t\\t\\t\\t\\t<p>\\n\\t\\t\\t\\t\\t\\t\\t\\t<a href=\"#\" class=\"btn btn-flat white modal-close\">Cancel</a> &nbsp;\\n\\t\\t\\t\\t\\t\\t\\t\\t<button class=\"btn\" type=submit value=Register>Sign Up</button>\\n\\t\\t\\t\\t\\t\\t\\t</p>\\n\\n\\t\\t\\t\\t\\t</form>\\n\\n\\t\\t\\t\\t\\t\\n\\n\\t\\t\\t\\t</div>\\n\\t\\t\\t</div>\\n\\t\\t</div>\\n\\n\\n\\n\\t\\t\\n\\t\\t<script>\\n\\t\\t\\t$(document).ready(function(){\\n\\t\\t\\t\\t$(\".button-collapse\").sideNav();\\n\\t\\t\\t\\t$(\\'.modal-trigger\\').leanModal();\\n\\t\\t\\t\\t$(\\'.collapsible\\').collapsible({\\n\\t\\t\\t\\t  accordion : false // A setting that changes the collapsible behavior to expandable instead of the default accordion style\\n\\t\\t\\t\\t});\\n\\t\\t\\t\\t$(\\'#aside\\').pushpin({ top:110, bottom:500 });\\n\\t\\t  });\\n\\t\\t</script>\\n\\t\\t<script>\\n\\t\\t  $(document).ready(function(){\\n\\t\\t\\t$(\\'.collapsible\\').collapsible({\\n\\t\\t\\t  accordion : false // A setting that changes the collapsible behavior to expandable instead of the default accordion style\\n\\t\\t\\t});\\n\\t\\t\\t$(\\'select\\').material_select();\\n\\t\\t  });\\n\\t  </script>\\n\\t  <script>\\n\\t\\tfunction goBack() {\\n\\t\\t\\twindow.history.back()\\n\\t\\t}\\n\\t</script>\\n\\t\\t<script type=\"text/javascript\" src=\"/static/js/run_prettify.js\"></script>\\n\\t  \\n\\t</body>\\n\\n<footer class=\"page-footer\">\\n          <div class=\"container\">\\n            <div class=\"row\">\\n              <div class=\"col l6 s12\">\\n                <h5 class=\"white-text\">You\\'ve reached the end!</h5>\\n                \\n                <p class=\"grey-text text-lighten-4\">Contact: Harrison@pythonprogramming.net.</p>\\n                <ul>\\n                  <li><a class=\"grey-text text-lighten-3\" href=\"/support-donate/\">Support this Website!</a></li>\\n                  <li><a class=\"grey-text text-lighten-3\" href=\"/consulting/\">Hire me</a></li>\\n                  <li><a class=\"grey-text text-lighten-3\" href=\"https://www.facebook.com/pythonprogramming.net/\">Facebook</a></li>\\n                  <li><a class=\"grey-text text-lighten-3\" href=\"https://twitter.com/sentdex\">Twitter</a></li>\\n                  <li><a class=\"grey-text text-lighten-3\" href=\"https://plus.google.com/+sentdex\">Google+</a></li>\\n                </ul>\\n              </div>\\n              <div class=\"col l4 offset-l2 s12\">\\n                <h6 class=\"white-text\">Legal stuff:</h6>\\n                <ul>\\n                  <li><a class=\"grey-text text-lighten-3\" href=\"/about/tos/\">Terms and Conditions</a></li>\\n                  <li><a class=\"grey-text text-lighten-3\" href=\"/about/privacy-policy/\">Privacy Policy</a></li>\\n\\n                </ul>\\n              </div>\\n            </div>\\n          </div>\\n          <a href=\"https://xkcd.com/353/\" target=\\'blank\\'><p class=\"grey-text right\" style=\\'padding-right:10px\\'>Programming is a superpower.</p></a>\\n          <div class=\"footer-copyright\">\\n            <div class=\"container\">\\n            \\xc2\\xa9 OVER 9000! PythonProgramming.net\\n            \\n            </div>\\n\\n          </div>\\n        </footer>\\n\\n</html>\\n\\n\\n\\n\\n\\n\\n\\n\\n\\n\\n\\n\\n\\n\\n'\n"
     ]
    }
   ],
   "source": [
    "import urllib.parse\n",
    "url = \"http://pythonprogramming.net\"\n",
    "values = {'s':'basic',\n",
    "         'submit':'search'}\n",
    "data = urllib.parse.urlencode(values)\n",
    "data = data.encode('utf-8')\n",
    "req = urllib.request.Request(url,data)\n",
    "resp = urllib.request.urlopen(req)\n",
    "respData = resp.read()\n",
    "print(respData)"
   ]
  },
  {
   "cell_type": "code",
   "execution_count": 38,
   "metadata": {},
   "outputs": [
    {
     "data": {
      "text/plain": [
       "[('Content-type', 'application/x-www-form-urlencoded'),\n",
       " ('Content-length', '21'),\n",
       " ('Host', 'pythonprogramming.net'),\n",
       " ('User-agent', 'Python-urllib/3.6')]"
      ]
     },
     "execution_count": 38,
     "metadata": {},
     "output_type": "execute_result"
    }
   ],
   "source": [
    "req.header_items()"
   ]
  },
  {
   "cell_type": "code",
   "execution_count": 39,
   "metadata": {},
   "outputs": [
    {
     "name": "stdout",
     "output_type": "stream",
     "text": [
      "b'<!doctype html><html itemscope=\"\" itemtype=\"http://schema.org/SearchResultsPage\" lang=\"en-GB\"><head><meta content=\"width=device-width,minimum-scale=1.0\" name=\"viewport\"><meta content=\"telephone=no\" name=\"format-detection\"><meta content=\"address=no\" name=\"format-detection\"><meta content=\"text/html; charset=UTF-8\" http-equiv=\"Content-Type\"><meta content=\"/images/branding/googleg/1x/googleg_standard_color_128dp.png\" itemprop=\"image\"><link href=\"/images/branding/product/ico/googleg_lodp.ico\" rel=\"shortcut icon\"><noscript><meta content=\"0;url=/search?q=test&amp;dcr=0&amp;gbv=1&amp;sei=Vg0HWrv7G4aTkwWwxrX4BQ\" http-equiv=\"refresh\"><style>table,div,span,p{display:none}</style><div style=\"display:block\">Please click <a href=\"/search?q=test&amp;dcr=0&amp;gbv=1&amp;sei=Vg0HWrv7G4aTkwWwxrX4BQ\">here</a> if you are not redirected within a few seconds.</div></noscript><title>test - Google Search</title><style>.star{float:left;margin-top:1px;overflow:hidden}._yhd{font-size:11px}body,td,div,.p,a{font-family:arial,sans-serif;-moz-tap-highlight-color:rgba(255,255,255,0)}body{margin:0}a img{border:0}#gbar{float:left;height:22px;padding-left:2px;font-size:13px}.gsfi,.gsfs{font-size:17px}.w,.q:active,.q:visited,.tbotu{color:#11c}a.gl{text-decoration:none}#foot{padding:0 8px}#foot a{white-space:nowrap}h3{font-size:16px;font-weight:normal;margin:0;padding:0}#res h3{display:inline}.hd{height:1px;position:absolute;top:-1000em}.g,body,html,table,.std{font-size:13px}.g{margin-bottom:23px;margin-top:0;zoom:1}ol li,ul li{list-style:none}h1,ol,ul,li{margin:0;padding:0}.e{margin:2px 0 0.75em}#leftnav a{text-decoration:none}#leftnav h2{color:#767676;font-weight:normal;margin:0}#nav{border-collapse:collapse;margin-top:17px;text-align:left}#nav td{text-align:center}.nobr{white-space:nowrap}.ts{border-collapse:collapse}.s br{display:none}.csb{display:block;height:40px}.images_table td{line-height:17px;padding-bottom:16px}.images_table img{border:1px solid #ccc;padding:1px}#tbd,#abd{display:block;min-height:1px}#abd{padding-top:3px}#tbd li{display:inline}._ITd,._JTd{margin-bottom:8px}#tbd .tbt li{display:block;font-size:13px;line-height:1.2;padding-bottom:3px;padding-left:8px;text-indent:-8px}.tbos,.b{font-weight:bold}em{font-weight:bold;font-style:normal}.mime{color:#1a0dab;font-weight:bold;font-size:x-small}.soc a{text-decoration:none}.soc{color:#777}._kgd{color:#e7711b}#_vBb{border:1px solid #e0e0e0;margin-left:-8px;margin-right:-8px;padding:15px 20px 5px}._m3b{font-size:32px}._eGc{color:#777;font-size:16px;margin-top:5px}._H0d{color:#777;font-size:14px;margin-top:5px}._HLh{border:1px solid #e0e0e0;padding-left:20px}._Tki{border:1px solid #e0e0e0;padding:5px 20px}#vob{border:1px solid #e0e0e0;padding:15px 15px}#_Nyc{font-size:22px;line-height:22px;padding-bottom:5px}#vob_st{line-height:1.24}._Tsb{border-width:1px;border-style:solid;border-color:#eee;background-color:#fff;position:relative;margin-bottom:26px}._Peb,._Qeb,._Usb{font-family:Arial;font-weight:lighter}._Peb{margin-bottom:5px}._Peb{font-size:36px}._Qeb{font-size:16px}._Usb{font-size:13px;line-height:16px}._Tsb{padding:16px}._rkc{color:#212121}._HOb{color:#878787}._lMf{color:#093}._jMf{color:#c00}._kMf{padding:1px}._CKg{color:#dd4b39}a:link{text-decoration:underline}._w9b{padding-top:4px}._qOc{color:#666}._oOc{margin-left:8px;color:#666}#skb{background:url(\"data:image/png;base64,iVBORw0KGgoAAAANSUhEUgAAAAkAAAAhCAYAAAALboFLAAABLUlEQVQ4jWP6//8/Q/3cZ0JAnAvEU4B4GZQG8YVA8kwN855LMjIydAbYCqSXRYsnNSRJRoJoEB8kDpSXZmJlZowKcRC01VZg12Zm/M/54+dfBhAN4oc6CtqB5Jn+/f+vIy3KpPTz91+G33/+Mfz5+w9Mg/jSIkxKf//912YCirEz/Gdk/fOXgQEd///PyPLvPwMbEwMRAKwI6AGcmERFeDAtrBuEbgIGPU489H03wt3Ewsz4+8/f/7+xmfLn3/8/zEyMf5iE+JifP3vz+z42U569/n1PmJ/5GZOlDvf+k9c+H7v//MfVX3/+/wAZD6JBfJA4SJ7JUJXrWIKn8OZHL35u2Xr03bKVe98sB9EgPkgcJA9y+GcZMdZtGQEia6riJFYCi57lIBrEB4mD5AF7X7yIHbUkIQAAAABJRU5ErkJggg==\") center repeat-x;background-size:300% 100%;color:#374a82;float:left;font-size:22px;height:38px;line-height:31px;margin-left:9px;padding-top:2px;position:relative;text-align:center;width:22px}#skb:after,#skb:before{background:url(\"data:image/png;base64,iVBORw0KGgoAAAANSUhEUgAAAAoAAAAhCAYAAADgWTpIAAABT0lEQVQ4y+2UTStEcRjFf8//3nENeRsv5SVpFizurNUIsbBTNmxY+iBevoelD6DsLGw0Yo1iYUrcKTRhinvn/u99LEwRGwsl5dTZnc5znk4dAVjbCnLACjAG5IAqcA5sb6wOVAFkbSvoF2FzYbKzODrs5Vs8k32O0peLq+hy5+DhUJX1jdWBG5NxZHlxpmvKH/F8RzQbRgmOaNYf8fyl2a7pjCPLAG6qWhjsNfkoTviMwR6TT1L1AdwkxUMlY7/qAHFTpQnA8E24AKo/LvzF038gY6r/zfxnfIdxHYltorE2nD/SpmodIxbA5NqdSnAfl1XfnD8yuIsvuzucAMAUC637R2e1UrkSntathgB1q2G5Ep4endVKxULrPoCoatv1bTy3W3ocrz7Z3rrVbJMrL7l2925+ouN4qC+zJyI1eXtGm4FCYxs9IGps5ImIhACvMt6wGJ+CZ9kAAAAASUVORK5CYII=\") no-repeat;background-size:cover;content:\" \";display:block;height:40px;position:absolute;top:0;width:4px}#skb:before{left:-4px;background-position:top left}#skb:after{right:-4px;background-position:top right}.msb{position:relative;width:100%}.msq_a{display:inline-block !important}#tsbb{border:1px solid #999;border-color:#c7d6f7;border-bottom-right-radius:5px;border-top-right-radius:5px;background:url(\"data:image/png;base64,iVBORw0KGgoAAAANSUhEUgAAACYAAAAmCAYAAACoPemuAAACQklEQVRYw82VTW8SURiF31/kRqMmGl1pdKFpqalsqu6qRl3pbzCd2GgXSmytNia1adx0YRe6MUUTY3WFRlPBtlCGjwEK9AMKzMzx3kshdirJXCzJu3gOw7znnnsyH0C1CsAR2tkGOEJVIRyhyhbAEdoWwhFRzAVHaGvTBUdoUwhHaGPDBUeoLIQjVCq74EhXxXL5BiZnvyB4ewrHA6MKeSzPydmBFCuWXOiwFCshcP05Dp2//0/kTHp0c73QuhC/ZKw6BnZLnQ6O4fX8NyTMKtZSVcy9+4kzVx6rmfRIr062FyqUHPhlYmZRbXx26Amiq+V984RZQd/wM+WRXp1sL5QvOvDLwI3m1Zp9872j52041rxqN19AJ9uLVrEjFw21aTxZ6eixCg0cvmAo738Vy6078EurWDK909FjFWwc7X+gvDrZXsiSYT4J7N7K+ffRjp6PX832rdTJ9kLZggO/hF41H35ZMJGu7Zub4k0cujutPNKrk+2FMkL8Isv0DU+qjYN3XuKDuDqt2edIFtfuzajZuash5dXJ9kLpvAMdIkvFdjnJycFHOHV5rP1d/pTIzxOXHsIYD0M3vwV1syieqiE0vYjBW1M41j+qkMfynJz9XbTbcpTKOThojKcLe/6mRkQ53QwyczZ6wci4t9yC1npKCukVxkR4TzmdtbRm2egl8hlrFdNZ1/Ni3UKJrA2OUFwIR2g1Y4MjtCKEI7SctsERUawBjtBvIRyhWKoBjlBUCDciK3XQL7MBTkSW6/j0o4o/6iT9Tmpmw3kAAAAASUVORK5CYII=\");border-width:2px 2px 2px 1px;height:42px;padding:0;position:absolute;right:0;top:0;width:40px}#subform_ctrl{color:#777;font-size:12px;height:14px;margin:4px 8px 8px 14px}h3.r{line-height:20px}.r{font-size:18px !important}.s{line-height:18px;font-size:14px}blockquote{margin-right:0}cite{word-wrap:break-word}._VIh{border:1px solid #ebebeb;padding:8px 0 8px 15px}#_gfb{border-collapse:collapse;font-size:17px;margin:17px auto 0;text-align:left;width:100%}#_gfb .navend{width:17%}#_gfb td{padding:0 2px;text-align:center}#foot{padding:8px 0 0 0}._m5c{text-align:center;width:100%}a._cQb{color:#444 !important;text-decoration:none}._cQb{background-color:#f8f8f8;background-image:linear-gradient(top,#f8f8f8,#f1f1f1);border:1px solid #c6c6c6;border-radius:2px;display:inline-block;font-size:11px;font-weight:bold;height:27px;line-height:27px;margin:6px 12px 6px 0;min-width:54px;padding:2px 8px;text-align:center}#center_col{padding:0 !important}._Bmc{font-size:14px;padding:7px 0}body{color:#222}.taf{padding:1px 0 0}._chd{padding:10px 0 0}._bhd{padding:10px 0 1px}.mslg h3{font-size:14px !important}#ires .g,table{font-size:14px}.mslg cite{overflow:hidden;padding:2px 0;text-overflow:ellipsis;white-space:nowrap}.st{line-height:18px}.gssb_c table{font-size:1em}.mfr,#ofr{font-size:14px;margin:1em 0;padding:0 10px 0 15px}#_vBb{border:1px solid #e0e0e0;margin-left:-11px;margin-right:-6px;padding:20px 10px 0}._m3b{font-size:24px}._G0d{font-size:15px}#vob{border:1px solid #e0e0e0;padding:15px 10px}#_Nyc{font-size:20px;line-height:20px;padding-bottom:5px}#vob_st{line-height:18px}._gY{display:inline-block;margin-left:12px;margin-right:2px;padding:0 3px;color:#777;vertical-align:middle}#mhog_head{line-height:33px}._JPb{border-bottom:3px solid #dd4b39;color:#dd4b39;height:30px}#mhog_head a{color:#777;text-decoration:none}._gY>select{-moz-appearance:none;appearance:none;color:#777;font-size:13px;background:transparent;border:none;font-family:arial,sans-serif;width:130%;outline:none}._gY>select{color:#777;color:rgba(0,0,0,0);text-shadow:0 0 0 #777}select:active{border:0;outline:0}select:focus{border:0;outline:0}._r5c{width:80px;overflow:hidden}hr{border:0;border-top:1px solid #e5e5e5;margin:0;height:1px}#_rPb{background-color:#f1f1f1;color:#222;font-size:13px;margin-top:23px;position:relative;width:100%}#_rPb a{color:#777;text-decoration:none}#_rPb b{color:#222}._G2{padding-bottom:10px;padding-top:10px}._oob{padding-bottom:14px;padding-top:15px}._Pt{line-height:28px}._Pt span{display:inline-block;margin-left:16px;margin-right:16px}#_lwb{color:#777;margin-left:0;margin-right:0}#sfcnt{background:#f1f1f1;height:36px;padding-bottom:6px;padding-right:7px;padding-top:7px;padding-left:0}.msfo{padding-right:38px}#mlogo{background:url(/images/branding/searchlogo/1x/googlelogo_mobile_tier1_srp_color_75x26dp.png) no-repeat;background-size:75px 26px;color:transparent;height:26px;left:16px;position:absolute;text-align:center;top:8px;width:74px}.msfi{background-color:#fff !important;border:1px solid #d9d9d9 !important;border-right:none !important;border-top:1px solid silver !important;height:35px;margin-top:-1px;padding:0}#tsfi{margin-left:96px;position:relative;zoom:1}.msfe #tsfi{margin-left:7px}._utb{appearance:none;-moz-appearance:none;background:white;background-color:transparent;border-radius:0;border-radius:0;box-sizing:border-box;box-sizing:border-box;border:none;font-size:18px;height:22px;line-height:normal;margin-top:7px;outline:none;outline-style:none;outline-width:initial;outline-color:initial;padding:0 6px;-moz-tap-highlight-color:rgba(0,0,0,0);vertical-align:top;width:87%}.cb{color:#d9d9d9;display:none;font-size:24px;height:30px;line-height:30px;position:absolute;right:42px;text-align:center;top:4px;vertical-align:middle;width:30px;z-index:7}#tsbb{background-color:#4d90fe;background-image:none;background:-moz-gradient(linear,left top,left bottom,from(#4D90FE),to(#4787ED)) !important;background:gradient(linear,left top,left bottom,from(#4D90FE),to(#4787ED)) !important;border:1px solid #3079ed;border-radius:0;border-radius:0;-moz-border-bottom-right-radius:2px;border-bottom-right-radius:2px;-moz-border-top-right-radius:2px;border-top-right-radius:2px;box-sizing:border-box;box-sizing:border-box;height:37px;width:38px}.gsfs{font-size:15px}.mssb_e{background:#f3f3f3 !important}.mssb_f{background-color:#ebebeb !important}.msq_a{line-height:normal !important}.msq_b{background:#f3f3f3 url(\"data:image/png;base64,iVBORw0KGgoAAAANSUhEUgAAAB4AAAAeCAYAAAA7MK6iAAAAo0lEQVRIx+3X4QaAMBQF4L10RIwRMUZE9BB7t96gXOpfdVrtdMV+HMbY9+teOybGaDSyHxZC5gIX+BdwpTlOteYc15oLpGHB8/Y4BUew3FmAWxZMwe/CEgdwx4Kz4qmwpAV4y4Kz4E9hSQfwjgW/wt/CEg9wz4IlIRXPBSfjub+tPcADC76D9yxYMqDtxmwL49VKZVeV8Wymv+hJ09EiMVqlbQXTCZuExPleFwAAAABJRU5ErkJggg==\") no-repeat center !important;-moz-background-size:15px,15px !important;background-size:15px,15px !important}.gssb_c{margin-top:-1px;padding-left:7px}.gssb_c table{font-size:15px}.gssb_e{border-color:#d9d9d9 !important;border-width:1px !important}._tLi{padding-bottom:19px}#res{margin:0;padding:6px 10px 0 15px}._nMc{text-align:center}._dfb{padding:0 2px}.is_lib{background-color:#000;height:100%;position:absolute;width:100%}.is_lif{display:table-cell;height:100%;text-align:center;vertical-align:middle;width:100%}#is_l{overflow:hidden;position:absolute;z-index:1010;background-color:black}#is_linp,#is_linn{height:100%;position:absolute;top:0;width:50px;z-index:3}#is_linp{left:10px}#is_linn{right:10px}._j4{background:url(\"data:image/png;base64,iVBORw0KGgoAAAANSUhEUgAAABcAAAAiCAMAAACDQ7KMAAABEVBMVEX///9FRUWysrL09PTz8/NERETZ2dkEBAT19fU8PDyQkJD39/ceHh7p6enq6uq0tLTa2tr9/f1QUFCqqqq/v7/8/Pytra13d3dVVVXl5eUjIyNjY2Px8fFdXV2xsbEODg4CAgK5ubno6OhTU1NlZWXy8vJMTEx4eHi7u7vw8PApKSm6urrCwsJhYWEtLS0RERGenp7v7+++vr4ICAjk5OQDAwNvb29bW1uRkZEnJydtbW0gICDIyMgTExOGhoZPT09NTU0hISFRUVFcXFwyMjLAwMBXV1esrKw9PT3s7OxCQkIkJCTf39+oqKhaWlqKioqjo6NAQEAwMDAdHR3r6+vt7e1YWFgsLCyXl5cZGRn///9eRJ2zAAAAW3RSTlP///////////////////////////////////////////////////////////////////////////////////////////////////////////////////////8AnPq4vAAAAT9JREFUKJFt0md7gjAQB/AMSBQRGRattta6a/fee++98v0/SJELELD3xuf53XEE80ciU3Yj/EEZZu8z5B+3h16ZkzG3zReErg9JxtmF7yCEFn5Jypnpo7BmeVlx+95zQv5cxFribHcepqfqmCZ7LvdLwN2qTpP3kloO2NrGWnJOwiUX3NF05EZP8sZJOC3daE4CT1zpORG78V0ARs+YitgNHvGRXBL6ztKBXHIWTwe+sr4mP+f0PJ4OvJjfklu8GlNcFPPTt9D4MZnio4Z8ovRGFBfWTWcOGo+cKB48sbcKR/KXieLCwm5XrtokiguK6y3ZSOeB6m358oGZyoOGqxY0CE/lQcMunMoZDBtqHijWP2QemmoegsYT3ENHzUNQuf5d8Je3vtQ8QFV6D6it5iGq/utxePFZFxW4szEXcPF/Zyend42yTBIAAAAASUVORK5CYII=\") no-repeat center center}._TF{background:url(\"data:image/png;base64,iVBORw0KGgoAAAANSUhEUgAAABcAAAAiCAMAAACDQ7KMAAABEVBMVEX///9FRUWysrL09PTz8/NERETZ2dkEBAT19fU8PDyQkJD39/ceHh7p6enq6uq0tLTa2tr9/f1QUFCqqqq/v7/8/Pytra13d3dVVVXl5eUjIyNjY2Px8fFdXV2xsbEODg4CAgK5ubno6OhTU1NlZWXy8vJMTEx4eHi7u7vw8PApKSm6urrCwsJhYWEtLS0RERGenp7v7+++vr4ICAjk5OQDAwNvb29bW1uRkZEnJydtbW0gICDIyMgTExOGhoZPT09NTU0hISFRUVFcXFwyMjLAwMBXV1esrKw9PT3s7OxCQkIkJCTf39+oqKhaWlqKioqjo6NAQEAwMDAdHR3r6+vt7e1YWFgsLCyXl5cZGRn///9eRJ2zAAAAW3RSTlP///////////////////////////////////////////////////////////////////////////////////////////////////////////////////////8AnPq4vAAAAT9JREFUKM9tkldDwjAUhTOappRSOrAgKCJb3HuLe+9t//8PMW1Sey3chzx8J/fkJjkojKruhJlC0UJm3vQxnPCSP3BGODm8QujZcjKc/CwghNzg/J8VKvFZFFdgQQFpePEj5q5/50AfimtTsmN+V4fnUlbpSKG4fwHn1PC2LQWjSuC9KPPySuAEcNFxvKGErgl4aLDLCSlMNkzAxVRPkqP8lwm4sDpKBG4CLjpOldXB0g7goXZ2oi64tr4CuF71ldNWrpBy3fqW9GY6V0h9yGtR7Y7wHyf8QdK59rWdzkmWAznM6l60O+FkU5l0PGzDPCjcrGEK8mD11ZEtRkEeOJHUrmAt/Zf6oO/KSbwUizw0VB7eWeKt8tCW7/4IcZyHz6Z43NuekckhZS103y2P5pay4UtvXM41XB6b/9DI4vAXYgand0OOeB0AAAAASUVORK5CYII=\") no-repeat center center}#is_lnsu,#is_lnsl{background-color:#000;opacity:0;position:absolute;width:100%;z-index:3}#is_lnsu{border-bottom:1px solid #666;top:0}#is_lrl,#is_loil{color:#fff;display:inline-block;font-size:13.5px;height:42px;line-height:42px;margin:2px 0;text-align:center;text-decoration:none;vertical-align:middle;width:50%}#is_lrl{border-right:1px solid #666;margin-right:-5px}#is_lnsl{border-top:1px solid #666;bottom:0;color:#fff}#is_la{font-size:12px;padding:5px}#is_lt{font-size:15px;font-weight:bold;padding-bottom:4px}#is_ld,#is_lrh{display:inline-block;margin:0;overflow:hidden;text-overflow:ellipsis;white-space:nowrap;width:50%}#is_lrh{text-align:right}.soc{padding-top:4px;color:#777}.s{color:#444}.ac{color:#222}a.fl,._cD a,.osl a{color:#1a0dab;text-decoration:none}a:link{color:#1a0dab;cursor:pointer}#tads a:link{color:#1a0dab}#tads .soc a:link{color:#777}a:visited{color:#61C}.blg a{text-decoration:none}cite,cite a:link{color:#006621;font-style:normal}#tads cite{color:#006621}.kvs{margin-top:1px}.kv,.kvs,.slp{display:block;margin-bottom:1px}.kt{border-spacing:2px 0;margin-top:1px}.f{color:#666}._pJb{color:#093}h4.r{display:inline;font-size:small;font-weight:normal}.g{line-height:1.2}._sPb{display:inline-block;vertical-align:top;overflow:hidden;position:relative}._Gnc{margin:0 0 2em 1.3em}._Gnc li{list-style-type:disc}.osl{color:#777;margin-top:4px}.r{font-size:16px;margin:0}.spell{font-size:16px}.spell_orig{font-size:13px}.spell_orig a{text-decoration:none}.spell_orig b i{font-style:normal;font-weight:normal}.th{border:1px solid #ebebeb}.ts td{padding:0}.videobox{padding-bottom:3px}.slk a{text-decoration:none}#leftnav a:hover,#leftnav .tbou a:hover,.slk h3 a,a:hover{text-decoration:underline}#mn{table-layout:fixed;width:100%}#leftnav a{color:#222;font-size:13px}#leftnav{padding:43px 4px 4px 0}.tbos{color:#dd4b39}.tbt{margin-bottom:28px}#tbd{padding:0 0 0 16px}.tbou a{color:#222}#center_col{border:0;padding:0 8px 0 0}#topstuff .e{padding-top:3px}#topstuff .sp_cnt{padding-top:6px}#ab_name{color:#dd4b39;font:20px \"Arial\";margin-left:15px}#resultStats{color:#999;font-size:13px;overflow:hidden;white-space:nowrap}.mslg>td{padding-right:1px;padding-top:2px}.slk .sld{margin-top:2px;padding:5px 0 5px 5px}.fmp{padding-top:3px}.close_btn{overflow:hidden}#fll a,#bfl a{color:#1a0dab !important;margin:0 12px;text-decoration:none !important}.ng{color:#dd4b39}#mss{margin:.33em 0 0;padding:0;display:table}._mY{display:inline-block;float:left;white-space:nowrap;padding-right:16px}#mss p{margin:0;padding-top:5px}.tn{border-bottom:1px solid #ebebeb;display:block;float:left;height:59px;line-height:54px;min-width:980px;padding:0;position:relative;white-space:nowrap}._UXb,a._UXb{color:#777;cursor:pointer;display:inline-block;font-family:arial,sans-serif;font-size:small;height:54px;line-height:54px;margin:0 8px;padding:0 8px;text-decoration:none;white-space:nowrap}._Ihd{border-bottom:3px solid #dd4b39;color:#dd4b39;font-weight:bold;margin:2px 8px 0}a._Jhd:hover{color:black;text-decoration:none;white-space:nowrap}body{margin:0;padding:0}._sxc{display:inline-block;float:left;margin-top:2px}._Hhd,a._Hhd{margin-left:1px}.sd{line-height:43px;padding:0 8px 0 9px}a:active,.osl a:active,.tbou a:active,#leftnav a:active{color:#dd4b39}#bfl a:active{color:#dd4b39 !important}.csb{background:url(/images/nav_logo229.png) no-repeat;overflow:hidden}.close_btn{background:url(/images/nav_logo229.png) no-repeat -138px -84px;height:14px;width:14px;display:block}.star{background:url(/images/nav_logo229.png) no-repeat -94px -245px;height:13px;width:65px;display:block}.star div,.star span{background:url(/images/nav_logo229.png) no-repeat 0 -245px;height:13px;width:65px;display:block}.sfbgg{background:#f1f1f1;border-bottom:1px solid #e5e5e5;height:71px}#logocont{z-index:1;padding-left:4px;padding-top:4px}#logo{display:block;height:49px;margin-top:12px;margin-left:12px;overflow:hidden;position:relative;width:137px}#logo img{left:0;position:absolute;top:-41px}.lst-a{background:white;border:1px solid #d9d9d9;border-top-color:silver;width:570px}.lst-a:hover{border:1px solid #b9b9b9;border-top:1px solid #a0a0a0;box-shadow:inset 0 1px 2px rgba(0,0,0,0.1);-webkit-box-shadow:inset 0 1px 2px rgba(0,0,0,0.1);-moz-box-shadow:inset 0 1px 2px rgba(0,0,0,0.1)}.lst-td{border:none;padding:0}.tia input{border-right:none;padding-right:0}.tia{padding-right:0}.lst{background:none;border:none;color:#000;font:16px arial,sans-serif;float:left;height:22px;margin:0;padding:3px 6px 2px 9px;vertical-align:top;width:100%;word-break:break-all}.lst:focus{outline:none}.lst-b{background:none;border:none;height:26px;padding:0 6px 0 12px}.ds{border-right:1px solid #e7e7e7;position:relative;height:29px;margin-left:17px;z-index:100}.lsbb{background-image:-moz-linear-gradient(top,#4d90fe,#4787ed);background-image:-ms-linear-gradient(top,#4d90fe,#4787ed);background-image:-o-linear-gradient(top,#4d90fe,#4787ed);background-image:-webkit-gradient(linear,left top,left bottom,from(#4d90fe),to(#4787ed));background-image:-webkit-linear-gradient(top,#4d90fe,#4787ed);background-image:linear-gradient(top,#4d90fe,#4787ed);border:1px solid #3079ed;border-radius:2px;background-color:#4d90fe;height:27px;width:68px}.lsbb:hover{background-image:-moz-linear-gradient(top,#4d90fe,#357ae8);background-image:-ms-linear-gradient(top,#4d90fe,#357ae8);background-image:-o-linear-gradient(top,#4d90fe,#357ae8);background-image:-webkit-gradient(linear,left top,left bottom,from(#4d90fe),to(#357ae8));background-image:-webkit-linear-gradient(top,#4d90fe,#357ae8);background-color:#357ae8;background-image:linear-gradient(top,#4d90fe,#357ae8);border:1px solid #2f5bb7}.lsb{background:transparent;background-position:0 -343px;background-repeat:repeat-x;border:none;color:#000;cursor:default;font:15px arial,sans-serif;height:29px;margin:0;vertical-align:top;width:100%}.lsb:active{-moz-box-shadow:inset 0 1px 2px rgba(0,0,0,0.3);-webkit-box-shadow:inset 0 1px 2px rgba(0,0,0,0.3);box-shadow:inset 0 1px 2px rgba(0,0,0,0.3);background:transparent;color:transparent;overflow:hidden;position:relative;width:100%}.sbico{color:transparent;display:inline-block;height:15px;margin:0 auto;margin-top:2px;width:15px;overflow:hidden}</style><script>(function(){window.google={kEI:\\'Vg0HWrv7G4aTkwWwxrX4BQ\\',kEXPI:\\'20782,1352960,1353804,1354276,1354723,1354915,1355218,1355263,1355736,1355866,1356031,1356078,1356369,4029815,4031109,4043492,4045841,4048347,4076999,4077776,4081039,4081164,4095910,4096834,4097153,4097469,4097922,4097929,4098733,4098740,4098752,4102238,4103254,4103475,4103861,4104258,4104414,4105241,4109316,4109490,4110287,4113217,4115290,4115697,4116351,4116724,4116731,4116926,4116935,4117328,4117980,4118227,4118303,4118798,4119032,4119034,4119036,4120415,4120660,4121035,4121518,4122382,4123641,4124091,4124850,4125837,4126202,4127312,4127445,4127744,4127775,4128586,4129520,4129555,4129633,4129721,4130416,4130419,4130560,4131074,4131247,4131642,4131834,4131851,4133090,4133113,4133125,4133245,4133416,4133435,4133798,4134062,4134268,4134440,4134711,4134883,4134919,4135088,4135249,4135364,4135576,4135744,4135856,4135926,4135934,4135954,4136136,4136221,4136235,4136314,4136397,4136459,4136549,4136562,4137098,4137110,4137129,4137461,4137463,4137597,4138341,4138386,4138579,4139436,4139797,4139927,4139947,4139950,4140032,4140117,4140410,4140783,4140986,4141049,4141065,4141122,4141142,4141183,4141351,4141393,4141725,4141727,4141847,4142231,10200084,10202524,16200026,41317155\\',authuser:0,kscs:\\'c9c918f0_Vg0HWrv7G4aTkwWwxrX4BQ\\',u:\\'c9c918f0\\',kGL:\\'GB\\'};google.kHL=\\'en-GB\\';})();(function(){google.lc=[];google.li=0;google.getEI=function(a){for(var b;a&&(!a.getAttribute||!(b=a.getAttribute(\"eid\")));)a=a.parentNode;return b||google.kEI};google.getLEI=function(a){for(var b=null;a&&(!a.getAttribute||!(b=a.getAttribute(\"leid\")));)a=a.parentNode;return b};google.https=function(){return\"https:\"==window.location.protocol};google.ml=function(){return null};google.wl=function(a,b){try{google.ml(Error(a),!1,b)}catch(d){}};google.time=function(){return(new Date).getTime()};google.log=function(a,b,d,c,g){if(a=google.logUrl(a,b,d,c,g)){b=new Image;var e=google.lc,f=google.li;e[f]=b;b.onerror=b.onload=b.onabort=function(){delete e[f]};google.vel&&google.vel.lu&&google.vel.lu(a);b.src=a;google.li=f+1}};google.logUrl=function(a,b,d,c,g){var e=\"\",f=google.ls||\"\";d||-1!=b.search(\"&ei=\")||(e=\"&ei=\"+google.getEI(c),-1==b.search(\"&lei=\")&&(c=google.getLEI(c))&&(e+=\"&lei=\"+c));c=\"\";!d&&google.cshid&&-1==b.search(\"&cshid=\")&&(c=\"&cshid=\"+google.cshid);a=d||\"/\"+(g||\"gen_204\")+\"?atyp=i&ct=\"+a+\"&cad=\"+b+e+f+\"&zx=\"+google.time()+c;/^http:/i.test(a)&&google.https()&&(google.ml(Error(\"a\"),!1,{src:a,glmm:1}),a=\"\");return a};}).call(this);(function(){google.y={};google.x=function(a,b){if(a)var c=a.id;else{do c=Math.random();while(google.y[c])}google.y[c]=[a,b];return!1};google.lm=[];google.plm=function(a){google.lm.push.apply(google.lm,a)};google.lq=[];google.load=function(a,b,c){google.lq.push([[a],b,c])};google.loadAll=function(a,b){google.lq.push([a,b])};}).call(this);google.f={};(function(){var b={gen204:\"dcl\",clearcut:4};var c=[function(){google.c&&google.tick(\"load\",b)}];google.dcl=!1;google.dclc=function(a){google.dcl?a():c.push(a)};function d(){if(!google.dcl){google.dcl=!0;for(var a;a=c.shift();)a()}}window.addEventListener?(document.addEventListener(\"DOMContentLoaded\",d,!1),window.addEventListener(\"load\",d,!1)):window.attachEvent&&window.attachEvent(\"onload\",d);}).call(this);(function(){google.c={c:{a:false,d:false,e:false,i:false,m:true,n:false}};google.sn=\\'hplus\\';(function(){var e={gen204:\"iml\",clearcut:8};var f=function(a,b,c){a.addEventListener?a.removeEventListener(b,c,!1):a.attachEvent&&a.detachEvent(\"on\"+b,c)},h=function(a,b,c){g.push({g:a,h:b,l:c});a.addEventListener?a.addEventListener(b,c,!1):a.attachEvent&&a.attachEvent(\"on\"+b,c)},g=[];google.timers={};google.startTick=function(a,b){var c=b&&google.timers[b].t?google.timers[b].t.start:google.time();google.timers[a]={t:{start:c},e:{},m:{}};(c=window.performance)&&c.now&&(google.timers[a].wsrt=Math.floor(c.now()))};google.tick=function(a,b,c){google.timers[a]||google.startTick(a);c=void 0!==c?c:google.time();b instanceof Array||(b=[b]);for(var d=0;d<b.length;++d)google.timers[a].t[b[d].clearcut]={key:b[d],ts:c}};google.c.e=function(a,b,c){google.timers[a].e[b]=c};google.c.b=function(a){var b=google.timers.load.m;b[a]&&google.wl(\"ch_mab\",{m:a});b[a]=!0};google.c.u=function(a){var b=google.timers.load.m;if(b[a]){b[a]=!1;for(a in b)if(b[a])return;google.csiReport()}else google.wl(\"ch_mnb\",{m:a})};google.rll=function(a,b,c){var d=function(b){c(b);f(a,\"load\",d);f(a,\"error\",d)};h(a,\"load\",d);b&&h(a,\"error\",d)};google.ull=function(){for(var a;a=g.shift();)f(a.g,a.h,a.l)};google.iTick=function(a){var b=google.time();google.tick(\"load\",e,b);a=a.id||a.src||a.name;google.timers.iml||google.startTick(\"iml\");google.timers.iml.t[a]=b;google.c.c.a&&(google.timers.aft||google.startTick(\"aft\"),google.timers.aft.t[a]=b)};google.afte=!0;google.aft=function(a){google.c.c.a&&google.afte&&(google.timers.aft||google.startTick(\"aft\"),google.timers.aft.t[a.id||a.src||a.name]=google.time())};google.c.c.e&&google.startTick(\"webaft\");google.startTick(\"load\");google.c.b(\"pr\");google.c.b(\"xe\");}).call(this);})();(function(){var qry=\\'test\\';var mdom = {};mdom.getElem = function(idOrElement){return typeof idOrElement == \\'string\\' ?document.getElementById(idOrElement):idOrElement;};window.onload = function(){window.n && window.n();var cb = mdom.getElem(\\'clrbtn\\');var mib = mdom.getElem(\\'mib\\');var tsf = mdom.getElem(\\'tsf\\');var mor = mdom.getElem(\\'mor\\')\\ncb.addEventListener(\"click\",function(){cb.style.display = \\'none\\';mib.value = \\'\\';var e = document.createEvent(\\'UIEvents\\');e.initUIEvent(\\'input\\',true,true,window,1);mib.dispatchEvent(e);mib.focus();},false);var mibHandler = function(){if (mib.value == \\'\\'){cb.style.display = \\'none\\';}\\nelse {cb.style.display = \\'block\\';}\\n}\\nmib.addEventListener(\"input\",mibHandler,false);mib.addEventListener(\"focus\",function(){tsf.className = \\'msfe\\';if (mib.value == \\'\\'){cb.style.display = \\'none\\';}\\nelse {cb.style.display = \\'block\\';}\\n},false);mib.addEventListener(\"blur\",function(){window.setTimeout(function(){cb.style.display = \\'none\\';if (mib != document.activeElement){tsf.className = \\'\\';}\\n},250);},false);mor.addEventListener(\"change\",function(){if (!this.value || this.value == \\'nan\\'){}else if (this.value == \\'evenmore\\'){window.location = \\'/mobile/?hl=\\' + kHL;}else {window.location = this.value;}\\nmor.selectedIndex = 0;},false);};})();(function(){var g=this,h=Date.now||function(){return+new Date};var y={};var A=function(b,d){return function(a){a||(a=window.event);return d.call(b,a)}},B=\"undefined\"!=typeof navigator&&/Macintosh/.test(navigator.userAgent),C=function(){this._mouseEventsPrevented=!0};var E=function(){this.S=[];this.o=[];this.s=[];this.R={};this.v=null;this.w=[];D(this,\"_custom\")},G=\"undefined\"!=typeof navigator&&/iPhone|iPad|iPod/.test(navigator.userAgent),H=String.prototype.trim?function(b){return b.trim()}:function(b){return b.replace(/^\\\\s+/,\"\").replace(/\\\\s+$/,\"\")},I=/\\\\s*;\\\\s*/,M=function(b,d){return function(a){var c=d;if(\"_custom\"==c){c=a.detail;if(!c||!c._type)return;c=c._type}var e;var f;\"click\"==c&&(B&&a.metaKey||!B&&a.ctrlKey||2==a.which||null==a.which&&4==a.button||\"auxclick\"==\\na.type||a.shiftKey)&&(c=\"clickmod\");var x=a.srcElement||a.target,q=J(c,a,x,\"\",null);for(f=x;f&&f!=this;f=f.__owner||f.parentNode){var k=e=f;var F=c,l=k.__jsaction;if(!l){var r=K(k,\"jsaction\");if(r){l=y[r];if(!l){l={};for(var v=r.split(I),w=0,u=v?v.length:0;w<u;w++){var m=v[w];if(m){var p=m.indexOf(\":\"),t=-1!=p,n=t?H(m.substr(0,p)):\"click\";m=t?H(m.substr(p+1)):m;l[n]=m}}y[r]=l}r=l;l={};for(n in r){v=l;w=n;b:if(u=r[n],!(0<=u.indexOf(\".\")))for(m=k;m;m=m.parentNode){p=m;t=p.__jsnamespace;void 0===t&&\\n(t=K(p,\"jsnamespace\"),p.__jsnamespace=t);if(p=t){u=p+\".\"+u;break b}if(m==this)break}v[w]=u}k.__jsaction=l}else l=L,k.__jsaction=l}k={H:F,action:l[F]||\"\",event:null,U:!1};if(k.U||k.action)break}k&&(q=J(k.H,k.event||a,x,k.action||\"\",e,q.timeStamp));q&&\"touchend\"==q.eventType&&(q.event._preventMouseEvents=C);k&&k.action||(q.action=\"\",q.actionElement=null);e=q;b.v&&(n=J(e.eventType,e.event,e.targetElement,e.action,e.actionElement,e.timeStamp),\"clickonly\"==n.eventType&&(n.eventType=\"click\"),b.v(n,!0));if(e.actionElement){\"A\"!=e.actionElement.tagName||\"click\"!=e.eventType&&\"clickmod\"!=e.eventType||(a.preventDefault?a.preventDefault():a.returnValue=!1);if(b.v)b.v(e);else{if((n=g.document)&&!n.createEvent&&n.createEventObject)try{var z=n.createEventObject(a)}catch(W){z=a}else z=a;e.event=z;b.w.push(e)}if(\"touchend\"==e.event.type&&e.event._mouseEventsPrevented){a=e.event;for(var X in a);h()}}}},J=function(b,d,a,c,e,f){return{eventType:b,event:d,targetElement:a,action:c,actionElement:e,timeStamp:f||\\nh()}},K=function(b,d){var a=null;\"getAttribute\"in b&&(a=b.getAttribute(d));return a},L={},N=function(b,d){return function(a){var c=b,e=d,f=!1;\"mouseenter\"==c?c=\"mouseover\":\"mouseleave\"==c&&(c=\"mouseout\");if(a.addEventListener){if(\"focus\"==c||\"blur\"==c||\"error\"==c||\"load\"==c)f=!0;a.addEventListener(c,e,f)}else a.attachEvent&&(\"focus\"==c?c=\"focusin\":\"blur\"==c&&(c=\"focusout\"),e=A(a,e),a.attachEvent(\"on\"+c,e));return{H:c,T:e,capture:f}}},D=function(b,d){if(!b.R.hasOwnProperty(d)&&\"mouseenter\"!=d&&\"mouseleave\"!=\\nd){var a=M(b,d),c=N(d,a);b.R[d]=a;b.S.push(c);for(a=0;a<b.o.length;++a){var e=b.o[a];e.s.push(c.call(null,e.o))}}};E.prototype.T=function(b){return this.R[b]};var S=function(b,d){var a=new O(d),c;a:{for(c=0;c<b.o.length;c++)if(P(b.o[c],d)){c=!0;break a}c=!1}if(c)return b.s.push(a),a;Q(b,a);b.o.push(a);R(b);return a},R=function(b){for(var d=b.s.concat(b.o),a=[],c=[],e=0;e<b.o.length;++e){var f=b.o[e];T(f,d)?(a.push(f),U(f)):c.push(f)}for(e=0;e<b.s.length;++e)f=b.s[e],T(f,d)?a.push(f):(c.push(f),Q(b,f));b.o=c;b.s=a},Q=function(b,d){var a=d.o;G&&(a.style.cursor=\"pointer\");for(a=0;a<b.S.length;++a)d.s.push(b.S[a].call(null,d.o))},O=function(b){this.o=b;this.s=\\n[]},P=function(b,d){for(var a=b.o,c=d;a!=c&&c.parentNode;)c=c.parentNode;return a==c},T=function(b,d){for(var a=0;a<d.length;++a)if(d[a].o!=b.o&&P(d[a],b.o))return!0;return!1},U=function(b){for(var d=0;d<b.s.length;++d){var a=b.o,c=b.s[d];a.removeEventListener?a.removeEventListener(c.H,c.T,c.capture):a.detachEvent&&a.detachEvent(\"on\"+c.H,c.T)}b.s=[]};var V=new E;S(V,window.document.documentElement);D(V,\"click\");D(V,\"focus\");D(V,\"blur\");D(V,\"touchstart\");D(V,\"touchend\");D(V,\"mousedown\");D(V,\"change\");D(V,\"contextmenu\");D(V,\"input\");D(V,\"keydown\");D(V,\"keypress\");D(V,\"keyup\");D(V,\"load\");(function(b){google.jsad=function(d){b.v=d;b.w&&(0<b.w.length&&d(b.w),b.w=null)};google.jsaac=function(d){return S(b,d)};google.jsarc=function(d){U(d);for(var a=!1,c=0;c<b.o.length;++c)if(b.o[c]===d){b.o.splice(c,1);a=!0;break}if(!a)for(c=0;c<b.s.length;++c)if(b.s[c]===d){b.s.splice(c,1);break}R(b)}})(V);}).call(this);</script></head><body class=\"hsrp\" bgcolor=\"#ffffff\" marginheight=\"0\" marginwidth=\"0\" topmargin=\"0\"><tr><th width=\"132\"></th><th width=\"573\"></th><th width=\"278\"></th><th></th></tr><div id=\"mobile-search\"><style>._Bu,._Bu a:link,._Bu a:visited,a._Bu:link,a._Bu:visited{color:#777}._kBb{color:#61C}.ellip{overflow:hidden;text-overflow:ellipsis;white-space:nowrap}._uXc{border:1px solid #e0e0e0;font-size:13px;margin:0 -6px 0 -11px;padding-bottom:5px;}._o0d{margin:4px 10px}._Z8d{background:white;border-bottom:0;border-left:0;border-right:0;border-top:1px solid #e0e0e0;cursor:pointer;height:40px;outline:0;width:100%}._Azf{color:#777;font-size:11px}._Azf a{color:#777;text-decoration:none}.xpdclpsbtn{}.xpdxpndbtn{}.xpdclpsbtn ._FGf{background:url(/images/nav_logo229.png) no-repeat -50px -79px;height:22px;width:64px}.xpdxpndbtn ._FGf{background:url(/images/nav_logo229.png) no-repeat -50px -102px;height:22px;width:64px}._tXc{color:#222;font-size:15px;line-height:normal;margin:12px 0}._rvh{margin:4px 0}._x8d{margin:10px;overflow:hidden;position:relative;white-space:nowrap;}._tNf{display:-moz-inline-stack;display:inline-block;position:relative;width:100%;z-index:0;}._i8d{display:-moz-inline-stack;display:inline-block;max-width:100%;overflow:hidden;}._uNf{position:absolute;right:0;z-index:1;}._B5d{border-top:1px solid #e0e0e0;color:#000;font-size:22px;margin-top:-5px;padding-top:10px}._C5d{color:#000;font-size:14px}._zdb{color:#777;margin:4px 0;overflow:hidden}._Pxg{margin-bottom:20px}</style><div><div id=\"sfcnt\"><form style=\"background:none;display:block\" action=\"/search\" id=\"tsf\" method=\"GET\" name=\"gs\"><div class=\"msb\" id=\"tmsb\"><div class=\"msfo\"><a href=\"/\" id=\"mlogo\"></a><div class=\"msfi\" id=\"tsfi\"><input class=\"_utb\" value=\"test\" autocomplete=\"off\" autocorrect=\"off\" id=\"mib\" maxlength=\"2048\" name=\"q\" size=\"41\" type=\"text\"></div><div class=\"cb\" id=\"clrbtn\">&#215;</div></div><button id=\"tsbb\" name=\"btnG\" type=\"submit\" value=\"\"><span class=\"sbico\" style=\"background:url(/images/nav_logo229.png) no-repeat -36px -111px;height:14px;width:13px;display:block\"></span></button></div><input name=\"dcr\" value=\"0\" type=\"hidden\"></form></div></div><div id=\"mhog_head\"><div class=\"_gY _JPb\">All</div><div class=\"_gY\"><a href=\"/search?q=test&amp;dcr=0&amp;prmd=ivns&amp;source=lnms&amp;tbm=isch&amp;sa=X&amp;ved=0ahUKEwi7_pHa4bbXAhWGyaQKHTBjDV8Q_AUIBigB\">Images</a></div><div class=\"_gY _r5c\"><select id=\"mor\" name=\"more\"><option disabled=\"\" selected=\"\" value=\"nan\">More</option><option value=\"/search?q=test&amp;dcr=0&amp;prmd=ivns&amp;source=lnms&amp;tbm=vid\">Videos</option><option value=\"/search?q=test&amp;dcr=0&amp;prmd=ivns&amp;source=lnms&amp;tbm=nws\">News</option><option value=\"/search?q=test&amp;dcr=0&amp;prmd=ivns&amp;source=lnms&amp;tbm=shop\">Shopping</option><option value=\"https://maps.google.co.uk/maps?q=test&amp;gws_rd=cr&amp;dcr=0&amp;um=1&amp;ie=UTF-8\">Maps</option><option value=\"/search?q=test&amp;dcr=0&amp;prmd=ivns&amp;source=lnms&amp;tbm=bks\">Books</option><option value=\"evenmore\">Even more &raquo;</option></select></div></div><hr><table id=\"mn\" border=\"0\" cellpadding=\"0\" cellspacing=\"0\" style=\"position:relative\"><tr><td width=\"100%\"><div id=\"_X4c\" style=\"position:relative\"><div id=\"center_col\"><div id=\"res\"><div id=\"topstuff\"></div><div id=\"search\"><div id=\"ires\"><ol><div class=\"g\"><h3 class=\"r\"><a href=\"/url?q=https://en.m.wikipedia.org/wiki/Test&amp;sa=U&amp;ved=0ahUKEwi7_pHa4bbXAhWGyaQKHTBjDV8QFggLMAA&amp;usg=AOvVaw1JRQfFb7zLKke6l7u8Hhqh\"><b>Test</b> - Wikipedia</a></h3><div class=\"s\"><div class=\"kv\" style=\"margin-bottom:2px\"><cite>https://en.m.wikipedia.org/wiki/<b>Test</b></cite></div><span class=\"st\"><b>Test</b>, <b>TEST</b> or Tester may refer to: <b>Test</b> (assessment), an assessment intended to <br>\\nmeasure the respondents&#39; knowledge&nbsp;...</span><br><div class=\"osl\">\\xe2\\x80\\x8e<a href=\"/url?q=https://en.wikipedia.org/wiki/Test_(assessment)&amp;sa=U&amp;ved=0ahUKEwi7_pHa4bbXAhWGyaQKHTBjDV8Q0gIIDSgAMAA&amp;usg=AOvVaw3F4RhILVXNrJTazgPnfIma\">Test (assessment)</a> - \\xe2\\x80\\x8e<a href=\"/url?q=https://en.wikipedia.org/wiki/Test_(Unix)&amp;sa=U&amp;ved=0ahUKEwi7_pHa4bbXAhWGyaQKHTBjDV8Q0gIIDigBMAA&amp;usg=AOvVaw0VB8Esvv8Cm3Dbhod5BJRP\">Test (Unix)</a> - \\xe2\\x80\\x8e<a href=\"/url?q=https://en.wikipedia.org/wiki/Medical_test&amp;sa=U&amp;ved=0ahUKEwi7_pHa4bbXAhWGyaQKHTBjDV8Q0gIIDygCMAA&amp;usg=AOvVaw2GgrLz73mogtXsCPLAhmhv\">Medical test</a> - \\xe2\\x80\\x8e<a href=\"/url?q=https://en.wikipedia.org/wiki/Test_(wrestler)&amp;sa=U&amp;ved=0ahUKEwi7_pHa4bbXAhWGyaQKHTBjDV8Q0gIIECgDMAA&amp;usg=AOvVaw33DOeV4kz9Vks0qsCC0FIF\">Test (wrestler)</a></div></div></div><div class=\"g\"><h3 class=\"r\"><a href=\"/url?q=https://pearsonpte.com/preparation/&amp;sa=U&amp;ved=0ahUKEwi7_pHa4bbXAhWGyaQKHTBjDV8QFggSMAE&amp;usg=AOvVaw3GczRQbEp4wWK5pFmrlHFo\">English <b>Test</b> Preparation | PTE Academic</a></h3><div class=\"s\"><div class=\"kv\" style=\"margin-bottom:2px\"><cite>https://pearsonpte.com/preparation/</cite></div><span class=\"st\">All <b>test</b> takers should prepare for PTE Academic, even if English is your first <br>\\nlanguage. <b>Test</b> takers who consider&nbsp;...</span><br></div></div><div class=\"g\"><h3 class=\"r\"><a href=\"/url?q=https://pearsonpte.com/the-test/format/&amp;sa=U&amp;ved=0ahUKEwi7_pHa4bbXAhWGyaQKHTBjDV8QFggUMAI&amp;usg=AOvVaw389Vq3V_rtqN2erCn-6xzB\">English <b>Test</b> Format | PTE Academic</a></h3><div class=\"s\"><div class=\"kv\" style=\"margin-bottom:2px\"><cite>https://pearsonpte.com/the-<b>test</b>/format/</cite></div><span class=\"st\">To complete a PTE Academic <b>test</b>, you will need to attend a secure Pearson <b>test</b> <br>\\ncenter. You will use a computer and&nbsp;...</span><br></div></div><div class=\"g\"><h3 class=\"r\"><a href=\"/url?q=http://www.speedtest.net/&amp;sa=U&amp;ved=0ahUKEwi7_pHa4bbXAhWGyaQKHTBjDV8QFggWMAM&amp;usg=AOvVaw25y5-22VHrHTANc-0tqbHd\">Speedtest.net by Ookla - The Global Broadband Speed <b>Test</b></a></h3><div class=\"s\"><div class=\"kv\" style=\"margin-bottom:2px\"><cite>www\\xe2\\x80\\x8b.speed<b>test</b>.net/</cite></div><span class=\"st\"><b>Test</b> your Internet connection bandwidth to locations around the world with this <br>\\ninteractive broadband speed <b>test</b> from&nbsp;...</span><br></div></div><div class=\"g\"><h3 class=\"r\"><a href=\"/url?q=https://broadbandtest.which.co.uk/&amp;sa=U&amp;ved=0ahUKEwi7_pHa4bbXAhWGyaQKHTBjDV8QFggYMAQ&amp;usg=AOvVaw2uegj6Loz31onMnAfHVim-\">Broadband Speed <b>Test</b></a></h3><div class=\"s\"><div class=\"kv\" style=\"margin-bottom:2px\"><cite>https://broadband<b>test</b>.which.co.uk/</cite></div><span class=\"st\">Use our tool to <b>test</b> your broadband speed and help our campaign. Plus, receive <br>\\ntips on how to improve your speed.</span><br></div></div><div class=\"g\"><h3 class=\"r\"><a href=\"/url?q=http://www.broadbandspeedchecker.co.uk/&amp;sa=U&amp;ved=0ahUKEwi7_pHa4bbXAhWGyaQKHTBjDV8QFggaMAU&amp;usg=AOvVaw3x1pwXuhUTw76L6GkngP_h\">Broadband Speed Checker - THE UK&#39;s No.1 Broadband Speed ...</a></h3><div class=\"s\"><div class=\"kv\" style=\"margin-bottom:2px\"><cite>www\\xe2\\x80\\x8b.broadbandspeedchecker.co.uk/</cite></div><span class=\"st\">Start the Internet Speed <b>Test</b> by clicking the black Start speed <b>test</b> under the dials. <br>\\nThe Broadband Speed <b>Test</b> will start&nbsp;...</span><br></div></div><div class=\"g\"><h3 class=\"r\"><a href=\"/url?q=https://www.wikijob.co.uk/aptitude-tests-home&amp;sa=U&amp;ved=0ahUKEwi7_pHa4bbXAhWGyaQKHTBjDV8QFggcMAY&amp;usg=AOvVaw2kVg3qZ5IcWIwa1HKhYaIB\">Free Practice Aptitude <b>Tests</b>: Take A Free <b>Test</b> Now! | WikiJob</a></h3><div class=\"s\"><div class=\"kv\" style=\"margin-bottom:2px\"><cite>https://www\\xe2\\x80\\x8b.wikijob.co.uk/aptitude-<b>tests</b>-<wbr>...</cite></div><span class=\"st\">Try out six free practice aptitude <b>tests</b> covering all the major types of psychometric <br>\\n<b>test</b> employers use.</span><br></div></div><div class=\"g\"><h3 class=\"r\"><a href=\"/url?q=https://www.psychologies.co.uk/tests&amp;sa=U&amp;ved=0ahUKEwi7_pHa4bbXAhWGyaQKHTBjDV8QFggeMAc&amp;usg=AOvVaw1DzWS8uA0ZZP4xkJeHj4SD\"><b>tests</b> | Psychologies</a></h3><div class=\"s\"><div class=\"kv\" style=\"margin-bottom:2px\"><cite>https://www\\xe2\\x80\\x8b.psychologies.co.uk/<b>tests</b></cite></div><span class=\"st\"><b>Test</b>: What life upgrade do you need to install right now? Are you living your <br>\\nsecond-best life? Identifying the key&nbsp;...</span><br></div></div><div class=\"g\"><h3 class=\"r\"><a href=\"/url?q=https://myaccount.talktalk.co.uk/speed-checker/&amp;sa=U&amp;ved=0ahUKEwi7_pHa4bbXAhWGyaQKHTBjDV8QFgggMAg&amp;usg=AOvVaw2mG-lEZIQ3Cs6jz4uUbEDD\">Broadband speed checker - TalkTalk - My Account</a></h3><div class=\"s\"><div class=\"kv\" style=\"margin-bottom:2px\"><cite>https://myaccount.talktalk.co.uk/speed-<wbr>...</cite></div><span class=\"st\">Getting started; <b>Test</b> your speed; Your results; Improve your speed; Feedback. <br>\\nEasily see your exact broadband speed,&nbsp;...</span><br></div></div><div class=\"g\"><h3 class=\"r\"><a href=\"/url?q=https://lifeintheuktests.co.uk/life-in-the-uk-test/&amp;sa=U&amp;ved=0ahUKEwi7_pHa4bbXAhWGyaQKHTBjDV8QFggiMAk&amp;usg=AOvVaw2YIUWlY73ZO713G2Z0r326\">Life in the UK <b>Test</b> 2017 - Free Practice Questions - Realistic ...</a></h3><div class=\"s\"><div class=\"kv\" style=\"margin-bottom:2px\"><cite>https://lifeintheuk<b>tests</b>.co.uk/life-in-the-u...</cite></div><span class=\"st\">Get ready for the Life in the UK <b>Test</b> online. Access over 40 practice <b>tests</b>, no <br>\\nregistration required. Click here to get&nbsp;...</span><br></div></div><div class=\"g\"><div class=\"_uXc hp-xpdbox\"><div class=\"_x8d\" style=\"float:right\"><div class=\"_i8d\" style=\"height:110px;width:90px\"><a href=\"/url?q=http://tutorials.istudy.psu.edu/testing/&amp;sa=U&amp;ved=0ahUKEwi7_pHa4bbXAhWGyaQKHTBjDV8QndQBCCkwCg&amp;usg=AOvVaw13UzrRX_pVfru9rP3EbqA3\"><img src=\"https://encrypted-tbn0.gstatic.com/images?q=tbn:ANd9GcStAZuQ6htsSjgkrxvLtYBh6-owJAYQoii-44uliHr3kkZMSV4DNhfmqw8\" style=\"margin-left:-42px;margin-right:-44px\" alt=\"Image result for test\"></a></div></div><div class=\"_o0d\"><div><div class=\"_B5d\">Test</div><div class=\"_zdb _Pxg\">Assessment</div></div></div><div class=\"_o0d\"><div class=\"_tXc\"><span>A test or examination is an assessment intended to measure a test-taker\\'s knowledge, skill, aptitude, physical fitness, or classification in many other topics. <a class=\"fl\" href=\"/url?q=https://en.m.wikipedia.org/wiki/Test_(assessment)&amp;sa=U&amp;ved=0ahUKEwi7_pHa4bbXAhWGyaQKHTBjDV8QmhMILygAMAw&amp;usg=AOvVaw10fzBXPrDqcyzxupPuTCOx\">Wikipedia</a></span></div></div><div class=\"_o0d\" style=\"display:none\"></div></div></div></ol></div></div></div><div style=\"clear:both;margin-bottom:17px;overflow:hidden;padding-left:6px\"><div style=\"font-size:16px;padding:0 8px 1px\">Searches related to <b>test</b></div><table border=\"0\" cellpadding=\"0\" cellspacing=\"0\"><tr><td valign=\"top\"><p class=\"_Bmc\" style=\"margin:3px 8px\"><a href=\"/search?dcr=0&amp;q=test+2&amp;sa=X&amp;ved=0ahUKEwi7_pHa4bbXAhWGyaQKHTBjDV8Q1QIINCgA\">test <b>2</b></a></p></td><td valign=\"top\" style=\"padding-left:10px\"><p class=\"_Bmc\" style=\"margin:3px 8px\"><a href=\"/search?dcr=0&amp;q=test+definition&amp;sa=X&amp;ved=0ahUKEwi7_pHa4bbXAhWGyaQKHTBjDV8Q1QIINSgB\">test <b>definition</b></a></p></td></tr><tr><td valign=\"top\"><p class=\"_Bmc\" style=\"margin:3px 8px\"><a href=\"/search?dcr=0&amp;q=test+wwe&amp;sa=X&amp;ved=0ahUKEwi7_pHa4bbXAhWGyaQKHTBjDV8Q1QIINigC\">test <b>wwe</b></a></p></td><td valign=\"top\" style=\"padding-left:10px\"><p class=\"_Bmc\" style=\"margin:3px 8px\"><a href=\"/search?dcr=0&amp;q=fun+test&amp;sa=X&amp;ved=0ahUKEwi7_pHa4bbXAhWGyaQKHTBjDV8Q1QIINygD\"><b>fun</b> test</a></p></td></tr><tr><td valign=\"top\"><p class=\"_Bmc\" style=\"margin:3px 8px\"><a href=\"/search?dcr=0&amp;q=test2&amp;sa=X&amp;ved=0ahUKEwi7_pHa4bbXAhWGyaQKHTBjDV8Q1QIIOCgE\"><b>test2</b></a></p></td><td valign=\"top\" style=\"padding-left:10px\"><p class=\"_Bmc\" style=\"margin:3px 8px\"><a href=\"/search?dcr=0&amp;q=pte+exam+sample+papers&amp;sa=X&amp;ved=0ahUKEwi7_pHa4bbXAhWGyaQKHTBjDV8Q1QIIOSgF\"><b>pte exam sample papers</b></a></p></td></tr><tr><td valign=\"top\"><p class=\"_Bmc\" style=\"margin:3px 8px\"><a href=\"/search?dcr=0&amp;q=test+speed&amp;sa=X&amp;ved=0ahUKEwi7_pHa4bbXAhWGyaQKHTBjDV8Q1QIIOigG\">test <b>speed</b></a></p></td><td valign=\"top\" style=\"padding-left:10px\"><p class=\"_Bmc\" style=\"margin:3px 8px\"><a href=\"/search?dcr=0&amp;q=pte+academic+practice+test&amp;sa=X&amp;ved=0ahUKEwi7_pHa4bbXAhWGyaQKHTBjDV8Q1QIIOygH\"><b>pte academic practice</b> test</a></p></td></tr></table></div></div><div id=\"foot\"><table id=\"_gfb\"><tr valign=\"top\"><td class=\"b navend\"><b></b></td><td><b>1</b></td><td><a class=\"fl\" href=\"/search?q=test&amp;dcr=0&amp;prmd=ivns&amp;ei=Vg0HWrv7G4aTkwWwxrX4BQ&amp;start=10&amp;sa=N\">2</a></td><td><a class=\"fl\" href=\"/search?q=test&amp;dcr=0&amp;prmd=ivns&amp;ei=Vg0HWrv7G4aTkwWwxrX4BQ&amp;start=20&amp;sa=N\">3</a></td><td><a class=\"fl\" href=\"/search?q=test&amp;dcr=0&amp;prmd=ivns&amp;ei=Vg0HWrv7G4aTkwWwxrX4BQ&amp;start=30&amp;sa=N\">4</a></td><td><a class=\"fl\" href=\"/search?q=test&amp;dcr=0&amp;prmd=ivns&amp;ei=Vg0HWrv7G4aTkwWwxrX4BQ&amp;start=40&amp;sa=N\">5</a></td><td class=\"b navend\"><a class=\"fl\" href=\"/search?q=test&amp;dcr=0&amp;prmd=ivns&amp;ei=Vg0HWrv7G4aTkwWwxrX4BQ&amp;start=10&amp;sa=N\">Next<span style=\"padding-right:8px\">&nbsp;&raquo;</span></a></td></tr></table> <div align=\"center\" id=\"_rPb\">  <div class=\"_oob\">  <a href=\"https://accounts.google.com/ServiceLogin?continue=https://www.google.co.uk/search%3Fq%3Dtest%26gws_rd%3Dcr%26dcr%3D0%26ei%3DVg0HWorQFoO1kwWCqba4Bw&amp;btmpl=mobile_tier2&amp;hl=en\">Sign in</a>  </div> <hr>  <div class=\"_G2\"> <div class=\"_Pt\"> <span id=\"_lwb\">View Google in:</span> <b>Mobile</b> | <a href=\"/search?nomo=1&amp;hl=en-GB&amp;q=test\">Classic</a> </div> <div class=\"_Pt\"><span><a href=\"/intl/en-GB/policies/privacy/\">Privacy</a></span><span><a href=\"/intl/en-GB/policies/terms/\">Terms</a></span></div> <div class=\"_Pt\"> <span> <a href=\"/preferences?hl=en-GB\">Settings</a> </span> <span> <a href=\"/tools/feedback/survey/xhtml?productId=196&amp;bucket=typeId:84156&amp;psd_tier=2&amp;hl=en-GB&amp;psd_q=test\">Feedback</a> </span> <span> <a href=\"/support/websearch/bin/answer.py?answer=134479&amp;hl=en-GB\">Help</a> </span> </div> </div> </div>  </div></div></td></tr></table></div><script type=\"text/javascript\">(function(){var eventid=\\'Vg0HWrv7G4aTkwWwxrX4BQ\\';google.kEI = eventid;})();</script><div id=\"xjsd\"></div><div id=\"xjsi\"><script>(function(){function c(b){window.setTimeout(function(){var a=document.createElement(\"script\");a.src=b;google.timers&&google.timers.load.t&&google.tick(\"load\",{gen204:\"xjsls\",clearcut:31});document.getElementById(\"xjsd\").appendChild(a)},0)}google.dljp=function(b,a){google.xjsu=b;c(a)};google.dlj=c;}).call(this);(function(){var r=[];google.plm(r);})();if(!google.xjs){window._=window._||{};window._DumpException=window._._DumpException=function(e){throw e};google.dljp(\\'/xjs/_/js/k\\\\x3dxjs.mhp.en_US.XPyUl_Q9BDY.O/m\\\\x3dsb_mobh,hjsa,d,csi/am\\\\x3dAAAG/rt\\\\x3dj/d\\\\x3d1/t\\\\x3dzcms/rs\\\\x3dACT90oE1wP8RqvlueYLeF8ZfQNphyxkUyw\\',\\'/xjs/_/js/k\\\\x3dxjs.mhp.en_US.XPyUl_Q9BDY.O/m\\\\x3dsb_mobh,hjsa,d,csi/am\\\\x3dAAAG/rt\\\\x3dj/d\\\\x3d1/t\\\\x3dzcms/rs\\\\x3dACT90oE1wP8RqvlueYLeF8ZfQNphyxkUyw\\');google.xjs=1;}google.pmc={\"sb_mobh\":{\"agen\":false,\"cgen\":false,\"client\":\"heirloom-hp\",\"dh\":true,\"dhqt\":true,\"ds\":\"\",\"fl\":true,\"host\":\"google.co.uk\",\"isbh\":28,\"jam\":0,\"jsonp\":true,\"msgs\":{\"chi\":\"Click OK to clear the following searches from history:\",\"chl\":\"Clear History\",\"chmi\":\"Go to Preferences for more options.\",\"cibl\":\"Clear Search\",\"dym\":\"Did you mean:\",\"lcky\":\"I\\\\u0026#39;m Feeling Lucky\",\"lml\":\"Learn more\",\"oskt\":\"Input tools\",\"psrc\":\"This search was removed from your \\\\u003Ca href=\\\\\"/history\\\\\"\\\\u003EWeb History\\\\u003C/a\\\\u003E\",\"psrl\":\"Remove\",\"sbit\":\"Search by image\",\"srch\":\"Google Search\"},\"nds\":true,\"ovr\":{},\"pq\":\"test\",\"sbpl\":24,\"sbpr\":24,\"scd\":10,\"sce\":5,\"stok\":\"WCIgkWXeQDDo6apm-ldLuH9XFDI\"},\"dvl\":{\"cookie_secure\":true,\"cookie_timeout\":86400,\"jsc\":\"[null,null,null,30000,null,null,null,2]\\\\n\",\"mnr_crd\":\"1\",\"msg_dsc\":\"From your Internet address\",\"msg_dvl\":\"Reported by this phone\",\"msg_err\":\"Location unavailable\",\"msg_gps\":\"Using GPS\",\"msg_unk\":\"Unknown\",\"msg_upd\":\"Update location\",\"msg_use\":\"Use precise location\",\"uul_text\":\"E15, London\"},\"hjsa\":{},\"hpkx\":{},\"mad\":{},\"d\":{},\"csi\":{\"acsi\":true,\"jsmf\":true},\"aWiv7g\":{},\"YFCs/g\":{}};google.plm([\\'dvl\\',\\'hpkx\\',\\'mad\\']);google.x(null,function(){});</script></div><script>(function(){window.google.cdo={height:0,width:0};(function(){var a=window.innerWidth,b=window.innerHeight;if(!a||!b){var c=window.document,d=\"CSS1Compat\"==c.compatMode?c.documentElement:c.body;a=d.clientWidth;b=d.clientHeight}a&&b&&(a!=google.cdo.width||b!=google.cdo.height)&&google.log(\"\",\"\",\"/client_204?&atyp=i&biw=\"+a+\"&bih=\"+b+\"&ei=\"+google.kEI);}).call(this);})();(function(){var e={gen204:\"aft\",clearcut:1},f={gen204:\"iml\",clearcut:8},h={gen204:\"ol\",clearcut:14},k={gen204:\"prt\",clearcut:16};function l(a){if(!a||\"none\"==a.style.display)return!1;if(document.defaultView&&document.defaultView.getComputedStyle){var c=document.defaultView.getComputedStyle(a);if(c&&(\"hidden\"==c.visibility||\"0px\"==c.height||\"0px\"==c.width))return!1}if(!a.getBoundingClientRect)return!0;a=a.getBoundingClientRect();c=a.left+window.pageXOffset;var b=a.top+window.pageYOffset;return 0>b+a.height||0>c+a.width||0>=a.height||0>=a.width?!1:b<=(window.innerHeight||document.documentElement.clientHeight)&&c<=(window.innerWidth||\\ndocument.documentElement.clientWidth)};var m,n,p,q,r=0,u=0;function v(a){m.removeEventListener(\"click\",v);a.stopPropagation&&a.stopPropagation()}function w(a){++p;a=a||window.event;google.iTick(a.target||a.srcElement)}\\nvar x=function(){var a=google.timers.webaft;var c=a.t;var b=c.start;a=\"/gen_204?s=webaft&atyp=csi&ei=\"+google.kEI+\"&rt=wsrt.\"+a.wsrt;for(var g in c){var d=c[g];\"start\"!=g&&d&&b&&(a+=\",\"+d.key.gen204+\".\"+(d.ts-b))}google.cshid&&(a+=\"&cshid=\"+google.cshid);c=a;google.c.c.e&&(m?(m.setAttribute(\"ping\",c),m.click()):navigator.sendBeacon?navigator.sendBeacon(c,\"\"):google.log(\"\",\"\",c))},y=function(a){google.rll(a,!1,function(){++u;0<u&&u==r&&(google.tick(\"webaft\",e),x())})};(function(){google.c.c.e&&(m=document.getElementById(\"csi-ping\"))&&m.addEventListener(\"click\",v);if(google.timers&&google.timers.load.t){google.c.c.a&&(google.startTick(\"aft\"),google.afte=!1);var a=document.getElementsByTagName(\"img\");n=a.length;for(var c=p=0,b;c<n;++c)if(b=a[c],google.c.c.i&&\"none\"==b.style.display)++p;else{var g=\"string\"!=typeof b.src||!b.src,d=g||b.complete;if(b.getAttribute(\"data-noaft\"))d=!0;else if(google.c.c.d){var t=b.id;google.ldi&&t&&t in google.ldi?(b.removeAttribute(\"data-deferred\"),b.setAttribute(\"lazy-loaded\",\"\")):b.getAttribute(\"data-deferred\")?(d=!1,b.removeAttribute(\"data-deferred\")):(g||\"data:image/gif;base64,R0lGODlhAQABAIAAAP///////yH5BAEKAAEALAAAAAABAAEAAAICTAEAOw==\"===b.src)&&b.setAttribute(\"lazy-loaded\",\"\")}else google.c.c.m&&g&&b.getAttribute(\"data-bsrc\")&&(d=!1);d?++p:(google.rll(b,!0,w),google.c.c.e&&l(b)&&(++r,y(b)))}q=n-p;google.rll(window,!1,function(){google.tick(\"load\",h);google.c.e(\"load\",\"imc\",String(p));google.c.e(\"load\",\"imn\",String(n));google.c.e(\"load\",\"imp\",String(q));google.c.u(\"pr\")});google.tick(\"load\",[k,f]);google.c.c.e&&(google.tick(\"webaft\",[k,e]),0==r&&x())}google.c.c.n&&0<document.getElementsByClassName(\"native_iml_flag\").length&&google.c.b(\"ncr\")})();}).call(this);</script></body></html>'\n"
     ]
    }
   ],
   "source": [
    "# using an android user agent header to get rpund google kn0wing we are python\n",
    "try:\n",
    "    headers = {}\n",
    "    headers['User-Agent']= 'Mozilla/5.0 (Android 4.4; Mobile; rv:41.0) Gecko/41.0 Firefox/41.0'\n",
    "    url ='https://google.com/search?q=test'\n",
    "    req = urllib.request.Request(url, headers=headers)\n",
    "    resp = urllib.request.urlopen(req)\n",
    "    respData = resp.read()\n",
    "    print(respData)\n",
    "except Exception as e:\n",
    "    print(str(e))\n",
    "        "
   ]
  },
  {
   "cell_type": "code",
   "execution_count": 40,
   "metadata": {},
   "outputs": [
    {
     "data": {
      "text/plain": [
       "[('Host', 'google.com'),\n",
       " ('User-agent',\n",
       "  'Mozilla/5.0 (Android 4.4; Mobile; rv:41.0) Gecko/41.0 Firefox/41.0')]"
      ]
     },
     "execution_count": 40,
     "metadata": {},
     "output_type": "execute_result"
    }
   ],
   "source": [
    "req.header_items()"
   ]
  },
  {
   "cell_type": "markdown",
   "metadata": {
    "collapsed": true
   },
   "source": [
    "## Regular Expressions "
   ]
  },
  {
   "cell_type": "code",
   "execution_count": 45,
   "metadata": {},
   "outputs": [
    {
     "name": "stdout",
     "output_type": "stream",
     "text": [
      "\n",
      "Identifiers\n",
      "\n",
      "\\d Any digit\n",
      "\\D Any Non-digit\n",
      "\\s Space\n",
      "\\s Any Non-space\n",
      "\\w Any character\n",
      "\\W Anythin but a character\n",
      ". Any character except newline\n",
      "\b White space around words\n",
      "\\. Full stop\n",
      "\n",
      "Modifiers\n",
      "{1,3} We're expecting 1-3 \n",
      "+ Match 1 or more\n",
      "? Match 0 or 1\n",
      "* Match 0 or more\n",
      "$ Match the end of a string\n",
      "^ Match the beginning of a string\n",
      "| Or\n",
      "[] range e.g. [0-9A-Z]\n",
      "{x} We're expecting x\n",
      "\n",
      "White space Characters\n",
      "\n",
      " New-line\n",
      "\\s Space\n",
      "\t Tab\n",
      "\\e Escape\n",
      "\f",
      " Form feed\n",
      "\r",
      " Carriage return\n",
      "\n",
      "Don't forget\n",
      ". + * ? [ ] $ ^ { } | \n"
     ]
    }
   ],
   "source": [
    "print(\"\"\"\n",
    "Identifiers\n",
    "\n",
    "\\d Any digit\n",
    "\\D Any Non-digit\n",
    "\\s Space\n",
    "\\s Any Non-space\n",
    "\\w Any character\n",
    "\\W Anythin but a character\n",
    ". Any character except newline\n",
    "\\b White space around words\n",
    "\\. Full stop\n",
    "\n",
    "Modifiers\n",
    "{1,3} We're expecting 1-3 \n",
    "+ Match 1 or more\n",
    "? Match 0 or 1\n",
    "* Match 0 or more\n",
    "$ Match the end of a string\n",
    "^ Match the beginning of a string\n",
    "| Or\n",
    "[] range e.g. [0-9A-Z]\n",
    "{x} We're expecting x\n",
    "\n",
    "White space Characters\n",
    "\\n New-line\n",
    "\\s Space\n",
    "\\t Tab\n",
    "\\e Escape\n",
    "\\f Form feed\n",
    "\\r Carriage return\n",
    "\n",
    "Don't forget\n",
    ". + * ? [ ] $ ^ { } | \\\n",
    "\"\"\")"
   ]
  },
  {
   "cell_type": "code",
   "execution_count": 46,
   "metadata": {
    "collapsed": true
   },
   "outputs": [],
   "source": [
    "import re\n",
    "exampleString = \"\"\"\n",
    "Jessica is 15 years old, and Daniel is 27 years old.\n",
    "Edward is 97, and his grandfather, Oscar, is 102.\n",
    "\"\"\"\n",
    "ages = re.findall(r'\\d+',exampleString)\n",
    "names = re.findall(r'[A-Z]\\w+',exampleString)"
   ]
  },
  {
   "cell_type": "code",
   "execution_count": 47,
   "metadata": {},
   "outputs": [
    {
     "name": "stdout",
     "output_type": "stream",
     "text": [
      "['15', '27', '97', '102']\n",
      "['Jessica', 'Daniel', 'Edward', 'Oscar']\n"
     ]
    },
    {
     "data": {
      "text/plain": [
       "{'Daniel': '102', 'Edward': '102', 'Jessica': '102', 'Oscar': '102'}"
      ]
     },
     "execution_count": 47,
     "metadata": {},
     "output_type": "execute_result"
    }
   ],
   "source": [
    "print(ages)\n",
    "print(names)\n",
    "\n",
    "ageDict = {}\n",
    "\n",
    "for name in names:\n",
    "    for age in ages:\n",
    "        ageDict[name] = age\n",
    "        \n",
    "ageDict"
   ]
  },
  {
   "cell_type": "markdown",
   "metadata": {
    "collapsed": true
   },
   "source": [
    "## Regular expression on HTML"
   ]
  },
  {
   "cell_type": "code",
   "execution_count": 76,
   "metadata": {},
   "outputs": [],
   "source": [
    "import urllib.request\n",
    "import urllib.parse\n",
    "import re\n",
    "\n",
    "url = \"http://pythonprogramming.net\"\n",
    "values = { \"s\":\"basics\",\n",
    "         \"submit\":\"search\"}\n",
    "data = urllib.parse.urlencode(values)\n",
    "data = data.encode(\"utf-8\")\n",
    "req = urllib.request.Request(url, data)\n",
    "resp = urllib.request.urlopen(req)\n",
    "respData = resp.read()\n",
    "# print(respData)\n",
    "\n",
    "paragraphs = re.findall(r\"<p>(.*?)</p>\",str(respData))"
   ]
  },
  {
   "cell_type": "code",
   "execution_count": 77,
   "metadata": {},
   "outputs": [
    {
     "name": "stdout",
     "output_type": "stream",
     "text": [
      "Learn how to use Python with Pandas, Matplotlib, and other modules to gather insights from and about your data.\n",
      "\n",
      "Control hardware with Python programming and the Raspberry Pi.\n",
      "\n",
      "How to develop websites with either the Flask or Django frameworks for Python.\n",
      "\n"
     ]
    }
   ],
   "source": [
    "for i, p in enumerate(paragraphs):\n",
    "    if i < 3:\n",
    "        print(p)\n",
    "        print()"
   ]
  },
  {
   "cell_type": "markdown",
   "metadata": {},
   "source": [
    "## TKinter - Windows, Buttons, Events, Images and Menu"
   ]
  },
  {
   "cell_type": "code",
   "execution_count": 28,
   "metadata": {},
   "outputs": [
    {
     "name": "stdout",
     "output_type": "stream",
     "text": [
      "I didn't really save\n"
     ]
    }
   ],
   "source": [
    "from tkinter import *\n",
    "from PIL import Image, ImageTk\n",
    "class Window(Frame):\n",
    "    \n",
    "    def __init__(self,master=None):\n",
    "        Frame.__init__(self, master)\n",
    "        self.master = master\n",
    "        \n",
    "        self.init_window()\n",
    "    \n",
    "    def init_window(self):\n",
    "        \n",
    "        self.master.title(\"Simon's GUI\")\n",
    "        \n",
    "        self.pack(fill=BOTH, expand=1)\n",
    "        \n",
    "#         # Example Button\n",
    "#         quitButton = Button(master=self, text=\"Quit\", command=self.client_exit)\n",
    "#         quitButton.place(x=0,y=0)\n",
    "        \n",
    "       # Define the main menu object and add it to root \n",
    "        menu = Menu(self.master)\n",
    "        self.master.config(menu=menu)\n",
    "        \n",
    "        # define file drop down\n",
    "        file = Menu(menu)\n",
    "        file.add_command(label=\"Exit\",command=self.client_exit)\n",
    "        file.add_command(label=\"Save\",command=lambda: print(\"I didn't really save\"))\n",
    "        file.add_command(label=\"Say hi\",command=lambda: print(\"Hi Simon\"))\n",
    "        menu.add_cascade(label=\"File\",menu=file)\n",
    "    \n",
    "        # Define edit drop down\n",
    "        edit = Menu(menu)\n",
    "        edit.add_command(label=\"Show Image\",command=self.showImg)\n",
    "        edit.add_command(label=\"Show Text\",command=self.showText)\n",
    "        menu.add_cascade(label=\"Edit\",menu=edit)\n",
    "    \n",
    "    def showImg(self):\n",
    "        load = Image.open(\"./examplePic.JPG\")\n",
    "        render = ImageTk.PhotoImage(load)\n",
    "        img = Label(self, image=render)\n",
    "        img.image = render\n",
    "        img.place(x=0,y=0)\n",
    "    \n",
    "    def showText(self):\n",
    "        text = Label(self,text=\"Hey there\")\n",
    "        text.pack()\n",
    "                         \n",
    "    def client_exit(self):\n",
    "        self.master.destroy()\n",
    "\n",
    "root = Tk()\n",
    "root.geometry(\"400x400\")\n",
    "app = Window(root)\n",
    "root.mainloop()"
   ]
  },
  {
   "cell_type": "markdown",
   "metadata": {},
   "source": [
    "## Threading "
   ]
  },
  {
   "cell_type": "code",
   "execution_count": 43,
   "metadata": {},
   "outputs": [
    {
     "name": "stdout",
     "output_type": "stream",
     "text": [
      "Thread-144 8Thread-143\n",
      " Thread-145Thread-141Thread-1427  Thread-140Thread-139Thread-138Thread-137Thread-136 \n",
      "95     60\n",
      "\n",
      "4321\n",
      "\n",
      "\n",
      "\n",
      "\n",
      "\n",
      "Thread-144 10\n",
      "Thread-143 11\n",
      "Thread-145 12\n",
      "Thread-141 13\n",
      "Thread-142 14\n",
      "Thread-140 15\n",
      "Thread-139 16\n",
      "Thread-138 17\n",
      "Thread-137 18\n",
      "Thread-136 19Entire job took\n",
      " 1.154599666595459\n"
     ]
    }
   ],
   "source": [
    "# threading and queue are python inbuilts\n",
    "import threading \n",
    "from queue import Queue\n",
    "import time # To mimic processing\n",
    "\n",
    "print_lock = threading.Lock()\n",
    "\n",
    "def exampleJob(worker):\n",
    "    time.sleep(0.5)\n",
    "    \n",
    "    with print_lock:\n",
    "        print(threading.currentThread().name, worker)\n",
    "        \n",
    "\n",
    "def threader():\n",
    "    while True:\n",
    "        worker = q.get()\n",
    "        exampleJob(worker)\n",
    "        q.task_done()\n",
    "        \n",
    "# queue of workers\n",
    "q = Queue()\n",
    "\n",
    "    \n",
    "start = time.time()\n",
    "\n",
    "for x in range(10):\n",
    "    t = threading.Thread(target = threader)\n",
    "    t.daemon = True\n",
    "    t.start()\n",
    "\n",
    "\n",
    "for worker in range(20):\n",
    "    q.put(worker)\n",
    "    \n",
    "q.join()\n",
    "\n",
    "print(\"Entire job took\", time.time() - start)"
   ]
  },
  {
   "cell_type": "code",
   "execution_count": null,
   "metadata": {
    "collapsed": true
   },
   "outputs": [],
   "source": []
  },
  {
   "cell_type": "code",
   "execution_count": null,
   "metadata": {
    "collapsed": true
   },
   "outputs": [],
   "source": []
  },
  {
   "cell_type": "code",
   "execution_count": null,
   "metadata": {
    "collapsed": true
   },
   "outputs": [],
   "source": []
  }
 ],
 "metadata": {
  "kernelspec": {
   "display_name": "Python 3",
   "language": "python",
   "name": "python3"
  },
  "language_info": {
   "codemirror_mode": {
    "name": "ipython",
    "version": 3
   },
   "file_extension": ".py",
   "mimetype": "text/x-python",
   "name": "python",
   "nbconvert_exporter": "python",
   "pygments_lexer": "ipython3",
   "version": "3.6.1"
  }
 },
 "nbformat": 4,
 "nbformat_minor": 2
}
